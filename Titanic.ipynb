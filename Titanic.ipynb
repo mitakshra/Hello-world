{
  "nbformat": 4,
  "nbformat_minor": 0,
  "metadata": {
    "colab": {
      "name": "Titanic.ipynb",
      "provenance": [],
      "include_colab_link": true
    },
    "kernelspec": {
      "name": "python3",
      "display_name": "Python 3"
    }
  },
  "cells": [
    {
      "cell_type": "markdown",
      "metadata": {
        "id": "view-in-github",
        "colab_type": "text"
      },
      "source": [
        "<a href=\"https://colab.research.google.com/github/mitakshra/Hello-world/blob/master/Titanic.ipynb\" target=\"_parent\"><img src=\"https://colab.research.google.com/assets/colab-badge.svg\" alt=\"Open In Colab\"/></a>"
      ]
    },
    {
      "cell_type": "markdown",
      "metadata": {
        "id": "-VQY8ScsTN7W"
      },
      "source": [
        "# HOW MANY PASSENGERS SURVIVED IN SHIP WRECK\n",
        "\n",
        "---\n",
        "\n"
      ]
    },
    {
      "cell_type": "code",
      "metadata": {
        "id": "eTKkGMeO85pZ"
      },
      "source": [
        "!pip install -U -q PyDrive\n",
        "from pydrive.auth import GoogleAuth\n",
        "from pydrive.drive import GoogleDrive\n",
        "from google.colab import auth\n",
        "from oauth2client.client import GoogleCredentials\n"
      ],
      "execution_count": 1,
      "outputs": []
    },
    {
      "cell_type": "code",
      "metadata": {
        "id": "iTqr7oJj55Cj"
      },
      "source": [
        "auth.authenticate_user()\n",
        "gauth = GoogleAuth()\n",
        "gauth.credentials = GoogleCredentials.get_application_default()\n",
        "drive = GoogleDrive(gauth)\n"
      ],
      "execution_count": 2,
      "outputs": []
    },
    {
      "cell_type": "code",
      "metadata": {
        "id": "r1_jHhrT6b7l"
      },
      "source": [
        "downloaded = drive.CreateFile({'id':'13_b6pxM1obBkCgdYMx9JiNu50XUwK_Jh'}) # replace the id with id of file you want to access\n",
        "downloaded.GetContentFile('train.csv')\n"
      ],
      "execution_count": 5,
      "outputs": []
    },
    {
      "cell_type": "code",
      "metadata": {
        "id": "XVyJowz-HpSO"
      },
      "source": [
        "downloaded = drive.CreateFile({'id':'1wQHr69B28yXEHQp-JoZWRyVbPJzsQmrn'}) # replace the id with id of file you want to access\n",
        "downloaded.GetContentFile('test.csv')"
      ],
      "execution_count": 6,
      "outputs": []
    },
    {
      "cell_type": "markdown",
      "metadata": {
        "id": "i42aUuArH51b"
      },
      "source": [
        "#** Exploratory data Analysis of TITANIC **"
      ]
    },
    {
      "cell_type": "code",
      "metadata": {
        "id": "3uyzPRrCICfl"
      },
      "source": [
        "#DATA Manipulation\n",
        "import pandas as pd\n",
        "import numpy as np\n",
        "\n",
        "#DATA Visualization\n",
        "import matplotlib.pyplot as plt\n",
        "import seaborn as sns\n",
        "import missingno\n",
        "#from pandas.tools.plotting import scatter_matrix\n",
        "\n",
        "#Feature selection and encoding\n",
        "from sklearn.feature_selection import RFE,RFECV\n",
        "from sklearn.svm import SVR\n",
        "from sklearn.decomposition import PCA\n",
        "from sklearn.preprocessing import OneHotEncoder,LabelEncoder,label_binarize\n",
        "\n",
        "#Machine Learning\n",
        "import sklearn.ensemble as ske\n",
        "from sklearn import datasets, model_selection, tree, preprocessing, metrics, linear_model\n",
        "from sklearn.svm import LinearSVC\n",
        "from sklearn.ensemble import RandomForestClassifier, GradientBoostingClassifier\n",
        "from sklearn.neighbors import KNeighborsClassifier\n",
        "from sklearn.naive_bayes import GaussianNB\n",
        "from sklearn.linear_model import LinearRegression, LogisticRegression, Ridge, Lasso, SGDClassifier\n",
        "from sklearn.tree import DecisionTreeClassifier\n",
        "import tensorflow as tf\n",
        "\n",
        "#Grid and random search\n",
        "import scipy.stats as st\n",
        "from scipy.stats import randint as sp_randint\n",
        "from sklearn.model_selection import GridSearchCV\n",
        "from sklearn.model_selection import RandomizedSearchCV\n",
        "\n",
        "# Metrics\n",
        "from sklearn.metrics import precision_recall_fscore_support, roc_curve, auc\n",
        "\n",
        "# Managing Warnings \n",
        "import warnings\n",
        "warnings.filterwarnings('ignore')\n",
        "\n",
        "# Plot the Figures Inline\n",
        "%matplotlib inline\n",
        "\n",
        "data1 = pd.read_csv(\"train.csv\")\n",
        "data2  = pd.read_csv(\"test.csv\")\n",
        "train = data1.copy()\n",
        "test = data2.copy()\n",
        "\n"
      ],
      "execution_count": 7,
      "outputs": []
    },
    {
      "cell_type": "markdown",
      "metadata": {
        "id": "IoSmnaXkFVmJ"
      },
      "source": [
        "EDA of TITANIC"
      ]
    },
    {
      "cell_type": "code",
      "metadata": {
        "id": "kjndm5irFULZ"
      },
      "source": [
        "train.head(10)"
      ],
      "execution_count": null,
      "outputs": []
    },
    {
      "cell_type": "code",
      "metadata": {
        "id": "6dYIOsfhHuXS"
      },
      "source": [
        "#univariate analysis of the data\n",
        "#we start with visualizng the data\n",
        "# to understand the pattern\n",
        "#analyze the pattern and any other such charactestics\n",
        "#know the distributon of the data\n"
      ],
      "execution_count": null,
      "outputs": []
    },
    {
      "cell_type": "code",
      "metadata": {
        "id": "7zdFctyNJZ4B"
      },
      "source": [
        "#visualzing the scatter plot\n",
        "sns.scatterplot(x='Age',y = 'Survived',hue='Sex',data=train)"
      ],
      "execution_count": null,
      "outputs": []
    },
    {
      "cell_type": "code",
      "metadata": {
        "id": "flubasxIMyad"
      },
      "source": [
        "#to find whih age group people died more also find outlier\n",
        "sns.histplot(x='Age',bins='auto',hue='Survived',data=train,kde = True)"
      ],
      "execution_count": null,
      "outputs": []
    },
    {
      "cell_type": "code",
      "metadata": {
        "id": "Anq7qZY-PdXx",
        "outputId": "257e5237-64ed-4302-906d-2cf5208c44a2",
        "colab": {
          "base_uri": "https://localhost:8080/",
          "height": 296
        }
      },
      "source": [
        "male = train[train.Sex == 'male'][['Age','Survived']]\n",
        "sns.histplot(x='Age',hue='Survived',data=male)"
      ],
      "execution_count": 11,
      "outputs": [
        {
          "output_type": "execute_result",
          "data": {
            "text/plain": [
              "<matplotlib.axes._subplots.AxesSubplot at 0x7f9817e179b0>"
            ]
          },
          "metadata": {
            "tags": []
          },
          "execution_count": 11
        },
        {
          "output_type": "display_data",
          "data": {
            "image/png": "[encoded data removed]",
            "text/plain": [
              "<Figure size 432x288 with 1 Axes>"
            ]
          },
          "metadata": {
            "tags": [],
            "needs_background": "light"
          }
        }
      ]
    },
    {
      "cell_type": "code",
      "metadata": {
        "id": "Vbj-xHUFR9Hy"
      },
      "source": [
        "#which age female died more\n",
        "female = train[train.Sex=='female'][['Age','Survived']]\n",
        "sns.histplot(x='Age',hue='Survived',data=female)"
      ],
      "execution_count": null,
      "outputs": []
    },
    {
      "cell_type": "code",
      "metadata": {
        "id": "bd4dG-tJT1Nj",
        "outputId": "40be8d96-2292-4933-e6a2-0baf1af8de4c",
        "colab": {
          "base_uri": "https://localhost:8080/",
          "height": 153
        }
      },
      "source": [
        "#now we have seen that differnt gender have differnt survival rate depend on their age \n",
        "# so we need seprate mean for them to fill nan values\n",
        "#use gropuby clause\n",
        "val = train.groupby(\"Survived\")[\"Age\"].mean()\n",
        "#print(val)\n",
        "val1 = male.groupby(\"Survived\")[\"Age\"].mean()\n",
        "print(val1)\n",
        "val2 = female.groupby(\"Survived\")[\"Age\"].mean()\n",
        "print(val2)"
      ],
      "execution_count": 13,
      "outputs": [
        {
          "output_type": "stream",
          "text": [
            "Survived\n",
            "0    31.618056\n",
            "1    27.276022\n",
            "Name: Age, dtype: float64\n",
            "Survived\n",
            "0    25.046875\n",
            "1    28.847716\n",
            "Name: Age, dtype: float64\n"
          ],
          "name": "stdout"
        }
      ]
    },
    {
      "cell_type": "code",
      "metadata": {
        "id": "fnpx2K7BeLL6"
      },
      "source": [
        "train['Embarked'] = train['Embarked'].map({'S':0,'C':1})\n",
        "train.head(5)\n",
        "#another discrete varaible PClass combared with survived\n",
        "sns.countplot(x = 'Pclass',hue = 'Survived',data=train,dodge=False)"
      ],
      "execution_count": null,
      "outputs": []
    },
    {
      "cell_type": "code",
      "metadata": {
        "id": "m-FVG7Q5oKeQ",
        "outputId": "897d27d0-b853-46bb-c4b2-63f9a963aebf",
        "colab": {
          "base_uri": "https://localhost:8080/",
          "height": 34
        }
      },
      "source": [
        "train.corr()\n",
        "len(train)"
      ],
      "execution_count": null,
      "outputs": [
        {
          "output_type": "execute_result",
          "data": {
            "text/plain": [
              "891"
            ]
          },
          "metadata": {
            "tags": []
          },
          "execution_count": 41
        }
      ]
    },
    {
      "cell_type": "code",
      "metadata": {
        "id": "io5aToFBfzgS"
      },
      "source": [
        "for row in range(len(train)):\n",
        "  if train.loc[row,'Sex']=='male' and train.loc[row,'Survived']==1:\n",
        "    train.loc[row,'Age']=31.61\n",
        "  elif train.loc[row,'Sex']=='male' and train.loc[row,'Survived']==0:\n",
        "    train.loc[row,'Age']=27.27\n",
        "  elif train.loc[row,'Sex']=='female' and train.loc[row,'Survived']==1:\n",
        "    train.loc[row,'Age']=28.847\n",
        "  elif train.loc[row,'Sex']=='female' and train.loc[row,'Survived']==0:\n",
        "    train.loc[row,'Age']=25.04\n",
        "#missingno.matrix(train,figsize=(25,10))  "
      ],
      "execution_count": 16,
      "outputs": []
    },
    {
      "cell_type": "code",
      "metadata": {
        "id": "EDnEwZp2pKO3",
        "outputId": "fc69ae3b-43d8-459a-bed3-6639ec0dd878",
        "colab": {
          "base_uri": "https://localhost:8080/",
          "height": 51
        }
      },
      "source": [
        "#CHECKING MISSING DATA\n",
        "#missingno.matrix(train,figsize=(25,10))\n",
        "from sklearn.model_selection import train_test_split\n",
        "#train['Age'].fillna(train['Age'].mean(),axis=0,inplace=True)\n",
        "#train\n",
        "#missingno.matrix(train,figsize=(25,10))\n",
        "col = ['PassengerId','Name','Sex','Parch','Ticket','Cabin','Embarked']\n",
        "train1 = train.drop(col,axis=1)\n",
        "y  = train1['Survived'].values\n",
        "features  = list(set(train1.columns)-set(['Survived']))\n",
        "print(\"features\",features)\n",
        "x = train1[features].values\n",
        "#print(x,y)\n",
        "train_x,test_x,train_y,test_y = train_test_split(x,y,test_size = 0.3)\n",
        "model = LogisticRegression()\n",
        "model.fit(train_x,train_y)\n",
        "pred = model.predict(test_x)\n",
        "print(metrics.accuracy_score(test_y,pred))\n"
      ],
      "execution_count": 17,
      "outputs": [
        {
          "output_type": "stream",
          "text": [
            "features ['Age', 'SibSp', 'Pclass', 'Fare']\n",
            "1.0\n"
          ],
          "name": "stdout"
        }
      ]
    },
    {
      "cell_type": "code",
      "metadata": {
        "id": "6VnRAr6i2GNU",
        "outputId": "dc29d507-3e24-4495-9d53-f1be30d62391",
        "colab": {
          "base_uri": "https://localhost:8080/",
          "height": 749
        }
      },
      "source": [
        "#####setting test data\n",
        "test1= pd.read_csv(\"test.csv\")\n",
        "print(len(test1))\n",
        "\n",
        "#missingno.matrix(test,figsize=(25,10))\n",
        "\n",
        "col = ['PassengerId','Name','Parch','Ticket','Cabin','Embarked']\n",
        "test2 = test1.drop(col,axis=1)\n",
        "test2.isna().sum()\n",
        "for row in range(len(test2)):\n",
        "  if test2.loc[row,'Sex']=='male':\n",
        "    test2.loc[row,'Age']=29\n",
        "  elif test2.loc[row,'Sex']=='female':\n",
        "    test2.loc[row,'Age']=27\n",
        "#test1.dropna(axis=0)\n",
        "#prediction = model.predict(test1)\n",
        "#missingno.matrix(test2,figsize=(25,10))\n",
        "test2 = test2.drop(['Sex'],axis=1)\n",
        "test2.fillna(test2.Fare.mean(),inplace=True)\n",
        "missingno.matrix(test2,figsize=(25,10))\n",
        "prediction = model.predict(test2)\n",
        "#print(prediction)\n",
        "#print(metrics.accuracy_score(y,prediction\n",
        "test2.info()\n",
        "\n",
        "\n"
      ],
      "execution_count": 20,
      "outputs": [
        {
          "output_type": "stream",
          "text": [
            "418\n",
            "<class 'pandas.core.frame.DataFrame'>\n",
            "RangeIndex: 418 entries, 0 to 417\n",
            "Data columns (total 4 columns):\n",
            " #   Column  Non-Null Count  Dtype  \n",
            "---  ------  --------------  -----  \n",
            " 0   Pclass  418 non-null    int64  \n",
            " 1   Age     418 non-null    float64\n",
            " 2   SibSp   418 non-null    int64  \n",
            " 3   Fare    418 non-null    float64\n",
            "dtypes: float64(2), int64(2)\n",
            "memory usage: 13.2 KB\n"
          ],
          "name": "stdout"
        },
        {
          "output_type": "display_data",
          "data": {
            "image/png": "[encoded data removed]",
            "text/plain": [
              "<Figure size 1800x720 with 2 Axes>"
            ]
          },
          "metadata": {
            "tags": [],
            "needs_background": "light"
          }
        }
      ]
    }
  ]
}