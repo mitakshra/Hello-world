{
  "nbformat": 4,
  "nbformat_minor": 0,
  "metadata": {
    "colab": {
      "name": "CV.ipynb",
      "provenance": [],
      "collapsed_sections": [],
      "authorship_tag": "ABX9TyMUpxGzAmwwYjlfaxlYrnXn",
      "include_colab_link": true
    },
    "kernelspec": {
      "display_name": "Python 3",
      "name": "python3"
    },
    "language_info": {
      "name": "python"
    }
  },
  "cells": [
    {
      "cell_type": "markdown",
      "metadata": {
        "id": "view-in-github",
        "colab_type": "text"
      },
      "source": [
        "<a href=\"https://colab.research.google.com/github/mitakshra/Hello-world/blob/master/CV.ipynb\" target=\"_parent\"><img src=\"https://colab.research.google.com/assets/colab-badge.svg\" alt=\"Open In Colab\"/></a>"
      ]
    },
    {
      "cell_type": "code",
      "metadata": {
        "id": "gEe2dszxQMSj"
      },
      "source": [
        "from flask_ngrok import run_with_ngrok\n",
        "from flask import Flask\n",
        "import kivy\n",
        "from kivy.app import App\n",
        "from kivy.uix.label import Label\n",
        "class Myapp(App):\n",
        "  def build(self):\n",
        "    return Label(text=\"tech with kid\")\n",
        "\n",
        "app = Flask(__name__)\n",
        "run_with_ngrok(app)   #starts ngrok when the app is run\n",
        "@app.route(\"/\")\n",
        "def root():\n",
        "  return \"root of all\"\n",
        "@app.route(\"/predict\")\n",
        "def predict():\n",
        "  app1 = Myapp()\n",
        "  #app1.run()\n",
        "  return app1.run()\n",
        "def home():\n",
        "    return \"<h1>Running Flask on Google Colab!</h1>\"\n",
        "  \n",
        "app.run()"
      ],
      "execution_count": null,
      "outputs": []
    },
    {
      "cell_type": "code",
      "metadata": {
        "id": "CDzFfLsScwIV"
      },
      "source": [
        "!pip install buildozer"
      ],
      "execution_count": null,
      "outputs": []
    },
    {
      "cell_type": "code",
      "metadata": {
        "id": "y7kDcnPhkx52"
      },
      "source": [
        "!pip install cython==0.29.19\n"
      ],
      "execution_count": null,
      "outputs": []
    },
    {
      "cell_type": "code",
      "metadata": {
        "id": "1la1ppgwdGfE"
      },
      "source": [
        "!sudo apt-get install -y \\\n",
        "    python3-pip \\\n",
        "    build-essential \\\n",
        "    git \\\n",
        "    python3 \\\n",
        "    python3-dev \\\n",
        "    ffmpeg \\\n",
        "    libsdl2-dev \\\n",
        "    libsdl2-image-dev \\\n",
        "    libsdl2-mixer-dev \\\n",
        "    libsdl2-ttf-dev \\\n",
        "    libportmidi-dev \\\n",
        "    libswscale-dev \\\n",
        "    libavformat-dev \\\n",
        "    libavcodec-dev \\\n",
        "    zlib1g-dev"
      ],
      "execution_count": null,
      "outputs": []
    },
    {
      "cell_type": "code",
      "metadata": {
        "id": "9CsrGYE6dQ04"
      },
      "source": [
        "!sudo apt-get install -y \\\n",
        "    libgstreamer1.0 \\\n",
        "    gstreamer1.0-plugins-base \\\n",
        "    gstreamer1.0-plugins-good"
      ],
      "execution_count": null,
      "outputs": []
    },
    {
      "cell_type": "code",
      "metadata": {
        "id": "LpAcYTmzddiJ"
      },
      "source": [
        "!sudo apt-get install build-essential libsqlite3-dev sqlite3 bzip2 libbz2-dev zlib1g-dev libssl-dev openssl libgdbm-dev libgdbm-compat-dev liblzma-dev libreadline-dev libncursesw5-dev libffi-dev uuid-dev libffi6"
      ],
      "execution_count": null,
      "outputs": []
    },
    {
      "cell_type": "code",
      "metadata": {
        "id": "RY87gNk6dnYt"
      },
      "source": [
        "!sudo apt-get install libffi-dev"
      ],
      "execution_count": null,
      "outputs": []
    },
    {
      "cell_type": "code",
      "metadata": {
        "colab": {
          "base_uri": "https://localhost:8080/"
        },
        "id": "WF7PD0O9dtC0",
        "outputId": "8e3e788e-dc73-4421-9cb1-707880a59838"
      },
      "source": [
        "!buildozer init"
      ],
      "execution_count": null,
      "outputs": [
        {
          "output_type": "stream",
          "text": [
            "\u001b[91m\u001b[1mBuildozer is running as root!\u001b[0m\n",
            "\u001b[91mThis is \u001b[1mnot\u001b[0m \u001b[91mrecommended, and may lead to problems later.\u001b[0m\n",
            "Are you sure you want to continue [y/n]? y\n",
            "File buildozer.spec created, ready to customize!\n"
          ],
          "name": "stdout"
        }
      ]
    },
    {
      "cell_type": "code",
      "metadata": {
        "colab": {
          "background_save": true
        },
        "id": "w7BPfJc-d2Wj"
      },
      "source": [
        "!buildozer -v android debug"
      ],
      "execution_count": null,
      "outputs": []
    },
    {
      "cell_type": "code",
      "metadata": {
        "colab": {
          "base_uri": "https://localhost:8080/"
        },
        "id": "wUnufJPshwYC",
        "outputId": "ecda5b49-2498-42f3-9f81-13fb28c47245"
      },
      "source": [
        "! pip install opencv-contrib-python"
      ],
      "execution_count": null,
      "outputs": [
        {
          "output_type": "stream",
          "text": [
            "Requirement already satisfied: opencv-contrib-python in /usr/local/lib/python3.7/dist-packages (4.1.2.30)\n",
            "Requirement already satisfied: numpy>=1.14.5 in /usr/local/lib/python3.7/dist-packages (from opencv-contrib-python) (1.19.5)\n"
          ],
          "name": "stdout"
        }
      ]
    },
    {
      "cell_type": "code",
      "metadata": {
        "colab": {
          "base_uri": "https://localhost:8080/"
        },
        "id": "zdUHhhYAKW64",
        "outputId": "7910ccc9-5ac0-41bb-9666-84bb99d03304"
      },
      "source": [
        "! pip install imutils"
      ],
      "execution_count": null,
      "outputs": [
        {
          "output_type": "stream",
          "text": [
            "Requirement already satisfied: imutils in /usr/local/lib/python3.7/dist-packages (0.5.4)\n"
          ],
          "name": "stdout"
        }
      ]
    },
    {
      "cell_type": "code",
      "metadata": {
        "id": "kDLaYSv3LUey"
      },
      "source": [
        "from __future__ import print_function\n",
        "import argparse\n",
        "import imutils\n",
        "import numpy as np\n",
        "import cv2\n"
      ],
      "execution_count": null,
      "outputs": []
    },
    {
      "cell_type": "code",
      "metadata": {
        "id": "OB6CLPCSYczL"
      },
      "source": [
        "ap = argparse.ArgumentParser()\n",
        "ap.add_argument(\"-i\",\"--image\",required = True,help=pathh)\n",
        "args = vars(ap.parse_args())\n",
        "image = cv2.imread(args[\"image\"])\n",
        "\n",
        "image = cv2.imshow(\"Image\",image)"
      ],
      "execution_count": null,
      "outputs": []
    },
    {
      "cell_type": "markdown",
      "metadata": {
        "id": "JCaPIXbkF-O9"
      },
      "source": [
        "**COMPUTER VISION PRACTICAL EXCERCISE............**"
      ]
    },
    {
      "cell_type": "code",
      "metadata": {
        "id": "LRNV1kO5a1k6"
      },
      "source": [
        "import numpy as np\n",
        "import pandas as pd\n",
        "import cv2 as cv\n",
        "from google.colab.patches import cv2_imshow\n",
        "from skimage import io\n",
        "from PIL import Image\n",
        "import matplotlib.pylab as plt"
      ],
      "execution_count": null,
      "outputs": []
    },
    {
      "cell_type": "code",
      "metadata": {
        "id": "EUr3qozKbxdd"
      },
      "source": [
        "url = \"https://image.shutterstock.com/image-illustration/woman-hand-writing-time-practice-260nw-1118280284.jpg\"\n",
        "# in OPEN CV we have by default BGR channel\n",
        "image = io.imread(url)\n",
        "image_2 = cv.cvtColor(image,cv.COLOR_BGR2RGB)\n",
        "final_frame = cv.hconcat((image,image_2))\n",
        "cv2_imshow(final_frame)"
      ],
      "execution_count": null,
      "outputs": []
    },
    {
      "cell_type": "code",
      "metadata": {
        "id": "gqCVtaUZThCl"
      },
      "source": [
        "print(image.dtype)\n",
        "print(image.shape[0])\n",
        "print(image.shape[1])\n",
        "print(image.shape[2])"
      ],
      "execution_count": null,
      "outputs": []
    },
    {
      "cell_type": "code",
      "metadata": {
        "id": "EU-2aIdhUMNp"
      },
      "source": [
        "#print gray image\n",
        "gray_image = cv.cvtColor(image,cv.COLOR_BGR2GRAY)\n",
        "cv2_imshow(gray_image)"
      ],
      "execution_count": null,
      "outputs": []
    },
    {
      "cell_type": "code",
      "metadata": {
        "id": "J5tNJMqGVDc-"
      },
      "source": [
        "plt.hist(gray_image.ravel(),bins=256,range=[0,256])\n",
        "plt.show()"
      ],
      "execution_count": null,
      "outputs": []
    },
    {
      "cell_type": "code",
      "metadata": {
        "id": "D0li7X5TVWWo"
      },
      "source": [
        "plt.contour(gray_image)"
      ],
      "execution_count": null,
      "outputs": []
    },
    {
      "cell_type": "code",
      "metadata": {
        "id": "S-AWygC1vOXq"
      },
      "source": [
        "import numpy as np\n",
        "import cv2\n",
        "\n",
        "canvas = np.zeros((300,300,3),dtype=\"uint8\")\n",
        "green = (0,255,0)\n",
        "cv2.line(canvas,(0,0),(300,300),green)\n",
        "cv2_imshow(canvas)\n",
        "cv2.waitKey(0)\n",
        "#canvas = np.zeros((300,300,3),dtype=\"uint8\")\n",
        "canvas1 = np.zeros((300,300,3),dtype=\"uint8\")\n",
        "\n",
        "red = (0,0,255)\n",
        "cv2.line(canvas1,(300,0),(0,300),red,3)\n",
        "cv2_imshow(canvas1)\n",
        "cv2.waitKey(0)\n"
      ],
      "execution_count": null,
      "outputs": []
    },
    {
      "cell_type": "code",
      "metadata": {
        "id": "FLO5QLgi0AJn"
      },
      "source": [
        "cv2.rectangle(canvas,(150,150),(60,60),red)\n",
        "cv2_imshow(canvas)"
      ],
      "execution_count": null,
      "outputs": []
    },
    {
      "cell_type": "code",
      "metadata": {
        "id": "jn-noYjS0_ul"
      },
      "source": [
        "canvas1 = np.zeros((300,300,3),dtype=\"uint8\")\n",
        "(centerX,centerY) = (canvas1.shape[1]//2,canvas1.shape[0]//2)\n",
        "white = (255,255,255)\n",
        "for r in range(0,175,25):\n",
        "  cv2.circle(canvas1,(centerX,centerY),r,white)\n",
        "cv2_imshow(canvas1)\n",
        "cv2.waitKey(0)\n"
      ],
      "execution_count": null,
      "outputs": []
    },
    {
      "cell_type": "markdown",
      "metadata": {
        "id": "dAEdQYC66LR1"
      },
      "source": [
        "Translation of an image"
      ]
    },
    {
      "cell_type": "code",
      "metadata": {
        "id": "adgtXoyq6Nu_"
      },
      "source": [
        "url = \"https://image.shutterstock.com/image-illustration/woman-hand-writing-time-practice-260nw-1118280284.jpg\"\n",
        "image = io.imread(url)\n",
        "cv2_imshow(image)\n",
        "M = np.float32([[1,0,25],[0,1,50]])\n",
        "shifted = cv2.warpAffine(image,M,(image.shape[1],image.shape[0]))\n",
        "cv2_imshow(shifted)\n",
        "\n",
        "M = np.float32([[1,0,-50],[0,1,-90]])\n",
        "shifted = cv2.warpAffine(image,M,(image.shape[1],image.shape[0]))\n",
        "cv2_imshow(shifted)"
      ],
      "execution_count": null,
      "outputs": []
    },
    {
      "cell_type": "markdown",
      "metadata": {
        "id": "geJhCKMqloHS"
      },
      "source": [
        "defininf a function of translation"
      ]
    },
    {
      "cell_type": "code",
      "metadata": {
        "id": "25UmApuulrl7"
      },
      "source": [
        "import numpy as np\n",
        "import cv2\n",
        "# + x means right side shift -x means left side shift\n",
        "# + y means down side shifting -y means upside shifting\n",
        "\n",
        "def translation(image,x,y):\n",
        "  M = np.float32([[1,0,x],[0,1,y]])\n",
        "  shifted = cv2.warpAffine(image,M,(image.shape[1],image.shape[0]))\n",
        "  return shifted\n",
        "sh = translation(image,0,-100)\n",
        "cv2_imshow(sh)"
      ],
      "execution_count": null,
      "outputs": []
    },
    {
      "cell_type": "markdown",
      "metadata": {
        "id": "kCADaKA_41ce"
      },
      "source": [
        "Rotation of images"
      ]
    },
    {
      "cell_type": "code",
      "metadata": {
        "id": "50c1eEw144mi"
      },
      "source": [
        "import numpy as np\n",
        "(h,w) = image.shape[:2]\n",
        "center = (w//2,h//2)\n",
        "# -90 clockwise rotation\n",
        "M = cv2.getRotationMatrix2D(center,-90,1.0)\n",
        "rotated = cv2.warpAffine(image,M,(w,h))\n",
        "cv2_imshow(rotated)\n",
        "# 90 anti clockwise\n",
        "M = cv2.getRotationMatrix2D(center,90,1.0)\n",
        "rotated = cv2.warpAffine(image,M,(w,h))\n",
        "cv2_imshow(rotated)\n",
        "\n"
      ],
      "execution_count": null,
      "outputs": []
    },
    {
      "cell_type": "markdown",
      "metadata": {
        "id": "OXbEKRX788gX"
      },
      "source": [
        "Resizing the image by specifying width"
      ]
    },
    {
      "cell_type": "code",
      "metadata": {
        "id": "Dz1KDHz_8-zy"
      },
      "source": [
        "import numpy as np\n",
        "import cv2\n",
        "print(image.shape[0],image.shape[1])\n",
        "r = 150/image.shape[1]\n",
        "print(int(image.shape[0]))\n",
        "#dim = (width,height)\n",
        "dim = (150,int(image.shape[0]*r))\n",
        "print(dim)\n",
        "resized  =cv2.resize(image,dim,interpolation = cv2.INTER_AREA)\n",
        "cv2_imshow(resized)"
      ],
      "execution_count": null,
      "outputs": []
    },
    {
      "cell_type": "code",
      "metadata": {
        "id": "Yd1DAcAgDzCa"
      },
      "source": [
        "#resizing image by specifying height\n",
        "r = 50.0/image.shape[0]\n",
        "print(int(image.shape[1]))\n",
        "#resize take only integer argument\n",
        "dim = (int(image.shape[1]*r),50)\n",
        "resized = cv2.resize(image,dim,interpolation = cv2.INTER_AREA)\n",
        "cv2_imshow(resized)"
      ],
      "execution_count": null,
      "outputs": []
    },
    {
      "cell_type": "markdown",
      "metadata": {
        "id": "Pz9mh7b1FLAi"
      },
      "source": [
        "Resizing using function"
      ]
    },
    {
      "cell_type": "code",
      "metadata": {
        "id": "H04-gbLUFPFg"
      },
      "source": [
        "def resize(image,width=None,height=None,inter = cv2.INTER_AREA):\n",
        "  dim = None\n",
        "  (h,w) = image.shape[:2]\n",
        "  if width is None and height is None:\n",
        "    return image\n",
        "  elif width is None:\n",
        "    r = height/float(h)\n",
        "    dim = (int(w*r),height)\n",
        "  else:\n",
        "    r = width/float(w)\n",
        "    dim = (width,int(w*r))\n",
        "  resized = cv2.resize(image,dim,interpolation=inter)\n",
        "  return resized\n",
        "\n",
        "r = resize(image,width=250)\n",
        "cv2_imshow(r)\n"
      ],
      "execution_count": null,
      "outputs": []
    },
    {
      "cell_type": "code",
      "metadata": {
        "id": "Htavfoma4xG3"
      },
      "source": [
        "r2 = resize(image,height=250)\n",
        "cv2_imshow(r2)"
      ],
      "execution_count": null,
      "outputs": []
    },
    {
      "cell_type": "markdown",
      "metadata": {
        "id": "bI8SWhIeLrAJ"
      },
      "source": [
        "Flipping of an Image"
      ]
    },
    {
      "cell_type": "code",
      "metadata": {
        "id": "zh3egiqb2vxO"
      },
      "source": [
        "import cv2\n",
        "flipped = cv2.flip(image,1)\n",
        "# 1 means horizontally flipping\n",
        "cv2_imshow(flipped)"
      ],
      "execution_count": null,
      "outputs": []
    },
    {
      "cell_type": "code",
      "metadata": {
        "id": "I5RXbVT4MS8j"
      },
      "source": [
        "# 0 means vertical flipping\n",
        "flipp = cv2.flip(image,0)\n",
        "cv2_imshow(flipp)\n"
      ],
      "execution_count": null,
      "outputs": []
    },
    {
      "cell_type": "code",
      "metadata": {
        "id": "glyf0JQZMcah"
      },
      "source": [
        "#Flipping horizontally and vertically\n",
        "flipp = cv2.flip(image,-1)\n",
        "cv2_imshow(flipp)"
      ],
      "execution_count": null,
      "outputs": []
    },
    {
      "cell_type": "markdown",
      "metadata": {
        "id": "XvMLNyXbJYIP"
      },
      "source": [
        "MORE Functions of Open **CV**"
      ]
    },
    {
      "cell_type": "code",
      "metadata": {
        "id": "HfNHm7FBCgpx",
        "colab": {
          "base_uri": "https://localhost:8080/"
        },
        "outputId": "b6e2be98-f596-4c18-e8e3-02efde4cafc7"
      },
      "source": [
        "# import image\n",
        "from google.colab import drive\n",
        "drive.mount('/content/drive/')\n",
        "path = '/content/drive/MyDrive/CV/cat.1.jpg'\n",
        "path_merc = '/content/drive/MyDrive/CV/merc.jpg'\n",
        "path_cards = '/content/drive/MyDrive/CV/cards.jpg'\n",
        "path_veg = '/content/drive/MyDrive/CV/vegetable.jpg'\n",
        "\n"
      ],
      "execution_count": null,
      "outputs": [
        {
          "output_type": "stream",
          "text": [
            "Drive already mounted at /content/drive/; to attempt to forcibly remount, call drive.mount(\"/content/drive/\", force_remount=True).\n"
          ],
          "name": "stdout"
        }
      ]
    },
    {
      "cell_type": "code",
      "metadata": {
        "id": "v9sHi1AFKprp"
      },
      "source": [
        "#packages used in open cv\n",
        "import cv2\n",
        "import numpy as np\n",
        "from google.colab.patches import cv2_imshow\n"
      ],
      "execution_count": null,
      "outputs": []
    },
    {
      "cell_type": "code",
      "metadata": {
        "id": "eudbVzkuKaZ6"
      },
      "source": [
        "img  = cv2.imread(path)# it is function to read the image\n",
        "img_gray = cv2.cvtColor(img,cv2.COLOR_BGR2GRAY)\n",
        "# in gaussian blur we have blur kernel\n",
        "# sigmax =0\n",
        "cv2_imshow(img)\n",
        "cv2_imshow(img_gray)"
      ],
      "execution_count": null,
      "outputs": []
    },
    {
      "cell_type": "code",
      "metadata": {
        "id": "SrUytiwoN23I"
      },
      "source": [
        "img_blur = cv2.GaussianBlur(img_gray,(3,3),0)\n",
        "cv2_imshow(img_blur)"
      ],
      "execution_count": null,
      "outputs": []
    },
    {
      "cell_type": "code",
      "metadata": {
        "id": "ACAtDaU4NPH-"
      },
      "source": [
        "# canny images on edges with borders\n",
        "img_canny = cv2.Canny(img,200,200)\n",
        "cv2_imshow(img_canny)"
      ],
      "execution_count": null,
      "outputs": []
    },
    {
      "cell_type": "code",
      "metadata": {
        "id": "SOy4duohP8Fu"
      },
      "source": [
        "img_canny = cv2.Canny(img,300,300)\n",
        "cv2_imshow(img_canny)"
      ],
      "execution_count": null,
      "outputs": []
    },
    {
      "cell_type": "code",
      "metadata": {
        "id": "3tm2ZKpkQLXd"
      },
      "source": [
        "# image Dialation is used to increase the thickness of the images\n",
        "# this is being done for better edge detection.\n",
        "# the kernel used here is all 1 matrix for that we use num py\n",
        "# iterrations = thickness\n",
        "kernel = np.ones((5,5),dtype=np.uint8)\n",
        "print(kernel)\n",
        "img_dialation = cv2.dilate(img_canny,kernel,iterations=1)\n",
        "cv2_imshow(img_dialation)"
      ],
      "execution_count": null,
      "outputs": []
    },
    {
      "cell_type": "code",
      "metadata": {
        "id": "xs531-_kN75g"
      },
      "source": [
        "# opposite of dialation i.e. erosion\n",
        "img_eroded = cv2.erode(img_dialation,kernel,iterations=1)\n",
        "cv2_imshow(img_eroded)\n"
      ],
      "execution_count": null,
      "outputs": []
    },
    {
      "cell_type": "markdown",
      "metadata": {
        "id": "Xh3Eh-q9UB1D"
      },
      "source": [
        "# in normal convention x axis is same but y axis is down ward\n"
      ]
    },
    {
      "cell_type": "code",
      "metadata": {
        "id": "JpN4dtbyVghl",
        "colab": {
          "base_uri": "https://localhost:8080/",
          "height": 202
        },
        "outputId": "a0f22f0a-0219-419a-d8bb-fd64d54855db"
      },
      "source": [
        "merc = cv2.imread(path_merc)\n",
        "cv2_imshow(merc)\n",
        "# in shape first cordinate is height,second is width third is channel\n",
        "print(merc.shape)"
      ],
      "execution_count": null,
      "outputs": [
        {
          "output_type": "display_data",
          "data": {
            "image/png": "[encoded data removed]",
            "text/plain": [
              "<PIL.Image.Image image mode=RGB size=300x168 at 0x7FC4ACB73E10>"
            ]
          },
          "metadata": {
            "tags": []
          }
        },
        {
          "output_type": "stream",
          "text": [
            "(168, 300, 3)\n"
          ],
          "name": "stdout"
        }
      ]
    },
    {
      "cell_type": "code",
      "metadata": {
        "id": "Cnu9bu6MWJMx"
      },
      "source": [
        "# resizing the image\n",
        "# resizing degrade quality\n",
        "imgResize = cv2.resize(merc,(400,400))\n",
        "cv2_imshow(imgResize)"
      ],
      "execution_count": null,
      "outputs": []
    },
    {
      "cell_type": "code",
      "metadata": {
        "id": "eW635EDIWqfW"
      },
      "source": [
        "# cropping the image\n",
        "# image is an array of pixels \n",
        "# so in cropping we just choode some selected pixel sets and print them\n",
        "# we need starting point and end points of the pixels\n",
        "#In cropping a point of caution is that height comes first and then the width\n",
        "# generally in Open CV width comes first and then the height\n",
        "imgCropped = imgResize[150:300,200:400]\n",
        "cv2_imshow(imgCropped)"
      ],
      "execution_count": null,
      "outputs": []
    },
    {
      "cell_type": "code",
      "metadata": {
        "id": "cFi5i4KiX5nQ"
      },
      "source": [
        "img_black = np.zeros((512,512,3),np.uint8)\n",
        "#print(img_blue)\n",
        "#img_black[:] = 255,0,0\n",
        "cv2_imshow(img_black)\n",
        "# line (x,y)\n",
        "#cv2.line(img_black,(0,0),(220,400),(0,255,0),3)\n",
        "#cv2_imshow(img_black)"
      ],
      "execution_count": null,
      "outputs": []
    },
    {
      "cell_type": "code",
      "metadata": {
        "id": "hvmk3pSx0x5N"
      },
      "source": [
        "cv2.line(img_black,(0,0),(img_black.shape[1],img_black.shape[0]),(0,0,255),3)\n",
        "cv2_imshow(img_black)"
      ],
      "execution_count": null,
      "outputs": []
    },
    {
      "cell_type": "code",
      "metadata": {
        "id": "I4Z4CCl_13Zm"
      },
      "source": [
        "cv2.rectangle(img_black,(100,100),(300,300),(255,255,0),3)\n",
        "cv2_imshow(img_black)"
      ],
      "execution_count": null,
      "outputs": []
    },
    {
      "cell_type": "code",
      "metadata": {
        "id": "hHhIYkC92rKl"
      },
      "source": [
        "cv2.rectangle(img_black,(100,100),(300,300),(255,255,0),cv2.FILLED)\n",
        "cv2_imshow(img_black)"
      ],
      "execution_count": null,
      "outputs": []
    },
    {
      "cell_type": "code",
      "metadata": {
        "id": "fEHpguxp3ERX"
      },
      "source": [
        "cv2.circle(img_black,(250,250),50,2)\n",
        "cv2_imshow(img_black)"
      ],
      "execution_count": null,
      "outputs": []
    },
    {
      "cell_type": "markdown",
      "metadata": {
        "id": "52kSray9HCUZ"
      },
      "source": [
        "WARP Prespective"
      ]
    },
    {
      "cell_type": "code",
      "metadata": {
        "id": "su_oZRvcDB01"
      },
      "source": [
        "img_cards = cv2.imread(path)\n",
        "width,height = 250,350\n",
        "pts1 = np.float32([[70,1],[162,24],[4,115],[117,154]])\n",
        "pts2 = np.float32([[0,0],[width,0],[0,height],[width,height]])\n",
        "\n",
        "matrix = cv2.getPerspectiveTransform(pts1,pts2)\n",
        "imgOutput = cv2.warpPerspective(img_cards,matrix,(250,350))\n",
        "\n",
        "cv2_imshow(img_cards)\n",
        "cv2_imshow(imgOutput)\n"
      ],
      "execution_count": null,
      "outputs": []
    },
    {
      "cell_type": "markdown",
      "metadata": {
        "id": "PbzXFC6ALrn9"
      },
      "source": [
        "Joining Images"
      ]
    },
    {
      "cell_type": "code",
      "metadata": {
        "id": "tnDpRnwXLqyK"
      },
      "source": [
        "hor = np.hstack((img_cards,img_cards))\n",
        "cv2_imshow(hor)"
      ],
      "execution_count": null,
      "outputs": []
    },
    {
      "cell_type": "code",
      "metadata": {
        "id": "--JI0xQUNOBs"
      },
      "source": [
        "ver = np.vstack((img_cards,img_cards))\n",
        "cv2_imshow(ver)"
      ],
      "execution_count": null,
      "outputs": []
    },
    {
      "cell_type": "markdown",
      "metadata": {
        "id": "UgJ-8Se4QWui"
      },
      "source": [
        "\n",
        "\n",
        "```\n",
        "# This is formatted as code\n",
        "```\n",
        "\n",
        "Color detection"
      ]
    },
    {
      "cell_type": "code",
      "metadata": {
        "id": "4LqZ4PLpQdpr"
      },
      "source": [
        "merc = cv2.imread(path_merc)\n",
        "imgHSV = cv2.cvtColor(merc,cv2.COLOR_BGR2HSV)\n"
      ],
      "execution_count": null,
      "outputs": []
    },
    {
      "cell_type": "code",
      "metadata": {
        "id": "_APWQ5qAaD_5"
      },
      "source": [
        "import os\n",
        "os.environ[\"CUDA_VISIBLE_DEVICES\"] = \"1\""
      ],
      "execution_count": null,
      "outputs": []
    },
    {
      "cell_type": "code",
      "metadata": {
        "id": "znOcmzPXRDmB"
      },
      "source": [
        "import matplotlib.pyplot as plt\n",
        "%matplotlib inline\n",
        "def empty(a):\n",
        "  pass\n",
        "  #cv2.namedWindow(\"TrackBar\")\n",
        "  #cv2.resizeWindow(\"Trackbar\",640,240)\n",
        "  #cv2.createTrackbar(\"Hue Min\",\"TrackBar\",0,179,empty)\n",
        "\n",
        "\n",
        "\n",
        "\n",
        "merc  = cv2.imread(path_merc)\n",
        "imgHSV = cv2.cvtColor(merc,cv2.COLOR_BGR2HSV)\n",
        "\n",
        "\n",
        "\n",
        "plt.imshow(merc)\n",
        "plt.imshow(imgHSV)"
      ],
      "execution_count": null,
      "outputs": []
    },
    {
      "cell_type": "markdown",
      "metadata": {
        "id": "uKMEj9G2lXyf"
      },
      "source": [
        "Demonstrating Gray Image Intensities"
      ]
    },
    {
      "cell_type": "code",
      "metadata": {
        "id": "5Pxmh31im8go"
      },
      "source": [
        "import numpy as np\n",
        "import cv2\n",
        "img = np.ones((256,256),np.uint8)#\n",
        "#print(img)\n",
        "\n",
        "black = np.zeros((128,128),np.uint8)\n",
        "#print(black)\n",
        "white = 255*np.ones((128,128),np.uint8)\n",
        "#print(white)\n",
        "gray1 = 200*np.ones((128,128),np.uint8)\n",
        "gray2 = 240*np.ones((128,128),np.uint8)\n",
        "img[0:128,0:128] = black\n",
        "img[0:128,128:256] = white\n",
        "img[128:256,0:128] = gray1\n",
        "img[128:256,128:256] = gray2\n",
        "print(\"displaying gray image\")\n",
        "cv2_imshow(img)\n",
        "#cv2.imwrite('/content/drive/MyDrive/CV/grid.jpg',img)"
      ],
      "execution_count": null,
      "outputs": []
    },
    {
      "cell_type": "code",
      "metadata": {
        "id": "XZttn6kLpawU"
      },
      "source": [
        "# Color image reading and writing\n",
        "\n",
        "import numpy as np\n",
        "import cv2\n",
        "imgg = np.zeros((256,256,3),np.uint8)\n",
        "imgg[:,:,0] = 255*np.ones((256,256),np.uint8) # blue\n",
        "#print(cv2_imshow(imgg))\n",
        "imgg[:,:,1] = 155*np.ones((256,256),np.uint8)# green\n",
        "#print(cv2_imshow(imgg))\n",
        "imgg[:,:,2] = 155*np.ones((256,256),np.uint8)\n",
        "print(cv2_imshow(imgg))\n",
        "\n"
      ],
      "execution_count": null,
      "outputs": []
    },
    {
      "cell_type": "code",
      "metadata": {
        "id": "mp4q2EE8uj9P"
      },
      "source": [
        "\n",
        "merc  = cv2.imread(path_merc)\n",
        "cv2_imshow(merc)\n",
        "print(\"showing red channel\")\n",
        "RedChannel = merc[:,:,2]\n",
        "cv2_imshow(RedChannel)\n",
        "print(\"showing green channel\")\n",
        "GreenChannel = merc[:,:,1]\n",
        "cv2_imshow(GreenChannel)\n",
        "print(\"showing blue channel\")\n",
        "BlueChannel = merc[:,:,0]\n",
        "cv2_imshow(BlueChannel)\n"
      ],
      "execution_count": null,
      "outputs": []
    },
    {
      "cell_type": "code",
      "metadata": {
        "id": "ZSpKqNKJy8Cf"
      },
      "source": [
        "# vegetable color coding.....\n",
        "veg = cv2.imread(path_veg)\n",
        "cv2_imshow(veg)\n",
        "\n",
        "print('showing red channel')\n",
        "RedChan = veg[:,:,2]\n",
        "cv2_imshow(RedChan)# red pixel will get high intensity of 255 which is white\n",
        "greenChan = veg[:,:,1]\n",
        "cv2_imshow(greenChan)\n",
        "blueChan = veg[:,:,0]\n",
        "cv2_imshow(blueChan)\n"
      ],
      "execution_count": null,
      "outputs": []
    },
    {
      "cell_type": "markdown",
      "metadata": {
        "id": "LHXxxSWv5n07"
      },
      "source": [
        "Color to gray conversion\n",
        "Image Thresholding - Gray 0-255\n",
        "Pixel>150 will become white\n",
        "pixel < 150 will become black"
      ]
    },
    {
      "cell_type": "code",
      "metadata": {
        "id": "OoLOWW0U6TSQ"
      },
      "source": [
        "import cv2\n",
        "import numpy as np\n",
        "from google.colab.patches import cv2_imshow\n",
        "veg = cv2.imread(path_veg)\n",
        "print(veg.shape)\n",
        "cv2_imshow(veg)\n",
        "gray11 = cv2.cvtColor(veg,cv2.COLOR_BGR2GRAY)\n",
        "print(gray11.shape)\n",
        "# thresolding is converting gray image into black and white image\n",
        "cv2_imshow(gray11)\n",
        "ret,thresh1 = cv2.threshold(gray11,150,255,cv2.THRESH_BINARY)\n",
        "# value greater than 150 convert into  255 less tha 150 into zero\n",
        "print(thresh1.shape)\n",
        "cv2_imshow(thresh1)\n",
        "ret,thresh1 = cv2.threshold(gray11,130,255,cv2.THRESH_BINARY_INV)\n",
        "# value less than 150 to 255 , value greater than 150 to 0\n",
        "cv2_imshow(thresh1)\n",
        "\n",
        "\n",
        "\n",
        "\n",
        "\n"
      ],
      "execution_count": null,
      "outputs": []
    },
    {
      "cell_type": "markdown",
      "metadata": {
        "id": "8z25y8OV3M5j"
      },
      "source": [
        "Steps for contours\n",
        "1. take an image\n",
        "2. convert image into gray scale\n",
        "3. find the canny image\n",
        "4. contours,hierarchies  = cv.findContours(canny_image,cv.RETER_TREE)\n",
        "5. cv2_imshow(contours)"
      ]
    },
    {
      "cell_type": "code",
      "metadata": {
        "id": "ngvVNlGZ4EN3"
      },
      "source": [
        ""
      ],
      "execution_count": null,
      "outputs": []
    },
    {
      "cell_type": "code",
      "metadata": {
        "id": "IDipfnjH3IVG"
      },
      "source": [
        " tep1"
      ],
      "execution_count": null,
      "outputs": []
    },
    {
      "cell_type": "markdown",
      "metadata": {
        "id": "ttr-HAMbm3gI"
      },
      "source": [
        "PROJECTS............IN.........CV............"
      ]
    },
    {
      "cell_type": "markdown",
      "metadata": {
        "id": "yzUZSaRjoN0L"
      },
      "source": [
        "Acess webcam for Images and Videos"
      ]
    },
    {
      "cell_type": "code",
      "metadata": {
        "id": "s2__w29Pm7zJ"
      },
      "source": [
        "#IMPORT DEPENDENCIES..........\n",
        "from IPython.display import display, Javascript,Image\n",
        "from google.colab.output import eval_js\n",
        "from base64 import b64decode, b64encode\n",
        "import cv2\n",
        "import numpy as np\n",
        "import PIL\n",
        "import io\n",
        "import html\n",
        "import time\n"
      ],
      "execution_count": null,
      "outputs": []
    },
    {
      "cell_type": "markdown",
      "metadata": {
        "id": "4LFRRD3CoVRJ"
      },
      "source": [
        "HELPER FUNCTIONS...."
      ]
    },
    {
      "cell_type": "code",
      "metadata": {
        "id": "qA6da7wgoa1w"
      },
      "source": [
        "#function to convert javascript object into image\n",
        "def js_to_image(js_reply):\n",
        "  #js_reply : Java Script object containing image from webcam\n",
        "  #return image OpenCV BGR image\n",
        "\n",
        "  # decode base64 image\n",
        "  image_bytes = b64decode(js_reply.split(',')[1])\n",
        "  # convert bytes into numpy array\n",
        "  jpg_as_np = np.frombuffer(image_bytes,dtype = np.uint8)\n",
        "  # decode numpy array into OpenCV BGR image\n",
        "  img = cv2.imdecode(jpg_as_np, flags = 1)\n",
        "\n",
        "  return img\n",
        "# function to convert Open CV rectanglular box image into base64 byte\n",
        "#string to be overlayed on video stream\n",
        "def bbox_to_bytes(bbox_array):\n",
        "  # params : bbox_array: numpy array in pixels containing rectangle to overlay on \n",
        "  #video stream\n",
        "\n",
        "  # returns : Base64 image byte string\n",
        "\n",
        "  # covert arry into PIL image\n",
        "  bbox_Pil = PIL.Image.fromarray(bbox_array,'RGBA')\n",
        "  iobuf = io.BytesIO()\n",
        "  # format bbox into png for return\n",
        "  bbox_PIL.save(iobuf,format = 'png') \n",
        "  # format return string\n",
        "  bbox_bytes = 'data:image/png;base64,{}'.format((str(b64encode(iobuf.getvalue()),'utf-8')))\n",
        "  return bbox_bytes\n",
        "\n",
        "\n"
      ],
      "execution_count": null,
      "outputs": []
    },
    {
      "cell_type": "code",
      "metadata": {
        "id": "WvMqhKqWKPfl"
      },
      "source": [
        "# initialize HAAR Cascade Classifier\n",
        "face_cascade  = cv2.CascadeClassifier(cv2.samples.findFile(cv2.data.haarcascades+ 'haarcascade_frontalface_default.xml'))"
      ],
      "execution_count": null,
      "outputs": []
    },
    {
      "cell_type": "code",
      "metadata": {
        "id": "53YkeOpe1Ho5"
      },
      "source": [
        "from IPython.display import display, Javascript\n",
        "from google.colab.output import eval_js\n",
        "from base64 import b64decode\n",
        "\n",
        "def take_photo(filename='photo.jpg', quality=0.8):\n",
        "  js = Javascript('''\n",
        "    async function takePhoto(quality) {\n",
        "      const div = document.createElement('div');\n",
        "      const capture = document.createElement('button');\n",
        "      capture.textContent = 'Capture';\n",
        "      div.appendChild(capture);\n",
        "\n",
        "      const video = document.createElement('video');\n",
        "      video.style.display = 'block';\n",
        "      const stream = await navigator.mediaDevices.getUserMedia({video: true});\n",
        "\n",
        "      document.body.appendChild(div);\n",
        "      div.appendChild(video);\n",
        "      video.srcObject = stream;\n",
        "      await video.play();\n",
        "\n",
        "      // Resize the output to fit the video element.\n",
        "      google.colab.output.setIframeHeight(document.documentElement.scrollHeight, true);\n",
        "\n",
        "      // Wait for Capture to be clicked.\n",
        "      await new Promise((resolve) => capture.onclick = resolve);\n",
        "\n",
        "      const canvas = document.createElement('canvas');\n",
        "      canvas.width = video.videoWidth;\n",
        "      canvas.height = video.videoHeight;\n",
        "      canvas.getContext('2d').drawImage(video, 0, 0);\n",
        "      stream.getVideoTracks()[0].stop();\n",
        "      div.remove();\n",
        "      return canvas.toDataURL('image/jpeg', quality);\n",
        "    }\n",
        "    ''')\n",
        "  display(js)\n",
        "  data = eval_js('takePhoto({})'.format(quality))\n",
        "  # get OpenCV format image\n",
        "  img = js_to_image(data)\n",
        "  # convert into grayscale\n",
        "  gray = cv2.cvtColor(img,cv2.COLOR_BGR2GRAY)\n",
        "  print(gray.shape)\n",
        "  # get face bounding using HAAR CASCADE\n",
        "  faces = face_cascade.detectMultiScale(gray)\n",
        "\n",
        "  #DRAW FACE BOUNDING BOX ON IMAGE\n",
        "  for (x,y,w,h) in faces:\n",
        "    img = cv2.rectangle(img,(x,y),(x+w,y+h),(255,0,0),2)\n",
        "  #save image\n",
        "  cv2.imwrite(filename,img)  \n",
        "  return filename"
      ],
      "execution_count": null,
      "outputs": []
    },
    {
      "cell_type": "code",
      "metadata": {
        "id": "qJUsVbOe1fWp"
      },
      "source": [
        "from IPython.display import Image\n",
        "try:\n",
        "  filename = take_photo()\n",
        "  print('Saved to {}'.format(filename))\n",
        "  \n",
        "  # Show the image which was just taken.\n",
        "  display(Image(filename))\n",
        "except Exception as err:\n",
        "  # Errors will be thrown if the user does not have a webcam or if they do not\n",
        "  # grant the page permission to access it.\n",
        "  print(str(err))"
      ],
      "execution_count": null,
      "outputs": []
    },
    {
      "cell_type": "markdown",
      "metadata": {
        "id": "3PUCqo_sLcrv"
      },
      "source": [
        "Running a video and doing its object detection is little bit more complex"
      ]
    },
    {
      "cell_type": "code",
      "metadata": {
        "id": "Nnuw7Xw3Ej6x"
      },
      "source": [
        ""
      ],
      "execution_count": null,
      "outputs": []
    },
    {
      "cell_type": "markdown",
      "metadata": {
        "id": "Bx_vn4cbyOJ-"
      },
      "source": [
        "First Project Virtual paint"
      ]
    },
    {
      "cell_type": "code",
      "metadata": {
        "id": "7AJiUz64ySPw"
      },
      "source": [
        "import cv2\n",
        "from google.colab.patches import cv2_imshow\n",
        "framewidth  = 640\n",
        "frameheight = 480\n",
        "cap = cv2.VideoCapture(1)\n",
        "cap.set(3,framewidth)\n",
        "cap.set(4,frameheight)\n",
        "cap.set(10,150)\n",
        "while True:\n",
        "  sucess, img  = cap.read()\n",
        "  cv2_imshow(img)\n",
        "  if cv2.waitKey(1) & 0*FF == ord('q'):\n",
        "    break"
      ],
      "execution_count": null,
      "outputs": []
    }
  ]
}