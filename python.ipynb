{
  "nbformat": 4,
  "nbformat_minor": 0,
  "metadata": {
    "colab": {
      "name": "python.ipynb",
      "provenance": [],
      "collapsed_sections": [],
      "include_colab_link": true
    },
    "kernelspec": {
      "display_name": "Python 3",
      "name": "python3"
    }
  },
  "cells": [
    {
      "cell_type": "markdown",
      "metadata": {
        "id": "view-in-github",
        "colab_type": "text"
      },
      "source": [
        "<a href=\"https://colab.research.google.com/github/mitakshra/Hello-world/blob/master/python.ipynb\" target=\"_parent\"><img src=\"https://colab.research.google.com/assets/colab-badge.svg\" alt=\"Open In Colab\"/></a>"
      ]
    },
    {
      "cell_type": "code",
      "metadata": {
        "id": "7i9zb8V1cgzz"
      },
      "source": [
        "from numpy import *\n",
        "import numpy as np\n",
        "import pandas as pd\n",
        "import io\n",
        "import matplotlib\n",
        "import matplotlib.pyplot as plt\n",
        "from matplotlib import style\n",
        "from scipy import stats\n",
        "from google.colab import files\n",
        "import math\n",
        "\n",
        "from numpy.linalg import inv\n",
        "uploaded = files.upload()\n",
        "import csv\n",
        "def partition(rows,spilt):\n",
        "  features = len(rows[0])-1\n",
        "  #print(features)\n",
        "  total_elts = len(rows)-50\n",
        "  print(total_elts)\n",
        "  test = []\n",
        "  train = []\n",
        "  for x in range(len(rows)-1):\n",
        "    for y in range(features):\n",
        "      rows[x][y] = float(rows[x][y])\n",
        "    if random.random() < split:\n",
        "      train.append(rows[x])\n",
        "    else:\n",
        "      test.append(rows[x])\n",
        "  \n",
        "  return test,train\n",
        "  \n",
        "def eculediandistancee(instance1,instance2,)     \n",
        "\n",
        "if __name__ == '__main__':\n",
        "  df = pd.read_csv(io.StringIO(uploaded['iris.csv'].decode('utf-8')))\n",
        "  lol = df.values.tolist()#to convert a data frame into list\n",
        "  split = 0.5\n",
        "  t = partition(lol,split)\n",
        "  print(len(t[0]))\n",
        "  \n",
        "  train_data = t[1]\n",
        "  test_data = t[0]\n",
        "  \n",
        "  \n"
      ],
      "execution_count": null,
      "outputs": []
    },
    {
      "cell_type": "code",
      "metadata": {
        "colab": {
          "base_uri": "https://localhost:8080/",
          "height": 34
        },
        "id": "AgzAzG6F7Wde",
        "outputId": "f9976831-e740-4366-9ce1-0009d62cbf73"
      },
      "source": [
        "import numpy as np\n",
        "from operator import itemgetter\n",
        "\n",
        "a = [[1,2],[2,3]]\n"
      ],
      "execution_count": null,
      "outputs": [
        {
          "output_type": "stream",
          "text": [
            "(2, 2)\n"
          ],
          "name": "stdout"
        }
      ]
    },
    {
      "cell_type": "code",
      "metadata": {
        "id": "WLJsMzGkGXXe",
        "colab": {
          "base_uri": "https://localhost:8080/"
        },
        "outputId": "e76f7434-ec60-40c0-ea59-f7a889668832"
      },
      "source": [
        "##############Encoder#############\n",
        "######a is 97 z is 122##########\n",
        "s = input()\n",
        "s1 = \" \"\n",
        "for i in s:\n",
        "  if i == \" \":\n",
        "    s1 = s1+\" \"\n",
        "    \n",
        "  if ord(i)<97 and ord(i)>=65:\n",
        "    if ord(i)+13>96:\n",
        "      s1 = s1+chr(((ord(i)+13)-96)+64)\n",
        "    else:\n",
        "      s1 = s1+chr(ord(i)+13)\n",
        "    \n",
        "  elif ord(i)>=97 and ord(i)<=122:\n",
        "    \n",
        "    if ord(i)+13>122:\n",
        "      s1 = s1+chr(((ord(i)+13)-122)+96)\n",
        "    else:\n",
        "      s1 = s1+chr(ord(i)+13)\n",
        "print(s1)    "
      ],
      "execution_count": null,
      "outputs": [
        {
          "output_type": "stream",
          "text": [
            "abs ss\n",
            " nof ff\n"
          ],
          "name": "stdout"
        }
      ]
    },
    {
      "cell_type": "code",
      "metadata": {
        "id": "PXYd9pJuJGB3"
      },
      "source": [
        "for i in range(65,97):\n",
        "  print(\"{0}={1}\".format(i,chr(i)))"
      ],
      "execution_count": null,
      "outputs": []
    },
    {
      "cell_type": "code",
      "metadata": {
        "id": "ksJncmmPJXI3"
      },
      "source": [
        ""
      ],
      "execution_count": null,
      "outputs": []
    },
    {
      "cell_type": "code",
      "metadata": {
        "id": "oKqjssCpROz0"
      },
      "source": [
        ""
      ],
      "execution_count": null,
      "outputs": []
    },
    {
      "cell_type": "code",
      "metadata": {
        "id": "Nn4ACbW9R0zd"
      },
      "source": [
        ""
      ],
      "execution_count": null,
      "outputs": []
    },
    {
      "cell_type": "code",
      "metadata": {
        "id": "ABIG4kxvQV9c"
      },
      "source": [
        "str1 = \"56 27 67  78 \"\n",
        "s= str1.spilt()\n"
      ],
      "execution_count": null,
      "outputs": []
    },
    {
      "cell_type": "code",
      "metadata": {
        "id": "BkV5J85xNKht"
      },
      "source": [
        "import random\n",
        "for i in range(10):\n",
        "  test1  = random.randint(0,20)\n",
        "  print(test1)"
      ],
      "execution_count": null,
      "outputs": []
    },
    {
      "cell_type": "code",
      "metadata": {
        "colab": {
          "base_uri": "https://localhost:8080/",
          "height": 54
        },
        "id": "w3z0Jt0ke7_p",
        "outputId": "dfe8fa07-d0f5-4cd9-beb4-7db4fa99bed2"
      },
      "source": [
        "#####Program of compond intrest######\n",
        "pri = int(input(\"enter principle amount\"))\n",
        "intr = pow(1.08,15)\n",
        "amount = pri * intr\n",
        "print(amount)"
      ],
      "execution_count": null,
      "outputs": [
        {
          "output_type": "stream",
          "text": [
            "enter principle amount60000\n",
            "190330.1468518963\n"
          ],
          "name": "stdout"
        }
      ]
    },
    {
      "cell_type": "code",
      "metadata": {
        "id": "fmz8svf0OQs2",
        "colab": {
          "base_uri": "https://localhost:8080/"
        },
        "outputId": "747f04a8-027d-4c4b-ed09-7ac58f441e00"
      },
      "source": [
        "################implementing special function\n",
        "\n",
        "s = {'name':'Brat',\"lisa\":\"mona\",\"lenw\":\"sowr\"}\n",
        "v = []\n",
        "for i in s:\n",
        "  v.append(s[i])\n",
        "s = \"\"\n",
        "for i in range(len(v)):\n",
        "  if i<len(v)-1:\n",
        "    if s == \"\":\n",
        "      s = s+v[i]+\"\"\n",
        "    else:\n",
        "      s = \"\\\"\"\n",
        "  if i==len(v)-1:\n",
        "    s = s+'&'+v[i]\n",
        "print(s)"
      ],
      "execution_count": null,
      "outputs": [
        {
          "output_type": "stream",
          "text": [
            "\"&sowr\n"
          ],
          "name": "stdout"
        }
      ]
    },
    {
      "cell_type": "code",
      "metadata": {
        "colab": {
          "base_uri": "https://localhost:8080/",
          "height": 34
        },
        "id": "1oxGDBmfb1B4",
        "outputId": "9e687c4e-ea32-4d8c-e33b-d861043a4d67"
      },
      "source": [
        "###########CAMEL CASE##########\n",
        "str  = \"camel case is working\"\n",
        "str1 = str.strip().split(\" \")\n",
        "st = \" \"\n",
        "for i in str1:\n",
        "  st = st+i[0].upper()+i[1:]\n",
        "print(st)\n",
        "\n"
      ],
      "execution_count": null,
      "outputs": [
        {
          "output_type": "stream",
          "text": [
            " CamelCaseIsWorking\n"
          ],
          "name": "stdout"
        }
      ]
    },
    {
      "cell_type": "code",
      "metadata": {
        "colab": {
          "base_uri": "https://localhost:8080/",
          "height": 34
        },
        "id": "-gbu9eXEki0J",
        "outputId": "c8cf51db-8801-4f8a-c6e6-0e9064b46d42"
      },
      "source": [
        "##########permutations\n",
        "from itertools import permutations\n",
        "s = \"aabb\"\n",
        "l = []\n",
        "for i in s:\n",
        "  l.append(i)\n",
        "perm = permutations(l)\n",
        "l1 = list(perm)\n",
        "l3 = []\n",
        "for i in l1:\n",
        "  l2 = list(i)\n",
        "  st = \"\"\n",
        "  for j in l2:\n",
        "    st = st+j\n",
        "  l3.append(st.strip())\n",
        "print(sorted(list(set(l3)),reverse=True))\n"
      ],
      "execution_count": null,
      "outputs": [
        {
          "output_type": "stream",
          "text": [
            "['bbaa', 'baba', 'baab', 'abba', 'abab', 'aabb']\n"
          ],
          "name": "stdout"
        }
      ]
    },
    {
      "cell_type": "code",
      "metadata": {
        "colab": {
          "base_uri": "https://localhost:8080/",
          "height": 34
        },
        "id": "fNkjrSxKeAqF",
        "outputId": "ca3b31fc-8568-429a-cb79-db8f660e9ff4"
      },
      "source": [
        ",s = {'name':'Brat',\"lisa\":\"mona\",\"lenw\":\"sowr\",\"raj\":\"rambo\"}\n",
        "v = []\n",
        "t1 = \"\"\n",
        "f = \"\"\n",
        "v2 = \"\"\n",
        "for i in s:\n",
        "  v.append(s[i])\n",
        "s1 = \",\".join(v[:-1])+\" \"+\"&\"+\" \"+v[-1]\n",
        "if(len(v ))\n",
        "\n",
        "print(s1)\n"
      ],
      "execution_count": null,
      "outputs": [
        {
          "output_type": "stream",
          "text": [
            "Brat,mona,sowr & rambo\n"
          ],
          "name": "stdout"
        }
      ]
    },
    {
      "cell_type": "code",
      "metadata": {
        "id": "latS2DTBManB"
      },
      "source": [
        "import random\n",
        "for i in range(10):\n",
        "  print(random.randint(1,100))\n",
        "#####shuffle\n",
        "l = [1,2,3,4,5]\n",
        "for i in range(5):\n",
        "  random.shuffle(l)\n",
        "  print(l)\n",
        "####random number 0 to 1 bith included\n",
        "print(random.random())\n",
        "##random number 1 to 10 both included\n",
        "print(random.uniform(1,10))\n",
        "#######choose three random numbers from a list\n",
        "print(random.sample(l,3))\n",
        "#######randrange\n",
        "print(random.randrange(0,100,2))\n"
      ],
      "execution_count": null,
      "outputs": []
    },
    {
      "cell_type": "code",
      "metadata": {
        "colab": {
          "base_uri": "https://localhost:8080/",
          "height": 34
        },
        "id": "5K2bNuFLQEaw",
        "outputId": "fef9c9fa-de34-476d-b5c3-10a94dc7908e"
      },
      "source": [
        "############ITERTOOS###\n",
        "import itertools\n",
        "print(itertools.count(10))\n"
      ],
      "execution_count": null,
      "outputs": [
        {
          "output_type": "stream",
          "text": [
            "count(10)\n"
          ],
          "name": "stdout"
        }
      ]
    },
    {
      "cell_type": "code",
      "metadata": {
        "colab": {
          "base_uri": "https://localhost:8080/",
          "height": 34
        },
        "id": "ZeMYeAiutQK_",
        "outputId": "29b50788-ca67-4575-d938-7ec3b44ff1c2"
      },
      "source": [
        "s=[[1,2,1],[2,3],[3,2],[1,2,1],[2,1,1]]\n",
        "f_list  = set(tuple(sorted(x)) for x in s)\n",
        "print(f_list)\n",
        "g = []\n",
        "while(sum())"
      ],
      "execution_count": null,
      "outputs": [
        {
          "output_type": "stream",
          "text": [
            "{(2, 3), (1, 1, 2)}\n"
          ],
          "name": "stdout"
        }
      ]
    },
    {
      "cell_type": "code",
      "metadata": {
        "colab": {
          "base_uri": "https://localhost:8080/",
          "height": 34
        },
        "id": "_a46jwXbJYmp",
        "outputId": "22769e26-baf4-4dc3-c1df-01f8c48c67a9"
      },
      "source": [
        "###########DUPLICATE ENCODERR###############\n",
        "s = \"AABSDFGGGDERB\"\n",
        "s1 = s\n",
        "c= []\n",
        "k = 0\n",
        "t = []\n",
        "for i in s:\n",
        "  c.append(i)\n",
        "for j in c:\n",
        "  count = s.count(j)\n",
        "  if count>1:\n",
        "    s1 = s1.replace(j,')')\n",
        "  else:\n",
        "    s1 = s1.replace(j,'(')\n",
        "    #print(s1)\n",
        "print(s1) \n",
        "  "
      ],
      "execution_count": null,
      "outputs": [
        {
          "output_type": "stream",
          "text": [
            ")))()())))(()\n"
          ],
          "name": "stdout"
        }
      ]
    },
    {
      "cell_type": "code",
      "metadata": {
        "colab": {
          "base_uri": "https://localhost:8080/",
          "height": 34
        },
        "id": "SYY2cCm2cobY",
        "outputId": "1bc1e85a-e866-4058-8b25-423f785876da"
      },
      "source": [
        "##########Conting value based on indiecs##########\n",
        "\n",
        "l = [1,2,3,6,1,2,3]\n",
        "result = []\n",
        "for i in range(len(l)):\n",
        "  sum = 0\n",
        "  for j in range(0,i):\n",
        "    sum = sum+l[j]\n",
        "  if l[i] == sum:\n",
        "    result.append(l[i])\n",
        "print(result)\n",
        "  \n",
        "  "
      ],
      "execution_count": null,
      "outputs": [
        {
          "output_type": "stream",
          "text": [
            "[3, 6]\n"
          ],
          "name": "stdout"
        }
      ]
    },
    {
      "cell_type": "code",
      "metadata": {
        "colab": {
          "base_uri": "https://localhost:8080/",
          "height": 34
        },
        "id": "UZg4fOaGfsYt",
        "outputId": "826b4017-31a3-40ec-fe83-9aabda64027d"
      },
      "source": [
        "l = [1,100,50,-51,1,1]\n",
        "result = []\n",
        "\n",
        "for i in range(len(l)):\n",
        "  sum1 = 0\n",
        "  sum2 = 0\n",
        "  if i == 0:\n",
        "    continue\n",
        "  else:\n",
        "    for j in range(0,i):\n",
        "      sum1 = sum1+l[j]\n",
        "    for k in range(i+1,len(l)):\n",
        "      sum2 = sum2+l[k]\n",
        "    if sum1 == sum2:\n",
        "      result.append(i)\n",
        "print(result)"
      ],
      "execution_count": null,
      "outputs": [
        {
          "output_type": "stream",
          "text": [
            "[1]\n"
          ],
          "name": "stdout"
        }
      ]
    },
    {
      "cell_type": "code",
      "metadata": {
        "colab": {
          "base_uri": "https://localhost:8080/",
          "height": 68
        },
        "id": "8gSp6XsjfoOF",
        "outputId": "f8c1aae4-e249-4344-ebc0-ced127bba0ae"
      },
      "source": [
        "##########ENCRYPTION PROBLEM ###############\n",
        "cc = \"4578965243\"\n",
        "c = []\n",
        "for i in cc:\n",
        "  c.append(i)\n",
        "print(c)\n",
        "\n",
        "for j in range(len(c)-4):\n",
        "  c[j] = '#'\n",
        "print(c)\n",
        "\n",
        "print(\"'{0}'\".format(\"\".join(c)))"
      ],
      "execution_count": null,
      "outputs": [
        {
          "output_type": "stream",
          "text": [
            "['4', '5', '7', '8', '9', '6', '5', '2', '4', '3']\n",
            "['#', '#', '#', '#', '#', '#', '5', '2', '4', '3']\n",
            "'######5243'\n"
          ],
          "name": "stdout"
        }
      ]
    },
    {
      "cell_type": "code",
      "metadata": {
        "colab": {
          "base_uri": "https://localhost:8080/",
          "height": 34
        },
        "id": "gqqh2Majm-e7",
        "outputId": "ed2cdf2b-1845-4220-ab79-b45789d2d937"
      },
      "source": [
        "s = \"AAAAABBBCCCDDAAABB\"\n",
        "t = []\n",
        "temp = []\n",
        "temp1 = []\n",
        "for i in s:\n",
        "  t.append(i)\n",
        "\n",
        "k = 0\n",
        "\n",
        "for j in range(len(t)):\n",
        "  if j == 0:\n",
        "    temp.append(t[j])\n",
        "  else:\n",
        "    if temp[k]!=t[j]:\n",
        "      k = k+1\n",
        "      temp.append(t[j])\n",
        "  \n",
        "print(temp)"
      ],
      "execution_count": null,
      "outputs": [
        {
          "output_type": "stream",
          "text": [
            "['A', 'B', 'C', 'D', 'A', 'B']\n"
          ],
          "name": "stdout"
        }
      ]
    },
    {
      "cell_type": "code",
      "metadata": {
        "id": "NVziRmk5EuKQ"
      },
      "source": [
        "l = [1,2,3]\n",
        "print(l[::-1]))"
      ],
      "execution_count": null,
      "outputs": []
    },
    {
      "cell_type": "code",
      "metadata": {
        "id": "TYGfo1fkF4ko"
      },
      "source": [
        ""
      ],
      "execution_count": null,
      "outputs": []
    },
    {
      "cell_type": "code",
      "metadata": {
        "colab": {
          "base_uri": "https://localhost:8080/",
          "height": 85
        },
        "id": "xma-J2IdY3-B",
        "outputId": "794c4686-3efc-480b-97ae-24fe39983d79"
      },
      "source": [
        "class node:\n",
        "  def __init__(self,data):\n",
        "    self.data = data\n",
        "    self.link = None\n",
        "class linklist:\n",
        "  def __init__(self,data):\n",
        "    self.root = node(data)\n",
        "   \n",
        "  def insert(self,data):\n",
        "    p=self.root\n",
        "    while p.link != None:\n",
        "      p = p.link\n",
        "    q = node(data)\n",
        "    p.link = q\n",
        "  \n",
        "  def display(self):\n",
        "    counter = 0\n",
        "    while(self.root!= None):\n",
        "         \n",
        "      print(self.root.data)\n",
        "      counter = counter+1\n",
        "      self.root = self.root.link\n",
        "    print(counter)\n",
        "    \n",
        "\n",
        "if __name__ == '__main__':\n",
        "  l = linklist(10)\n",
        "  l.insert(20)\n",
        "  l.insert(30)\n",
        "  l.display()\n",
        "  \n",
        "  "
      ],
      "execution_count": null,
      "outputs": [
        {
          "output_type": "stream",
          "text": [
            "10\n",
            "20\n",
            "30\n",
            "3\n"
          ],
          "name": "stdout"
        }
      ]
    },
    {
      "cell_type": "code",
      "metadata": {
        "colab": {
          "base_uri": "https://localhost:8080/",
          "height": 153
        },
        "id": "hnzi6U_svBPZ",
        "outputId": "54bc6507-62c3-4402-837b-a9f21ea4971f"
      },
      "source": [
        "st = \"hello we are in the world of bay\"\n",
        "st1 = st.split(\" \")\n",
        "for i in st1:\n",
        "  i = i+i[0]\n",
        "  print(i[1:]+'ay')\n",
        "\n",
        " \n"
      ],
      "execution_count": null,
      "outputs": [
        {
          "output_type": "stream",
          "text": [
            "ellohay\n",
            "eway\n",
            "reaay\n",
            "niay\n",
            "hetay\n",
            "orldway\n",
            "foay\n",
            "aybay\n"
          ],
          "name": "stdout"
        }
      ]
    },
    {
      "cell_type": "code",
      "metadata": {
        "colab": {
          "base_uri": "https://localhost:8080/",
          "height": 35
        },
        "id": "X7VlEhmgq6U9",
        "outputId": "5c1afe09-4a8b-4bce-9c49-c03687b61512"
      },
      "source": [
        "def f(x):\n",
        "  d = 0\n",
        "  while x>=1:\n",
        "    (x,d) = (x/5,d+1)\n",
        "  return d\n",
        "if __name__ == '__main__':\n",
        " a =  f(4000)\n",
        " print(a)"
      ],
      "execution_count": null,
      "outputs": [
        {
          "output_type": "stream",
          "text": [
            "6\n"
          ],
          "name": "stdout"
        }
      ]
    },
    {
      "cell_type": "code",
      "metadata": {
        "colab": {
          "base_uri": "https://localhost:8080/",
          "height": 35
        },
        "id": "g2-R9wykr3y2",
        "outputId": "fee77a5a-747a-4537-b232-6c424542f1c7"
      },
      "source": [
        "def h(n):\n",
        "  s=0\n",
        "  for i in range(2,n):\n",
        "    if n%i == 0:\n",
        "      s = s+i\n",
        "  return s\n",
        "def g(m,n):\n",
        "  res = 0\n",
        "  while m>=n:\n",
        "    (res,m) = (res+1,m/n)\n",
        "  return res\n",
        "if __name__ == '__main__':\n",
        "  #a = h(36)\n",
        "  #b = h(34)\n",
        "  #print(a-b)\n",
        "  d = g()"
      ],
      "execution_count": null,
      "outputs": [
        {
          "output_type": "stream",
          "text": [
            "35\n"
          ],
          "name": "stdout"
        }
      ]
    },
    {
      "cell_type": "code",
      "metadata": {
        "id": "y2x7EJIgr3xH"
      },
      "source": [
        ""
      ],
      "execution_count": null,
      "outputs": []
    },
    {
      "cell_type": "code",
      "metadata": {
        "id": "HS5yc278r3vT"
      },
      "source": [
        ""
      ],
      "execution_count": null,
      "outputs": []
    },
    {
      "cell_type": "code",
      "metadata": {
        "id": "i-WglMgVr3ss"
      },
      "source": [
        ""
      ],
      "execution_count": null,
      "outputs": []
    },
    {
      "cell_type": "code",
      "metadata": {
        "id": "0rYoCCKPq6RM"
      },
      "source": [
        ""
      ],
      "execution_count": null,
      "outputs": []
    },
    {
      "cell_type": "code",
      "metadata": {
        "colab": {
          "base_uri": "https://localhost:8080/",
          "height": 34
        },
        "id": "kZnjAWvsDFCG",
        "outputId": "29751564-7870-4d8d-9a48-3ca7ecba94cf"
      },
      "source": [
        "s = \"foo1233\"\n",
        "#https://www.codewars.com/kata/54a91a4883a7de5d7800009c/train/python\n",
        "m  = ['1','2','3','4','5','6','7','8']\n",
        "s1 = \" \"\n",
        "for i in s:\n",
        "  if i in m:\n",
        "    s1 = s1+i\n",
        "  else:\n",
        "    continue\n",
        "print(s1)\n",
        "  \n",
        "  \n",
        "  \n",
        "  \n",
        "  "
      ],
      "execution_count": null,
      "outputs": [
        {
          "output_type": "stream",
          "text": [
            " 1233\n"
          ],
          "name": "stdout"
        }
      ]
    },
    {
      "cell_type": "code",
      "metadata": {
        "id": "_HAlvIeVjtYe"
      },
      "source": [
        "############USING RECURSION #########################\n",
        "class btree:\n",
        "  def __init__(self,data):\n",
        "    self.data = data\n",
        "    self.left = None\n",
        "    self.right = None\n",
        "  def insert(self,data):\n",
        "    if self.data:\n",
        "      if data<self.data:\n",
        "        if self.left is None:\n",
        "          self.left = btree(data)\n",
        "        else:\n",
        "          self.left.insert(data)\n",
        "      elif data>self.data:\n",
        "        if self.right is None:\n",
        "          self.right = btree(data)\n",
        "        else:\n",
        "          self.right.insert(data)\n",
        "    else:\n",
        "      self.data = data\n",
        "  def inorder(self):\n",
        "    if self.left:\n",
        "      self.left.inorder()\n",
        "    print(self.data)\n",
        "    if self.right:\n",
        "      self.right.inorder()\n",
        "  def preorder(self):\n",
        "    print(self.data)\n",
        "    if self.left:\n",
        "      self.left.preorder()\n",
        "    if self.right:\n",
        "      self.right.preorder()\n",
        "      \n",
        "if __name__ == '__main__':\n",
        "  root = btree(25)\n",
        "  root.insert(20)\n",
        "  root.insert(40)\n",
        "  root.insert(10)\n",
        "  root.insert(28)\n",
        "  root.insert(33)\n",
        "  root.insert(48)\n",
        "  root.insert(17)\n",
        "  root.inorder()\n",
        "  print(\"#########\")\n",
        "  root.preorder()\n",
        "        \n",
        "    \n",
        "    \n",
        "  \n",
        "        \n",
        "      \n",
        "      \n",
        "      "
      ],
      "execution_count": null,
      "outputs": []
    },
    {
      "cell_type": "code",
      "metadata": {
        "id": "KpASAIrN-vNe"
      },
      "source": [
        "#############WITHOUT USING RECURSION###################\n",
        "\n",
        "\n",
        "class btree:\n",
        "  def __init__(self,data):\n",
        "    self.data = data\n",
        "    self.left = None\n",
        "    self.right = None\n",
        "  def insert(self,data):\n",
        "    if self.data:\n",
        "      if data<self.data:\n",
        "        if self.left is None:\n",
        "          self.left = btree(data)\n",
        "        else:\n",
        "          self.left = self.left\n",
        "      elif data>self.data:\n",
        "        if self.right is None:\n",
        "          self.right = btree(data)\n",
        "        else:\n",
        "          self.right = self.right.right\n",
        "    else:\n",
        "      self.data = data\n",
        "  def inorder(self):\n",
        "    if self.left:\n",
        "      self.left.inorder()\n",
        "    print(self.data)\n",
        "    if self.right:\n",
        "      self.right.inorder()\n",
        "if __name__ == '__main__':\n",
        "  b = btree(48)\n",
        "  b.insert(32)\n",
        "  b.insert(72)\n",
        "  b.insert(16)\n",
        "  b.insert(41)\n",
        "  b.insert(60)\n",
        "  b.insert(87)\n",
        "  b.insert(19)\n",
        "  b.inorder()"
      ],
      "execution_count": null,
      "outputs": []
    },
    {
      "cell_type": "code",
      "metadata": {
        "id": "KbC9bVGCi5Az"
      },
      "source": [
        ""
      ],
      "execution_count": null,
      "outputs": []
    },
    {
      "cell_type": "code",
      "metadata": {
        "id": "thWdugBLHX3V"
      },
      "source": [
        "####how to reverse two largest words in a string###########\n",
        "import operator\n",
        "def reversee():\n",
        "  li = input()\n",
        "  temp = li.split(\" \")\n",
        "  lii = []\n",
        "  for x in range(0,len(temp)):\n",
        "    lii.append((len(temp[x]),x))\n",
        "  kii = sorted(lii,reverse = True)\n",
        "  index = []\n",
        "  for i in range(2):\n",
        "    index.append(kii[i][1])\n",
        "  rev = []\n",
        "  for i in index:\n",
        "    rev.append(temp[i][::-1])\n",
        "  print(rev)\n",
        "  count = 0\n",
        "  for i in index:\n",
        "    temp[i] = rev[count]\n",
        "    count = count+1\n",
        "  print(\" \".join(temp))\n",
        "  #temp[]\n",
        "  \"\"\"\"for i in index:\n",
        "    print(temp[i].replace(temp[i],rev[count]))\n",
        "    count = count+1\n",
        "   \"\"\"\n",
        "if __name__ == '__main__':\n",
        "  reversee()"
      ],
      "execution_count": null,
      "outputs": []
    },
    {
      "cell_type": "code",
      "metadata": {
        "colab": {
          "base_uri": "https://localhost:8080/"
        },
        "id": "Wyt1r5FL2qte",
        "outputId": "03d350aa-4aa4-44e1-b477-ad21516d4666"
      },
      "source": [
        "###program to return a dictionary of vowels in a string###\n",
        "def vowel(s):\n",
        "  vowe = ['a','e','i','o','u']\n",
        "  count = 0\n",
        "  for i in s:\n",
        "    if i in vowe:\n",
        "      count = count+1\n",
        "  return count\n",
        "def make():\n",
        "  sample = input().split(\" \")\n",
        "  dictr= {}\n",
        "  for k in sample:\n",
        "    dictr[k] = vowel(k)\n",
        "  print(sorted(dictr.keys()))##sorting on keys returning keys###\n",
        "  print(sorted(dictr.items()))##sorting on keys but returning key,value pair## \n",
        "  print(sorted(dictr.items(),key = lambda x: x[1]))#sorting on values#\n",
        "  print(sorted(dictr.values()))#sorting on values#\n",
        "if __name__ == '__main__':\n",
        "  make()"
      ],
      "execution_count": null,
      "outputs": [
        {
          "output_type": "stream",
          "text": [
            "hello this worls is facing corona\n",
            "['corona', 'facing', 'hello', 'is', 'this', 'worls']\n",
            "[('corona', 3), ('facing', 2), ('hello', 2), ('is', 1), ('this', 1), ('worls', 1)]\n",
            "[('this', 1), ('worls', 1), ('is', 1), ('hello', 2), ('facing', 2), ('corona', 3)]\n",
            "[1, 1, 1, 2, 2, 3]\n"
          ],
          "name": "stdout"
        }
      ]
    },
    {
      "cell_type": "code",
      "metadata": {
        "id": "kpo-ou_XqoPh"
      },
      "source": [
        "####### Exception Handling ##############\n",
        "x = 10\n",
        "if x>5:\n",
        "  raise Exception('the eception is raise:{}'.format(x))\n",
        "####### Using Raise Exception ##########\n"
      ],
      "execution_count": null,
      "outputs": []
    },
    {
      "cell_type": "code",
      "metadata": {
        "colab": {
          "base_uri": "https://localhost:8080/",
          "height": 34
        },
        "id": "MUnPrvQA21Ba",
        "outputId": "a9b63816-7f47-4be7-aca0-1d7dbcdb1dde"
      },
      "source": [
        "s = \"hello world\"\n",
        "print(s[2:5])\n",
        "  #print(i)"
      ],
      "execution_count": null,
      "outputs": [
        {
          "output_type": "stream",
          "text": [
            "llo\n"
          ],
          "name": "stdout"
        }
      ]
    },
    {
      "cell_type": "code",
      "metadata": {
        "colab": {
          "base_uri": "https://localhost:8080/",
          "height": 34
        },
        "id": "UsUjjmy2uyeb",
        "outputId": "972b9d15-caf7-4acc-b80a-5ea6c790f058"
      },
      "source": [
        "########## input out put in python ##########\n",
        "l=[2,3,4,8,10]\n",
        "o = 0\n",
        "e = 0\n",
        "for i in l:\n",
        "  if i%2 == 0:\n",
        "    val = i\n",
        "    e=e+1\n",
        "  else:\n",
        "    val1 = i\n",
        "    o = o+1\n",
        "if(e == 1):\n",
        "  print(\"remove even\",val)\n",
        "else:\n",
        "  print(\"remove odd\",val1)\n",
        "\n",
        "integer"
      ],
      "execution_count": null,
      "outputs": [
        {
          "output_type": "stream",
          "text": [
            "remove odd 3\n"
          ],
          "name": "stdout"
        }
      ]
    },
    {
      "cell_type": "code",
      "metadata": {
        "colab": {
          "base_uri": "https://localhost:8080/",
          "height": 34
        },
        "id": "o53lWrgdqtRp",
        "outputId": "0f9a0313-32b6-4c1e-ff2e-fe7800241000"
      },
      "source": [
        "inte = 46288\n",
        "sum = 0\n",
        "p = 3\n",
        "for i in str(inte):\n",
        "  sum = sum+pow(int(i),p)\n",
        "  p = p+1\n",
        "if sum%inte == 0:\n",
        "  print(int(sum/inte))\n",
        "else:\n",
        "  print(\"np\")"
      ],
      "execution_count": null,
      "outputs": [
        {
          "output_type": "stream",
          "text": [
            "51\n"
          ],
          "name": "stdout"
        }
      ]
    },
    {
      "cell_type": "code",
      "metadata": {
        "colab": {
          "base_uri": "https://localhost:8080/",
          "height": 34
        },
        "id": "8DwMMuX2zuJo",
        "outputId": "78820921-3974-4d32-9bb5-18db27d4c94c"
      },
      "source": [
        "########tribonacci series############\n",
        "li = [1,1,1]\n",
        "p = li[0]\n",
        "l = li[1]\n",
        "f = li[2]\n",
        "l2 = []\n",
        "for i in range(10):\n",
        "  n = p+l+f\n",
        "  l2.append(n)\n",
        "  #print(n)\n",
        "  p = l\n",
        "  l = f\n",
        "  f = n\n",
        "print(li+l2)\n"
      ],
      "execution_count": null,
      "outputs": [
        {
          "output_type": "stream",
          "text": [
            "[1, 1, 1, 3, 5, 9, 17, 31, 57, 105, 193, 355, 653]\n"
          ],
          "name": "stdout"
        }
      ]
    },
    {
      "cell_type": "code",
      "metadata": {
        "colab": {
          "base_uri": "https://localhost:8080/",
          "height": 34
        },
        "id": "L2nCwmRu08us",
        "outputId": "c8eda70e-7b19-4a7d-e8f6-5f169dc113e1"
      },
      "source": [
        "s1 = \"absbsbdbdbdbcc\"\n",
        "s2 = \"xdjedjdjdwkkwwkw\"\n",
        "l = []\n",
        "m = []\n",
        "for i in s1:\n",
        "  l.append(i)\n",
        "for j in s2:\n",
        "  m.append(j)\n",
        "print(sorted(set(l+m)))\n",
        "\n"
      ],
      "execution_count": null,
      "outputs": [
        {
          "output_type": "stream",
          "text": [
            "['a', 'b', 'c', 'd', 'e', 'j', 'k', 's', 'w', 'x']\n"
          ],
          "name": "stdout"
        }
      ]
    },
    {
      "cell_type": "code",
      "metadata": {
        "id": "ku6uQMHauycp"
      },
      "source": [
        "#   XOR Problem################\n",
        "import numpy as np\n",
        "x = [[0,0],[0,1],[1,0],[1,1]]\n",
        "w = np.random.rand(8).reshape(4,2)\n",
        "x_arr = np.asarray(x)\n",
        "print(np.dot(w,x_arr.T))\n",
        "print(np.asarray(x))"
      ],
      "execution_count": null,
      "outputs": []
    },
    {
      "cell_type": "code",
      "metadata": {
        "colab": {
          "base_uri": "https://localhost:8080/",
          "height": 51
        },
        "id": "06Jyy1YqSSdb",
        "outputId": "e549f451-2a82-4520-b609-be5c6e35f9c2"
      },
      "source": [
        "from operator import itemgetter\n",
        "t = input()\n",
        "x = t.split(\" \")\n",
        "for i in x:\n",
        "  if i == \"\":\n",
        "    \n",
        "    x.remove(i)\n",
        "l = []\n",
        "for i in x:\n",
        "  sum = 0\n",
        "  for j in i:\n",
        "    sum = sum+int(j)\n",
        "  l.append((sum,i))\n",
        "res = \" \".join(list(map(itemgetter(1),sorted(l))))\n",
        "print(res)\n",
        "#2000 10003 123400 4444444 11 11 22 123"
      ],
      "execution_count": null,
      "outputs": [
        {
          "output_type": "stream",
          "text": [
            "56 65 74 100 99 68 86 180 90\n",
            "100 180 90 56 65 74 68 86 99\n"
          ],
          "name": "stdout"
        }
      ]
    },
    {
      "cell_type": "code",
      "metadata": {
        "colab": {
          "base_uri": "https://localhost:8080/",
          "height": 51
        },
        "id": "K8BaGytf_HqH",
        "outputId": "7dce0ac2-06e2-4883-ef10-90c06ea720b7"
      },
      "source": [
        "import numpy as np\n",
        "\n",
        "a = [[9,7],[0,1]]\n",
        "c = np.array(a)\n",
        "b = [[1,1],[4,12]]\n",
        "d = np.array(b)\n",
        "print(np.dot(c,d))"
      ],
      "execution_count": null,
      "outputs": [
        {
          "output_type": "stream",
          "text": [
            "[[37 93]\n",
            " [ 4 12]]\n"
          ],
          "name": "stdout"
        }
      ]
    },
    {
      "cell_type": "code",
      "metadata": {
        "colab": {
          "base_uri": "https://localhost:8080/",
          "height": 51
        },
        "id": "M-sibnVdhi5c",
        "outputId": "86ab759f-19ca-404e-abf5-85ed920f3a6d"
      },
      "source": [
        "    string =input()\n",
        "    k = string.lower()\n",
        "    l = []\n",
        "    for i in k:\n",
        "      l.append(k.count(i))\n",
        "    if(len(set(l))==1):\n",
        "      print(\"false\")\n",
        "    else:\n",
        "      if len(k)==1:\n",
        "        \n",
        "        print(k)\n",
        "      elif len(k) ==0:\n",
        "        \n",
        "        print(\"empty\")\n",
        "      elif len(k)>1:\n",
        "        for i in range(len(k)):\n",
        "          c = k.count(k[i])\n",
        "          if c==1:\n",
        "            print(string[i])\n",
        "            break\n",
        "      "
      ],
      "execution_count": null,
      "outputs": [
        {
          "output_type": "stream",
          "text": [
            "aabb\n",
            "false\n"
          ],
          "name": "stdout"
        }
      ]
    },
    {
      "cell_type": "code",
      "metadata": {
        "colab": {
          "base_uri": "https://localhost:8080/"
        },
        "id": "O91_gosBhDkB",
        "outputId": "82f14208-28d5-4908-fb91-571c20f98747"
      },
      "source": [
        "#########String Increemeter##########\n",
        "m=['1','2','3','4','5','6','7','8','9','0']\n",
        "s = \" \"\n",
        "\n",
        "strn = \"foo0999\"\n",
        "count = 0\n",
        "for i in strn:\n",
        "  if i in m:\n",
        "    count = count+1\n",
        "#print(\"total integers\",count)\n",
        "s = strn[len(strn)-count:]\n",
        "#print(\"integr list\",integ)\n",
        "if s == \" \":\n",
        "  print(strn+\"1\")\n",
        "elif strn == \" \":\n",
        "  print(\"1\")\n",
        "elif len(s)>=1:\n",
        "  #print(\"length of s\",len(s))\n",
        "  zero = s.count('0')\n",
        "  #z =str(len(s[0:len(s)-len(str(int(s)))]))\n",
        "  #print(\"zero\",z)\n",
        "  #print(len(z))\n",
        "  res = s[zero:]\n",
        "  #print(\"res\",res)\n",
        "if zero>=1:\n",
        "  #print(\"hi\")\n",
        "  ni = len(set(s[zero:].split(\",\")))==1\n",
        "  if ni == 1:\n",
        "    print(strn[0:len(strn)-len(s)]+s[1:zero]+str(int(res)+1))\n",
        "  else:\n",
        "    print(strn[0:len(strn)-len(s)]+s[0:zero]+str(int(res)+1))\n",
        "else:\n",
        "  print(len(strn),len(s))\n",
        "  print(len(strn[0:len(strn)-len(s)]))\n",
        " \n",
        "  \n",
        "  \n"
      ],
      "execution_count": null,
      "outputs": [
        {
          "output_type": "stream",
          "text": [
            "foo1000\n"
          ],
          "name": "stdout"
        }
      ]
    },
    {
      "cell_type": "code",
      "metadata": {
        "colab": {
          "base_uri": "https://localhost:8080/",
          "height": 85
        },
        "id": "rDvcAwGU2Qug",
        "outputId": "8b938f9e-d55e-4eeb-9af5-1e44389483d7"
      },
      "source": [
        "#########IP adress verification###########\n",
        "from operator import itemgetter\n",
        "s = \"1222.36.45.12\"\n",
        "cout = s.count(\".\")\n",
        "if cout == 3:\n",
        "  print(\"first check\")\n",
        "  ip = s.split(\".\")\n",
        "  print(ip)\n",
        "  l = list(map(itemgetter(0),ip))\n",
        "  print(l)\n",
        "  if '0'in l:\n",
        "    print(\"enter correct ip\")\n",
        "  else:\n",
        "    k = 0\n",
        "    for i in ip:\n",
        "      if int(i)>=0 and int(i)<=255:\n",
        "        k = k+1\n",
        "    if k==4:\n",
        "      print(\"true\")\n",
        "    else:\n",
        "      print(\"false\")\n",
        "      "
      ],
      "execution_count": null,
      "outputs": [
        {
          "output_type": "stream",
          "text": [
            "first check\n",
            "['1222', '36', '45', '12']\n",
            "['1', '3', '4', '1']\n",
            "false\n"
          ],
          "name": "stdout"
        }
      ]
    },
    {
      "cell_type": "code",
      "metadata": {
        "id": "lhgfLO9980Cg"
      },
      "source": [
        "!pip install tldextract"
      ],
      "execution_count": null,
      "outputs": []
    },
    {
      "cell_type": "code",
      "metadata": {
        "id": "rm5L-ldGy7IN"
      },
      "source": [
        ""
      ],
      "execution_count": null,
      "outputs": []
    },
    {
      "cell_type": "code",
      "metadata": {
        "colab": {
          "base_uri": "https://localhost:8080/",
          "height": 34
        },
        "id": "ynRURNLCJOBF",
        "outputId": "b10c82ab-ca29-4167-c49a-26fb987c1d52"
      },
      "source": [
        "##############Extract domain name from URL##################\n",
        "\n",
        "\n",
        "import tldextract\n",
        "\n",
        "s = \"http://www.landur.com\"\n",
        "e = tldextract.extract(s)\n",
        "print(e.domain)"
      ],
      "execution_count": null,
      "outputs": [
        {
          "output_type": "stream",
          "text": [
            "landur\n"
          ],
          "name": "stdout"
        }
      ]
    },
    {
      "cell_type": "code",
      "metadata": {
        "colab": {
          "base_uri": "https://localhost:8080/"
        },
        "id": "KEeD0t1n9QqS",
        "outputId": "c934546c-7619-457c-9907-700f1a9f6ec1"
      },
      "source": [
        "##########password checker###########\n",
        "import re\n",
        "s = \"aA123\"\n",
        "if re.match(\"^(?=.*[a-z])(?=.*[0-9])(?=.*[A-Z]).{4,20}$\",s):\n",
        "  print(\"True\")"
      ],
      "execution_count": null,
      "outputs": [
        {
          "output_type": "stream",
          "text": [
            "True\n"
          ],
          "name": "stdout"
        }
      ]
    },
    {
      "cell_type": "code",
      "metadata": {
        "id": "qPfzAjL8JZ9z"
      },
      "source": [
        "##############PICK PEAS##################\n",
        "t = [1,2,3,2,2,1,3,2,3,3,3,3,3,1,2,2,2,2,1]#[2,6]: [3,3]\n",
        "pos = []\n",
        "peak = []\n",
        "d = {}\n",
        "k=1\n",
        "for i in range(1,len(t)):\n",
        "  l = t[i-k]\n",
        "  print(l)\n",
        "  if i<=len(t)-2:\n",
        "    r = t[i+1]\n",
        "  if t[i]>l and t[i]>r:\n",
        "    pos.append(i)\n",
        "    peak.append(t[i])\n",
        "    print(l)\n",
        "    k=k+1\n",
        "  if t[i]>l and t[i]==r:\n",
        "    r = t[i+1]\n",
        "    print(\"hello\")\n",
        "    \n",
        "    \n",
        "print(pos,peak)   \n",
        "    \n",
        "    "
      ],
      "execution_count": null,
      "outputs": []
    },
    {
      "cell_type": "code",
      "metadata": {
        "colab": {
          "base_uri": "https://localhost:8080/",
          "height": 51
        },
        "id": "ydxljV8z878O",
        "outputId": "492cb81d-10bb-4dba-bb4c-b244dc77b3a6"
      },
      "source": [
        "from operator import itemgetter\n",
        "l = [\"ababta 20\",\"dela 13\",\"auro 71\",\"colaba 12\",\"baert 13\",\"erqui 15\"]\n",
        "l1 = set(map(itemgetter(0),l))\n",
        "print(l1)\n",
        "dict = {}\n",
        "for i in l1:\n",
        "  k=0\n",
        "  for j in l:\n",
        "    if i == j[0]:\n",
        "      k = k+1\n",
        "    dict[i]=k\n",
        "print(dict)\n"
      ],
      "execution_count": null,
      "outputs": [
        {
          "output_type": "stream",
          "text": [
            "{'e', 'b', 'd', 'c', 'a'}\n",
            "{'e': 1, 'b': 1, 'd': 1, 'c': 1, 'a': 2}\n"
          ],
          "name": "stdout"
        }
      ]
    },
    {
      "cell_type": "code",
      "metadata": {
        "colab": {
          "base_uri": "https://localhost:8080/",
          "height": 51
        },
        "id": "ELOnHWfLCzM3",
        "outputId": "95d839f1-d509-496b-f5ca-98703a781817"
      },
      "source": [
        "s=\"a b b\"\n",
        "s1=s.split(\" \")\n",
        "print(s1)\n",
        "s2 = []\n",
        "for i in s1:\n",
        "  if len(i)==1:\n",
        "    s2.append(i.upper())\n",
        "  else:\n",
        "    str1 = \"\"\n",
        "    for j in range(0,len(i)):\n",
        "      if j==0:\n",
        "        str1 = str1+(i[0].upper())\n",
        "      else:\n",
        "        str1 = str1+i[j]\n",
        "    s2.append(str1)\n",
        "print(s2)\n",
        "    \n",
        "    \n",
        "  "
      ],
      "execution_count": null,
      "outputs": [
        {
          "output_type": "stream",
          "text": [
            "['a', 'b', 'b']\n",
            "['A', 'B', 'B']\n"
          ],
          "name": "stdout"
        }
      ]
    },
    {
      "cell_type": "code",
      "metadata": {
        "id": "B-4ofxyu-TOn"
      },
      "source": [
        "##########Longest Palindrome###########\n",
        "s  = \"i like raceCar that go fast\"\n",
        "s1 = s.split(\" \")\n",
        "l=0\n",
        "for i in s1:\n",
        "  sr = i[::-1]\n",
        "  if i==sr and len(i)>l:\n",
        "    l=len(i)\n",
        "    f = i\n",
        "print(f)\n",
        "  "
      ],
      "execution_count": null,
      "outputs": []
    },
    {
      "cell_type": "code",
      "metadata": {
        "colab": {
          "base_uri": "https://localhost:8080/",
          "height": 102
        },
        "id": "iXB5SeXVMTjJ",
        "outputId": "a9674d5e-7808-4095-97e6-d9d5bf615674"
      },
      "source": [
        "##### FILES in PYTHON ############\n",
        "\n",
        "test = ['A','B','C','D','E','F','G','H','I','J','K','L','M','N','O','P','R','S','T','U','V']\n",
        "a = ['a','b','c','d','f']\n",
        "k= ord(a[0])\n",
        "for i in a:\n",
        "  \n",
        "  if ord(i)==k:\n",
        "    print(i,chr(k))\n",
        "    k = k+1\n",
        "  else:\n",
        "    print(chr(ord(i)-1))"
      ],
      "execution_count": null,
      "outputs": [
        {
          "output_type": "stream",
          "text": [
            "a a\n",
            "b b\n",
            "c c\n",
            "d d\n",
            "e\n"
          ],
          "name": "stdout"
        }
      ]
    },
    {
      "cell_type": "code",
      "metadata": {
        "id": "CrMbqMcjBgmn"
      },
      "source": [
        "###########coding of Ball###########\n",
        "v  = ((int(input(\"enter speed\")))*5)/18\n",
        "\n",
        "g = (9.81)\n",
        "for i in range(1,20):\n",
        "  t = i*10\n",
        "  h = v*t-(.5*9.81*t*t)\n",
        "  print(h)"
      ],
      "execution_count": null,
      "outputs": []
    },
    {
      "cell_type": "markdown",
      "metadata": {
        "id": "au4LGfX_CeME"
      },
      "source": [
        "Python basics"
      ]
    },
    {
      "cell_type": "code",
      "metadata": {
        "id": "eRymHH_sAlhz"
      },
      "source": [
        "2+2"
      ],
      "execution_count": null,
      "outputs": []
    },
    {
      "cell_type": "code",
      "metadata": {
        "id": "3NFZu-K2Csot"
      },
      "source": [
        "50-5*6"
      ],
      "execution_count": null,
      "outputs": []
    },
    {
      "cell_type": "code",
      "metadata": {
        "id": "o_GQt-grC2ub"
      },
      "source": [
        "int(17/3)"
      ],
      "execution_count": null,
      "outputs": []
    },
    {
      "cell_type": "code",
      "metadata": {
        "id": "QWrAJ9wJC6j6",
        "colab": {
          "base_uri": "https://localhost:8080/"
        },
        "outputId": "5a8480c4-cf13-4dc8-ef22-04b145769cb4"
      },
      "source": [
        "17//3"
      ],
      "execution_count": null,
      "outputs": [
        {
          "output_type": "execute_result",
          "data": {
            "text/plain": [
              "5"
            ]
          },
          "metadata": {
            "tags": []
          },
          "execution_count": 27
        }
      ]
    },
    {
      "cell_type": "code",
      "metadata": {
        "id": "IZ3oS3AgC95F"
      },
      "source": [
        "17%3"
      ],
      "execution_count": null,
      "outputs": []
    },
    {
      "cell_type": "markdown",
      "metadata": {
        "id": "KXVg3Y_hDjF3"
      },
      "source": [
        "Working with srings"
      ]
    },
    {
      "cell_type": "code",
      "metadata": {
        "id": "HtPYCw2nDC8G"
      },
      "source": [
        "'spam eggs'"
      ],
      "execution_count": null,
      "outputs": []
    },
    {
      "cell_type": "code",
      "metadata": {
        "id": "dy0C12M5DyA4"
      },
      "source": [
        "'doesn\\'t'"
      ],
      "execution_count": null,
      "outputs": []
    },
    {
      "cell_type": "code",
      "metadata": {
        "id": "7i_uu9G5D-V4"
      },
      "source": [
        "s = 'first line is this.\\nSecond line is this'\n",
        "print(s)\n",
        "s"
      ],
      "execution_count": null,
      "outputs": []
    },
    {
      "cell_type": "code",
      "metadata": {
        "id": "N7H8_7GGE0GQ"
      },
      "source": [
        "print(\"\\some\\name\")\n",
        "print(r\"\\some\\name\")"
      ],
      "execution_count": null,
      "outputs": []
    },
    {
      "cell_type": "code",
      "metadata": {
        "id": "rO2vL8JTFLwY"
      },
      "source": [
        "3*'py'+'thon'"
      ],
      "execution_count": null,
      "outputs": []
    },
    {
      "cell_type": "code",
      "metadata": {
        "id": "mEHLj4KIFW4l"
      },
      "source": [
        "'hello' 'world'"
      ],
      "execution_count": null,
      "outputs": []
    },
    {
      "cell_type": "code",
      "metadata": {
        "id": "L19MMdXTFia6"
      },
      "source": [
        "s='hello'\n",
        "s 'world'"
      ],
      "execution_count": null,
      "outputs": []
    },
    {
      "cell_type": "code",
      "metadata": {
        "id": "Z7exeRhkFv3V"
      },
      "source": [
        "s='hello'\n",
        "s+'worls'"
      ],
      "execution_count": null,
      "outputs": []
    },
    {
      "cell_type": "markdown",
      "metadata": {
        "id": "EYhuviu3B5r4"
      },
      "source": [
        "Decision control statements"
      ]
    },
    {
      "cell_type": "code",
      "metadata": {
        "colab": {
          "base_uri": "https://localhost:8080/"
        },
        "id": "djIX-DE7B9hm",
        "outputId": "a02f1caf-e5a2-493e-d57b-9758f92d66f1"
      },
      "source": [
        "# if statement\n",
        "\n",
        "a=10\n",
        "if a>3:\n",
        "  print(a)\n",
        "if a>6:\n",
        "  print(a)\n",
        "if a>20:\n",
        "  print(a)"
      ],
      "execution_count": null,
      "outputs": [
        {
          "output_type": "stream",
          "text": [
            "10\n",
            "10\n"
          ],
          "name": "stdout"
        }
      ]
    },
    {
      "cell_type": "code",
      "metadata": {
        "id": "HoGzLKxkF2n_"
      },
      "source": [
        "# if else\n",
        "a,b=10,20\n",
        "if a>b:\n",
        "  print(a)\n",
        "else:\n",
        "  print(b)\n",
        "x = int(input(\"enter x\"))\n",
        "y = int(input(\"enter y\"))\n",
        "z = int(input(\"enter z\"))\n",
        "# elif #else if\n",
        "if x>y:\n",
        "  print(x)\n",
        "elif y>x and y>z: # and is conditional operator\n",
        "  print(y)\n",
        "else:\n",
        "  print(z)"
      ],
      "execution_count": null,
      "outputs": []
    },
    {
      "cell_type": "code",
      "metadata": {
        "colab": {
          "base_uri": "https://localhost:8080/"
        },
        "id": "AfHN3VWwO4rd",
        "outputId": "fe5b0da4-0a50-4737-86b6-4da36c0f939d"
      },
      "source": [
        "a=3\n",
        "b=6\n",
        "print(a+b)"
      ],
      "execution_count": null,
      "outputs": [
        {
          "output_type": "stream",
          "text": [
            "9\n"
          ],
          "name": "stdout"
        }
      ]
    },
    {
      "cell_type": "markdown",
      "metadata": {
        "id": "NBxnEQWAFo9P"
      },
      "source": [
        "Loop structures"
      ]
    },
    {
      "cell_type": "code",
      "metadata": {
        "id": "qip5bacOFsum"
      },
      "source": [
        "#while loop\n",
        "i=10\n",
        "while i>1:\n",
        "  print(i)\n",
        "  i=i-1"
      ],
      "execution_count": null,
      "outputs": []
    },
    {
      "cell_type": "code",
      "metadata": {
        "id": "s2sMJIzdGAS8"
      },
      "source": [
        "for i in range(5):\n",
        "  print(i)\n",
        "  "
      ],
      "execution_count": null,
      "outputs": []
    },
    {
      "cell_type": "code",
      "metadata": {
        "id": "9S0LcVaBFlQc"
      },
      "source": [
        "for i in range(10):\n",
        "  if i<5:\n",
        "    print(\"ok\")\n",
        "    continue\n",
        "  else:\n",
        "    print(\"not ok\")\n",
        "    break"
      ],
      "execution_count": null,
      "outputs": []
    },
    {
      "cell_type": "markdown",
      "metadata": {
        "id": "f0RkNzMmG_3f"
      },
      "source": [
        "Pass satement\n"
      ]
    },
    {
      "cell_type": "code",
      "metadata": {
        "id": "g9Oka_txHCQE"
      },
      "source": [
        "#suppose we have a function or a loop which we want to implement but not now and \n",
        "#we cannot have an empty body of any of them then we use pass"
      ],
      "execution_count": null,
      "outputs": []
    },
    {
      "cell_type": "code",
      "metadata": {
        "id": "ahkWlw1WHhn0"
      },
      "source": [
        "for i in range(5):\n",
        "  pass"
      ],
      "execution_count": null,
      "outputs": []
    },
    {
      "cell_type": "code",
      "metadata": {
        "id": "IfxtaZMpHmHO"
      },
      "source": [
        "def sum():\n",
        "  pass"
      ],
      "execution_count": null,
      "outputs": []
    },
    {
      "cell_type": "code",
      "metadata": {
        "colab": {
          "base_uri": "https://localhost:8080/"
        },
        "id": "EtHhw1XTQhhm",
        "outputId": "20d10f65-fa5d-43eb-e725-27119d0dcc57"
      },
      "source": [
        "#logical operators\n",
        "a,b=10,20\n",
        "if a>5 or b>50:\n",
        "  print(\"hello\")\n",
        "\n"
      ],
      "execution_count": null,
      "outputs": [
        {
          "output_type": "stream",
          "text": [
            "hello\n"
          ],
          "name": "stdout"
        }
      ]
    },
    {
      "cell_type": "code",
      "metadata": {
        "colab": {
          "base_uri": "https://localhost:8080/"
        },
        "id": "1yooLaDUSIyM",
        "outputId": "5903691b-2b4a-48f6-952a-4e2f569116f0"
      },
      "source": [
        "#not operator\n",
        "x=3\n",
        "if  not x>3:\n",
        "  print(\"true\")\n",
        "else:\n",
        "  print(\"false\")"
      ],
      "execution_count": null,
      "outputs": [
        {
          "output_type": "stream",
          "text": [
            "true\n"
          ],
          "name": "stdout"
        }
      ]
    },
    {
      "cell_type": "markdown",
      "metadata": {
        "id": "8mfvXCVHgZYp"
      },
      "source": [
        "Building blocks in python Functions"
      ]
    },
    {
      "cell_type": "code",
      "metadata": {
        "colab": {
          "base_uri": "https://localhost:8080/"
        },
        "id": "n-MiGv7KgiHB",
        "outputId": "6f13fb6e-4a86-42b9-b46f-be424f3b783d"
      },
      "source": [
        "def summ(a,b):\n",
        "  #parameters\n",
        "  c = a+b\n",
        "  return c\n",
        "result =  summ(10,20)\n",
        "print(result)\n",
        "\n"
      ],
      "execution_count": null,
      "outputs": [
        {
          "output_type": "stream",
          "text": [
            "30\n"
          ],
          "name": "stdout"
        }
      ]
    },
    {
      "cell_type": "markdown",
      "metadata": {
        "id": "WNdBK9r7k5AP"
      },
      "source": [
        "parameters and scope of a variable"
      ]
    },
    {
      "cell_type": "code",
      "metadata": {
        "id": "PZFpAWf_k-1v"
      },
      "source": [
        "a=10 #global for all functions\n",
        "def sum1(x,y):#x,y,z are local to the function\n",
        "  z= x+y+a\n",
        "  print(z)\n",
        "sum1(10,20)\n",
        "#print(z)\n",
        "\n",
        "def sum2():\n",
        "  print(\"i am from sum2\",a)\n",
        "sum2()"
      ],
      "execution_count": null,
      "outputs": []
    },
    {
      "cell_type": "code",
      "metadata": {
        "id": "dhPh7yDhmzQa",
        "colab": {
          "base_uri": "https://localhost:8080/"
        },
        "outputId": "83f0bb10-fa34-4959-9ad3-ee2186906948"
      },
      "source": [
        "def value(var1,var2):\n",
        "  x=var1+var2\n",
        "  return x\n",
        "k= value(10,60)\n",
        "print(k)\n"
      ],
      "execution_count": null,
      "outputs": [
        {
          "output_type": "stream",
          "text": [
            "70\n"
          ],
          "name": "stdout"
        }
      ]
    },
    {
      "cell_type": "code",
      "metadata": {
        "colab": {
          "base_uri": "https://localhost:8080/"
        },
        "id": "ueHJ9dqNnYr0",
        "outputId": "348e498f-8ef1-4eba-d393-d4455e2cf963"
      },
      "source": [
        "def academic(name,rollno,section=\"fourth\"):\n",
        "  print(\"name is\",name)\n",
        "  print(\"rollno is\",rollno)\n",
        "  print(\"class is\",section)\n",
        "#academic(\"ramesh\",7124,\"second\")\n",
        "academic(\"ramesh\",7124)\n"
      ],
      "execution_count": null,
      "outputs": [
        {
          "output_type": "stream",
          "text": [
            "name is ramesh\n",
            "rollno is 7124\n",
            "class is fourth\n"
          ],
          "name": "stdout"
        }
      ]
    },
    {
      "cell_type": "markdown",
      "metadata": {
        "id": "c_vTdwrqSqNL"
      },
      "source": [
        "Nested function"
      ]
    },
    {
      "cell_type": "code",
      "metadata": {
        "colab": {
          "base_uri": "https://localhost:8080/"
        },
        "id": "AxWmEPkgFCQR",
        "outputId": "e536034b-3f04-496f-cd48-54d0bf74d61f"
      },
      "source": [
        "#recursion\n",
        "def value(val1,val2):\n",
        "  val3 = val1+val2\n",
        "  return val3\n",
        "res = valuee(12,15)\n",
        "print(res)\n",
        "\n",
        "\n",
        "#non recursion\n",
        "def valuee(val1,val2):\n",
        "  val3 = +val2\n",
        "  print(val3)\n",
        "valuee(10,15)"
      ],
      "execution_count": null,
      "outputs": [
        {
          "output_type": "stream",
          "text": [
            "5\n",
            "25\n"
          ],
          "name": "stdout"
        }
      ]
    },
    {
      "cell_type": "code",
      "metadata": {
        "colab": {
          "base_uri": "https://localhost:8080/"
        },
        "id": "WDeE6xYDgYvx",
        "outputId": "2cd29338-a556-4c9c-fb76-5e5efdede2f2"
      },
      "source": [
        "def func1(var1,var2):\n",
        "  def func2(var3):\n",
        "    var4 = var1+var2+var3\n",
        "    return var4\n",
        "  result = func2(10)\n",
        "  return result\n",
        "result1 = func1(40,50)\n",
        "print(result1)"
      ],
      "execution_count": null,
      "outputs": [
        {
          "output_type": "stream",
          "text": [
            "100\n"
          ],
          "name": "stdout"
        }
      ]
    },
    {
      "cell_type": "code",
      "metadata": {
        "id": "NtJoyyybUHX3"
      },
      "source": [
        "def func1():\n",
        "  def func2(a,b):\n",
        "    c=a+b\n",
        "    print(c)\n",
        "  func2(7,8)\n",
        "func1()"
      ],
      "execution_count": null,
      "outputs": []
    },
    {
      "cell_type": "markdown",
      "metadata": {
        "id": "j3FZ_cg3tafX"
      },
      "source": [
        "Lambda Function"
      ]
    },
    {
      "cell_type": "code",
      "metadata": {
        "colab": {
          "base_uri": "https://localhost:8080/"
        },
        "id": "9SCszyH0UqFf",
        "outputId": "16c2c14f-25c0-4645-eb5e-8dc0c5e81a6c"
      },
      "source": [
        "l = [1,2,3,4,5]\n",
        "val = list(filter(lambda x:x>2,l))\n",
        "print(val)"
      ],
      "execution_count": null,
      "outputs": [
        {
          "output_type": "stream",
          "text": [
            "[3, 4, 5]\n"
          ],
          "name": "stdout"
        }
      ]
    },
    {
      "cell_type": "code",
      "metadata": {
        "id": "m0db0_dctZPe"
      },
      "source": [
        ""
      ],
      "execution_count": null,
      "outputs": []
    },
    {
      "cell_type": "markdown",
      "metadata": {
        "id": "fthVoQsTt2nH"
      },
      "source": [
        "Modules in python"
      ]
    },
    {
      "cell_type": "code",
      "metadata": {
        "colab": {
          "base_uri": "https://localhost:8080/"
        },
        "id": "HFGUJeIMuDw3",
        "outputId": "84d2da04-620e-4ee5-c9e9-32c29ae1a072"
      },
      "source": [
        "from google.colab import drive\n",
        "drive.mount('/content/gdrive')\n"
      ],
      "execution_count": null,
      "outputs": [
        {
          "output_type": "stream",
          "text": [
            "Mounted at /content/gdrive\n"
          ],
          "name": "stdout"
        }
      ]
    },
    {
      "cell_type": "code",
      "metadata": {
        "id": "cRawvAWXt6gl"
      },
      "source": [
        "import sys\n",
        "sys.path.append('https://colab.research.google.com/drive/1iyDaPZmQi1FzvBdd54eJ1kblLcnWvKWn?usp=sharing')"
      ],
      "execution_count": null,
      "outputs": []
    },
    {
      "cell_type": "code",
      "metadata": {
        "id": "jHsbWkKTwBCX"
      },
      "source": [
        "import example\n",
        "example.add(4,5)"
      ],
      "execution_count": null,
      "outputs": []
    },
    {
      "cell_type": "code",
      "metadata": {
        "id": "M_dOKR80KElM"
      },
      "source": [
        "#appending string\n",
        "s1 = \"hello\"\n",
        "s2 = \"world\"\n",
        "print(s1+s2)"
      ],
      "execution_count": null,
      "outputs": []
    },
    {
      "cell_type": "code",
      "metadata": {
        "id": "GtUOuFiPKgkV"
      },
      "source": [
        "l = [\"ram\",\"shyam\",\"mohan\"]\n",
        "s = \"suresh\"\n",
        "if s in l:\n",
        "  print(\"yes\")\n",
        "else:\n",
        "  print(\"no\")"
      ],
      "execution_count": null,
      "outputs": []
    },
    {
      "cell_type": "markdown",
      "metadata": {
        "id": "-_suuq9VMATu"
      },
      "source": [
        "list and tuples"
      ]
    },
    {
      "cell_type": "code",
      "metadata": {
        "colab": {
          "base_uri": "https://localhost:8080/"
        },
        "id": "KmUJBnjBMDWY",
        "outputId": "325d369e-8fb7-442f-a1c1-2b165d09d87d"
      },
      "source": [
        "l = [\"ram\",\"shyam\",\"mohan\"]\n",
        "#reverse of list\n",
        "print(l[::-1])"
      ],
      "execution_count": null,
      "outputs": [
        {
          "output_type": "stream",
          "text": [
            "['mohan', 'shyam', 'ram']\n"
          ],
          "name": "stdout"
        }
      ]
    },
    {
      "cell_type": "code",
      "metadata": {
        "colab": {
          "background_save": true,
          "base_uri": "https://localhost:8080/"
        },
        "id": "urLFzE_zL-s6",
        "outputId": "7f921204-1e06-46de-cb99-e028bc81d5c6"
      },
      "source": [
        "m = [\"sita\",\"john\"]\n",
        "#appending two list\n",
        "print(l+m)\n",
        "s = \"vijay\"\n",
        "\n",
        "\n"
      ],
      "execution_count": null,
      "outputs": [
        {
          "output_type": "stream",
          "text": [
            "['ram', 'shyam', 'mohan', 'sita', 'john']\n",
            "['ram', 'shyam', 'mohan', 'vijay']\n"
          ],
          "name": "stdout"
        }
      ]
    },
    {
      "cell_type": "markdown",
      "metadata": {
        "id": "lYT9RAacapgt"
      },
      "source": [
        "Unit 3 Manipulation of Strings and Regular Expressions"
      ]
    },
    {
      "cell_type": "code",
      "metadata": {
        "id": "cUAyL0Vga5tN"
      },
      "source": [
        "test_list11  = ['abc','sef','egf','ger','ergf','sdfr','asdrf']\n",
        "test_list22 = ['zxcve','zxcvg','werfd','wedse','lfgrs']\n"
      ],
      "execution_count": null,
      "outputs": []
    },
    {
      "cell_type": "code",
      "metadata": {
        "id": "jb0ws_7WbakE"
      },
      "source": [
        "# appending elements using iteration\n",
        "for i in test_list22:\n",
        "  test_list11.append(i)\n",
        "print(test_list11)"
      ],
      "execution_count": null,
      "outputs": []
    },
    {
      "cell_type": "code",
      "metadata": {
        "colab": {
          "base_uri": "https://localhost:8080/"
        },
        "id": "cstHroCXb4Bv",
        "outputId": "b28efc63-3a1a-4762-e0df-253c805eb028"
      },
      "source": [
        "test_list1  = ['abc','sef','egf','ger','ergf','sdfr','asdrf']\n",
        "test_list2 = ['zxcve','zxcvg','werfd','wedse','lfgrs']\n",
        "test_list1 = test_list1+test_list2\n",
        "print(test_list1)"
      ],
      "execution_count": null,
      "outputs": [
        {
          "output_type": "stream",
          "text": [
            "['abc', 'sef', 'egf', 'ger', 'ergf', 'sdfr', 'asdrf', 'zxcve', 'zxcvg', 'werfd', 'wedse', 'lfgrs']\n"
          ],
          "name": "stdout"
        }
      ]
    },
    {
      "cell_type": "code",
      "metadata": {
        "id": "IZxMovyMeQov"
      },
      "source": [
        "#multiplying in python\n",
        "s= \"python\"\n",
        "print(s*3)"
      ],
      "execution_count": null,
      "outputs": []
    },
    {
      "cell_type": "code",
      "metadata": {
        "colab": {
          "base_uri": "https://localhost:8080/"
        },
        "id": "XAPPBmSLeed4",
        "outputId": "7e2d0708-b705-4540-c20a-01cbb69dd60d"
      },
      "source": [
        "# cannot multiply with a float\n",
        "s = \"python\"\n",
        "print(s*1)"
      ],
      "execution_count": null,
      "outputs": [
        {
          "output_type": "stream",
          "text": [
            "python\n"
          ],
          "name": "stdout"
        }
      ]
    },
    {
      "cell_type": "code",
      "metadata": {
        "id": "1sWkDskneO3V"
      },
      "source": [
        "#comparing two strings\n",
        "a = \"Python\"\n",
        "b = \"python\"\n",
        "if a==b:\n",
        "   print(True)\n",
        "else:\n",
        "  print(False)\n",
        "  "
      ],
      "execution_count": null,
      "outputs": []
    },
    {
      "cell_type": "code",
      "metadata": {
        "id": "iRgec756fEvW"
      },
      "source": [
        "a= 'Python'\n",
        "b = 'Python'\n",
        "if a==b:\n",
        "  print(True)\n",
        "else:\n",
        "  print(False)\n",
        "#lstrip and rstrip"
      ],
      "execution_count": null,
      "outputs": []
    },
    {
      "cell_type": "code",
      "metadata": {
        "colab": {
          "base_uri": "https://localhost:8080/"
        },
        "id": "hz2pB6snfV1D",
        "outputId": "2b03d537-0302-4968-f9b4-a8d3caed4405"
      },
      "source": [
        "#String Formatting in Python\n",
        "s1 = \"Good\"\n",
        "s2 = 'Programmer'\n",
        "#{} is a place holder to hold value in format funtion\n",
        "print('always try to be a {0} and best {1}'.format(s1,s2))"
      ],
      "execution_count": null,
      "outputs": [
        {
          "output_type": "stream",
          "text": [
            "always try to be a Good and best Programmer\n"
          ],
          "name": "stdout"
        }
      ]
    },
    {
      "cell_type": "markdown",
      "metadata": {
        "id": "_eVDPM_Mgtxj"
      },
      "source": [
        "# Slicing can be done in two ways using slice contructor and extending indexing..\n",
        "Syntax: (start,stop)\n",
        "        (start,stop,step)"
      ]
    },
    {
      "cell_type": "code",
      "metadata": {
        "id": "GcNjWMdihPNJ"
      },
      "source": [
        "String = \"PROGRAMMING\"\n",
        "s1= slice(3)\n",
        "s2 = slice(1,5,2)\n",
        "s3 = slice(-1,-12,-2)\n",
        "print(String[s1])\n",
        "print(String[s2])\n",
        "print(String[s3])"
      ],
      "execution_count": null,
      "outputs": []
    },
    {
      "cell_type": "code",
      "metadata": {
        "id": "zzNZhHVkhxlc"
      },
      "source": [
        "s4 = slice(5)\n",
        "s5 = slice(2,8,2)\n",
        "s6 = slice(-1,-10,-1)\n",
        "print(String[s4])\n",
        "print(String[s5])\n",
        "print(String[s6])\n"
      ],
      "execution_count": null,
      "outputs": []
    },
    {
      "cell_type": "code",
      "metadata": {
        "colab": {
          "base_uri": "https://localhost:8080/"
        },
        "id": "mbEEnsA-iMhL",
        "outputId": "42003a5f-54b6-46b1-9962-f00a4821986d"
      },
      "source": [
        "#extended Indexing\"\n",
        "print(String[:2])"
      ],
      "execution_count": null,
      "outputs": [
        {
          "output_type": "stream",
          "text": [
            "PR\n"
          ],
          "name": "stdout"
        }
      ]
    },
    {
      "cell_type": "code",
      "metadata": {
        "colab": {
          "base_uri": "https://localhost:8080/"
        },
        "id": "ev7B-IkshEQT",
        "outputId": "f776c874-af2b-4be1-9dd7-0dc8293f09d5"
      },
      "source": [
        "print(String[2:])"
      ],
      "execution_count": null,
      "outputs": [
        {
          "output_type": "stream",
          "text": [
            "OGRAMMING\n"
          ],
          "name": "stdout"
        }
      ]
    },
    {
      "cell_type": "code",
      "metadata": {
        "colab": {
          "base_uri": "https://localhost:8080/"
        },
        "id": "ClGew6NJg3Nv",
        "outputId": "5eebf39f-39b3-46a2-a7cc-2b11fa2a2b19"
      },
      "source": [
        "print(String[2:len(String)])"
      ],
      "execution_count": null,
      "outputs": [
        {
          "output_type": "stream",
          "text": [
            "OGRAMMING\n"
          ],
          "name": "stdout"
        }
      ]
    },
    {
      "cell_type": "code",
      "metadata": {
        "colab": {
          "base_uri": "https://localhost:8080/"
        },
        "id": "MfUl6N9TiqZg",
        "outputId": "4a22f90c-d616-4777-edf4-8ff37c2dd7f6"
      },
      "source": [
        "print(String[:2]+String[2:])"
      ],
      "execution_count": null,
      "outputs": [
        {
          "output_type": "stream",
          "text": [
            "PROGRAMMING\n"
          ],
          "name": "stdout"
        }
      ]
    },
    {
      "cell_type": "code",
      "metadata": {
        "id": "IwVbPLe0i2Z9"
      },
      "source": [
        "print(String[:])"
      ],
      "execution_count": null,
      "outputs": []
    },
    {
      "cell_type": "code",
      "metadata": {
        "id": "R8hzHB64i9PP"
      },
      "source": [
        "print(String[-5:-1])"
      ],
      "execution_count": null,
      "outputs": []
    },
    {
      "cell_type": "code",
      "metadata": {
        "id": "OT6g35ZojEpR"
      },
      "source": [
        "print(String[6:2])"
      ],
      "execution_count": null,
      "outputs": []
    },
    {
      "cell_type": "code",
      "metadata": {
        "id": "nBbnmPLhjIko"
      },
      "source": [
        "print(String[2:6])"
      ],
      "execution_count": null,
      "outputs": []
    },
    {
      "cell_type": "code",
      "metadata": {
        "colab": {
          "background_save": true
        },
        "id": "tWvraq8LjMIF",
        "outputId": "ca2328c9-62cf-4c5d-8ab1-93409916b9d3"
      },
      "source": [
        "print(String[0:7:2])"
      ],
      "execution_count": null,
      "outputs": [
        {
          "output_type": "stream",
          "text": [
            "PORM\n"
          ],
          "name": "stdout"
        }
      ]
    },
    {
      "cell_type": "code",
      "metadata": {
        "id": "w2AbC7iBjQxw"
      },
      "source": [
        "print(String[1:9:2])"
      ],
      "execution_count": null,
      "outputs": []
    },
    {
      "cell_type": "markdown",
      "metadata": {
        "id": "li7wfrkEvrW_"
      },
      "source": [
        "REGULAR EXPRESSIONS"
      ]
    },
    {
      "cell_type": "code",
      "metadata": {
        "id": "VmnXD98JkxVo"
      },
      "source": [
        "import re\n",
        "p = re.compile('[a-e]')\n",
        "print(p.findall(\"hello how are you doing in the python prograamming\"))"
      ],
      "execution_count": null,
      "outputs": []
    },
    {
      "cell_type": "code",
      "metadata": {
        "id": "rq4Ju9UswRU1"
      },
      "source": [
        "p = re.compile('\\d')\n",
        "print(p.findall('i am working from 10 am to 4 pm from 12 aug 2016'))"
      ],
      "execution_count": null,
      "outputs": []
    },
    {
      "cell_type": "code",
      "metadata": {
        "id": "LwHYchsewvSv"
      },
      "source": [
        "p = re.compile('\\d+')\n",
        "print(p.findall('i am working from 10 am to 4 pm from 12 aug 2016'))"
      ],
      "execution_count": null,
      "outputs": []
    },
    {
      "cell_type": "code",
      "metadata": {
        "colab": {
          "base_uri": "https://localhost:8080/"
        },
        "id": "EzpyL4n5w4yF",
        "outputId": "ed244fa9-662d-48c7-d4e0-e6ec2a2a9ac5"
      },
      "source": [
        "p = re.compile('\\w')\n",
        "print(p.findall('i am working from 10 am to 4 pm from 12 aug 2016'))"
      ],
      "execution_count": null,
      "outputs": [
        {
          "output_type": "stream",
          "text": [
            "['i', 'a', 'm', 'w', 'o', 'r', 'k', 'i', 'n', 'g', 'f', 'r', 'o', 'm', '1', '0', 'a', 'm', 't', 'o', '4', 'p', 'm', 'f', 'r', 'o', 'm', '1', '2', 'a', 'u', 'g', '2', '0', '1', '6']\n"
          ],
          "name": "stdout"
        }
      ]
    },
    {
      "cell_type": "code",
      "metadata": {
        "id": "QzO-y_VdxDIw"
      },
      "source": [
        "p = re.compile('\\w+')\n",
        "print(p.findall('i am working123 from 10 am to 4 pm from 12 aug 2016'))"
      ],
      "execution_count": null,
      "outputs": []
    },
    {
      "cell_type": "code",
      "metadata": {
        "id": "AIP-2-LQxF1B"
      },
      "source": [
        "p = re.compile('\\s')\n",
        "print(p.findall('i am working from 10 am to 4 pm from 12 aug 2016'))"
      ],
      "execution_count": null,
      "outputs": []
    },
    {
      "cell_type": "code",
      "metadata": {
        "id": "FWYcOSNGxSQz"
      },
      "source": [
        "p = re.compile('\\S')\n",
        "print(p.findall('i am working from 10 am to 4 pm from 12 aug 2016'))"
      ],
      "execution_count": null,
      "outputs": []
    },
    {
      "cell_type": "code",
      "metadata": {
        "id": "MO9KV0plxabN"
      },
      "source": [
        "\n",
        "print(re.split(' ','i am working123 from 10 am to 4 pm from 12 aug 2016'))"
      ],
      "execution_count": null,
      "outputs": []
    },
    {
      "cell_type": "code",
      "metadata": {
        "id": "bayM8WcD4FC_"
      },
      "source": [
        "print(re.split('\\w+ ','i! @ am working123 % $ ! from 10 am to 4 pm !@% &from 12 aug 2016'))"
      ],
      "execution_count": null,
      "outputs": []
    },
    {
      "cell_type": "markdown",
      "metadata": {
        "id": "wpFzmPbPFSzu"
      },
      "source": [
        "Examples of Regex"
      ]
    },
    {
      "cell_type": "code",
      "metadata": {
        "id": "m3FMpxL1FSWF"
      },
      "source": [
        "import re\n",
        "x = re.search(\"cat\",\"A cat and a rat can't be friends\")\n",
        "print(x)"
      ],
      "execution_count": null,
      "outputs": []
    },
    {
      "cell_type": "code",
      "metadata": {
        "id": "GhPRYi60Fv4r"
      },
      "source": [
        "x = re.search(\"cow\",\"A cat and a rat can't be friends\")\n",
        "print(x)\n"
      ],
      "execution_count": null,
      "outputs": []
    },
    {
      "cell_type": "code",
      "metadata": {
        "id": "sqwQMvlAF1SP"
      },
      "source": [
        "if re.search(\"cat\",\"A cat and a rat can't be friends\"):\n",
        "  print(\"cat is found!!\")\n",
        "else:\n",
        "  print(\"cat is not found\")"
      ],
      "execution_count": null,
      "outputs": []
    },
    {
      "cell_type": "code",
      "metadata": {
        "id": "7Tj8-F4PGJQS",
        "colab": {
          "base_uri": "https://localhost:8080/"
        },
        "outputId": "924c50fa-d4d6-486c-a879-211c2d122e97"
      },
      "source": [
        "import re\n",
        "line = \"hi this is python programming language\"\n",
        "if re.search(r'p[yi][th]hon',line):\n",
        "  print(\"found one\")"
      ],
      "execution_count": null,
      "outputs": [
        {
          "output_type": "stream",
          "text": [
            "found one\n"
          ],
          "name": "stdout"
        }
      ]
    },
    {
      "cell_type": "code",
      "metadata": {
        "id": "NUu6Zws2L209",
        "colab": {
          "base_uri": "https://localhost:8080/"
        },
        "outputId": "55adbde8-850d-433a-ee1c-ba758eae0fb7"
      },
      "source": [
        "# a regular expression is a special text string for describing a search pattern\n",
        "S = \"Rahul is 25 years old Mohan is 18 years old,Ramesh is 20 and Sanjay is 22 years\"\n",
        "name = re.findall(r'[A-Z][a-z]*',S) #return a list of matches\n",
        "print(name)\n",
        "age = re.findall(r'\\d{1,3}',S)\n",
        "print(age)\n",
        "agename = {}\n",
        "i=0\n",
        "for n in name:\n",
        "  agename[n]=age[i]\n",
        "  i = i+1\n",
        "print(agename)"
      ],
      "execution_count": null,
      "outputs": [
        {
          "output_type": "stream",
          "text": [
            "['Rahul', 'Mohan', 'Ramesh', 'Sanjay']\n",
            "['25', '18', '20', '22']\n",
            "{'Rahul': '25', 'Mohan': '18', 'Ramesh': '20', 'Sanjay': '22'}\n"
          ],
          "name": "stdout"
        }
      ]
    },
    {
      "cell_type": "code",
      "metadata": {
        "colab": {
          "base_uri": "https://localhost:8080/"
        },
        "id": "RZvr_ZyBPoKU",
        "outputId": "bfc71404-f0c4-4ff1-fca0-96d62f59b91c"
      },
      "source": [
        "s = \"we need to inform all about exam information\"\n",
        "if re.search(\"inform\",s):\n",
        "  print(\"match found\")\n",
        "else:\n",
        "  print(\"not found\")\n",
        "\n"
      ],
      "execution_count": null,
      "outputs": [
        {
          "output_type": "stream",
          "text": [
            "match found\n"
          ],
          "name": "stdout"
        }
      ]
    },
    {
      "cell_type": "code",
      "metadata": {
        "colab": {
          "base_uri": "https://localhost:8080/"
        },
        "id": "-0zatWWZU8_5",
        "outputId": "a0b26ef5-ca81-4417-fdcb-9d4f0d9a9040"
      },
      "source": [
        "allinform = re.findall(\"inform\",s)\n",
        "print(allinform)\n",
        "for i in allinform:\n",
        "  print(i)\n"
      ],
      "execution_count": null,
      "outputs": [
        {
          "output_type": "stream",
          "text": [
            "['inform', 'inform']\n",
            "inform\n",
            "inform\n"
          ],
          "name": "stdout"
        }
      ]
    },
    {
      "cell_type": "code",
      "metadata": {
        "id": "OduO-JGgVbcN",
        "colab": {
          "base_uri": "https://localhost:8080/"
        },
        "outputId": "f48577a0-8c3b-434f-f289-cbf41a6cc489"
      },
      "source": [
        "# finding the starting and ending index of match string\n",
        "for i in re.finditer(\"inform\",s):\n",
        "  loc = i.span()\n",
        "  print(loc)"
      ],
      "execution_count": null,
      "outputs": [
        {
          "output_type": "stream",
          "text": [
            "(11, 17)\n",
            "(33, 39)\n"
          ],
          "name": "stdout"
        }
      ]
    },
    {
      "cell_type": "code",
      "metadata": {
        "id": "vxN1FepOVzt5",
        "colab": {
          "base_uri": "https://localhost:8080/"
        },
        "outputId": "9a89284f-6f4d-4f93-cdb1-c7a075b089da"
      },
      "source": [
        "# match string with a particular pattern\n",
        "s1 = \"rat,mat,hat,fox,camel,bat,owl,ball,cow\"\n",
        "allstr = re.findall(\"[rmhb]at\",s1)\n",
        "for i in allstr:\n",
        "  print(i)"
      ],
      "execution_count": null,
      "outputs": [
        {
          "output_type": "stream",
          "text": [
            "rat\n",
            "mat\n",
            "hat\n",
            "bat\n"
          ],
          "name": "stdout"
        }
      ]
    },
    {
      "cell_type": "code",
      "metadata": {
        "id": "jPGBkBg1WmyH",
        "colab": {
          "base_uri": "https://localhost:8080/"
        },
        "outputId": "ad70dcf0-a598-4317-ec64-dd3bc3f3d0a6"
      },
      "source": [
        "#match with a series of string\n",
        "allstrr = re.findall(\"[h-m]at\",s1)\n",
        "for i in allstrr:\n",
        "  print(i)"
      ],
      "execution_count": null,
      "outputs": [
        {
          "output_type": "stream",
          "text": [
            "mat\n",
            "hat\n"
          ],
          "name": "stdout"
        }
      ]
    },
    {
      "cell_type": "code",
      "metadata": {
        "id": "gkK7zKgAaZGp",
        "colab": {
          "base_uri": "https://localhost:8080/"
        },
        "outputId": "67ef4cae-bd17-46f3-e7d5-bdcb0407bbfc"
      },
      "source": [
        "#replace a string\n",
        "regex = re.compile(\"[rhm]at\")\n",
        "s2 = regex.sub(\"mice\",s1)\n",
        "print(s2)"
      ],
      "execution_count": null,
      "outputs": [
        {
          "output_type": "stream",
          "text": [
            "mice,mice,mice,fox,camel,bat,owl,ball,cow\n"
          ],
          "name": "stdout"
        }
      ]
    },
    {
      "cell_type": "code",
      "metadata": {
        "id": "diArRe-VbEKg"
      },
      "source": [
        "# r is a raw string which treat \\ slash as special\n",
        "randstr = '''\n",
        "python is a\n",
        "very good programming languages\n",
        "used widely by programmers\n",
        "'''\n",
        "print(randstr)\n",
        "\n",
        "regex = re.compile(\"\\n\")\n",
        "randstr = regex.sub(\" \",randstr)\n",
        "print(randstr)\n",
        "\n"
      ],
      "execution_count": null,
      "outputs": []
    },
    {
      "cell_type": "code",
      "metadata": {
        "id": "MFaeD6WHcwHy"
      },
      "source": [
        "# matches works\n",
        "randstrr = \"12345\"\n",
        "randstr = re.findall('\\d{1,2}',randstrr)\n",
        "for i in randstr:\n",
        "  print(i)\n",
        "print(\"matches:\",len(re.findall('\\d{3}',randstrr)))\n",
        "print(\"matches:\",len(re.findall('\\D',randstrr)))"
      ],
      "execution_count": null,
      "outputs": []
    },
    {
      "cell_type": "code",
      "metadata": {
        "colab": {
          "base_uri": "https://localhost:8080/"
        },
        "id": "HaK0RWoAlDtS",
        "outputId": "39f5dbf5-3e35-47be-cb55-f455a3469cb5"
      },
      "source": [
        "num = \"123 1234 1234 12345 12346\"\n",
        "a = re.findall('\\d{4,5}',num)\n",
        "for i in a:\n",
        "  print(i)\n",
        "print(\"matches:\",len(re.findall(\"123\",num)))"
      ],
      "execution_count": null,
      "outputs": [
        {
          "output_type": "stream",
          "text": [
            "1234\n",
            "1234\n",
            "12345\n",
            "12346\n",
            "matches: 5\n"
          ],
          "name": "stdout"
        }
      ]
    },
    {
      "cell_type": "markdown",
      "metadata": {
        "id": "Podt7gc8Vafc"
      },
      "source": [
        "look how \\d{3} behave differntly in case of finall and in case of search\n",
        "in latter case it llok for value 3 in the string of digit\n",
        "in later case it seac for string of 3 digit long\n",
        "\n"
      ]
    },
    {
      "cell_type": "code",
      "metadata": {
        "colab": {
          "base_uri": "https://localhost:8080/"
        },
        "id": "j_UIV2MPq4TZ",
        "outputId": "189a0bc1-5d1d-4cd8-9ded-cbdb6829feb5"
      },
      "source": [
        "# searching authenticity of phone number\n",
        "phn = '456-555-2313'\n",
        "if re.search(r'\\w{3}-\\w{3}-\\w{4}',phn):\n",
        "  print(\"correct phone number\")\n",
        "else:\n",
        "  print(\"false phone number\")\n"
      ],
      "execution_count": null,
      "outputs": [
        {
          "output_type": "stream",
          "text": [
            "correct phone number\n"
          ],
          "name": "stdout"
        }
      ]
    },
    {
      "cell_type": "code",
      "metadata": {
        "id": "pzM1K7pJrejj"
      },
      "source": [
        "if re.search(r'\\d{3}-\\d{3}-\\d{4}',phn):\n",
        "  print(\"phoone is correct\")\n",
        "else:\n",
        "  print(\"phone is not correct\")"
      ],
      "execution_count": null,
      "outputs": []
    },
    {
      "cell_type": "code",
      "metadata": {
        "id": "uN9LyRSmr-bb"
      },
      "source": [
        ""
      ],
      "execution_count": null,
      "outputs": []
    },
    {
      "cell_type": "markdown",
      "metadata": {
        "id": "7BIJEivALUUk"
      },
      "source": [
        "Email Verification\n",
        "some fake email addresses\n",
        "\n",
        "\n",
        "1.   SCCc#.com\n",
        "2.   sk@gmail.com\n",
        "3.   12sd@gmail.com\n",
        "4.   DF@cm"
      ]
    },
    {
      "cell_type": "markdown",
      "metadata": {
        "id": "JDpu4AowXcJL"
      },
      "source": [
        "#variables\n"
      ]
    },
    {
      "cell_type": "code",
      "metadata": {
        "colab": {
          "base_uri": "https://localhost:8080/"
        },
        "id": "_FOmOkITXgFU",
        "outputId": "07aaf8f1-dc05-4f29-96ee-b674dca9f165"
      },
      "source": [
        "# integer 2 bytes character 1 byte float 4 byte\n",
        "x = \"ayushi\" #x and y are character variables\n",
        "y = \"gupta\"\n",
        "z = 20.5 #z is a integer variable\n",
        "print(\"i am \",x,y,\"age\",z)"
      ],
      "execution_count": null,
      "outputs": [
        {
          "output_type": "stream",
          "text": [
            "i am  ayushi gupta age 20.5\n"
          ],
          "name": "stdout"
        }
      ]
    },
    {
      "cell_type": "code",
      "metadata": {
        "id": "QN2hMOCnYj9I"
      },
      "source": [
        "x = input(\"enter your name\")\n",
        "y = \"gupta\"\n",
        "print(x+y)"
      ],
      "execution_count": null,
      "outputs": []
    },
    {
      "cell_type": "markdown",
      "metadata": {
        "id": "tJdTgHGEaD29"
      },
      "source": [
        "#syntax\n"
      ]
    },
    {
      "cell_type": "code",
      "metadata": {
        "id": "me-QVZZ3aHa2"
      },
      "source": [
        "# the way to write a statement in python IDE is called syntax\n",
        "a = 10\n",
        "b=20\n",
        "c = a+b\n",
        "print(c)"
      ],
      "execution_count": null,
      "outputs": []
    },
    {
      "cell_type": "code",
      "metadata": {
        "colab": {
          "base_uri": "https://localhost:8080/"
        },
        "id": "qpDUURp5avRL",
        "outputId": "bc7c7c02-cc76-4421-9259-ed3c71f3bdb1"
      },
      "source": [
        "x = \"ram\"\n",
        "print(x)"
      ],
      "execution_count": null,
      "outputs": [
        {
          "output_type": "stream",
          "text": [
            "ram\n"
          ],
          "name": "stdout"
        }
      ]
    },
    {
      "cell_type": "code",
      "metadata": {
        "id": "cQ0xkJLieJp5"
      },
      "source": [
        "# input by default take string value\n",
        "a = input(\"skhkhksh\")\n",
        "b = input(\"enter second value\")2\n",
        "c = a+b\n",
        "print(c)\n"
      ],
      "execution_count": null,
      "outputs": []
    },
    {
      "cell_type": "markdown",
      "metadata": {
        "id": "yf_Zg4_BMnxk"
      },
      "source": [
        "List in python"
      ]
    },
    {
      "cell_type": "code",
      "metadata": {
        "id": "wKgJMt6CMqA8"
      },
      "source": [
        "l = [] # empty list\n",
        "l1 = [11,32,33,48,33,45,67,87,23,44]# integer list\n",
        "c1 = [\"ram\",\"mohan\",\"ramesh\"] # list of string\n",
        "#print(l1[-1],l1[3])\n",
        "\n",
        "#Slicing a list\n",
        "#print(l1[0:5])# : colon operator\n",
        "\n",
        "#print(l1[2:]+l1[:4])# + is used for cocatenation operator not for addition\n",
        "\n",
        "# Reverse of list\n",
        "#there are two ways to reverse a list 1. slicing 2. reverse keyword\n",
        "#print(l1[::-1])#using slicing operator\n",
        "#print(l1.reverse)\n",
        "#l = l1+c1\n",
        "#len function is used to calculate the length of a list\n",
        "#print(len(l))\n",
        "m1  = [2,1,3,4]\n",
        "m2 = [1,2,3,6]\n",
        "print(m1[0]+m2[0])\n",
        "print(m1[1]+m2[1])\n",
        "print(m1[2]+m2[2])\n",
        "print(m1[3]+m2[3])"
      ],
      "execution_count": null,
      "outputs": []
    },
    {
      "cell_type": "code",
      "metadata": {
        "colab": {
          "base_uri": "https://localhost:8080/"
        },
        "id": "uE25Q57dd26a",
        "outputId": "a573bb8d-d7a5-4135-9fae-df3d2d099724"
      },
      "source": [
        "# deletion in list\n",
        "# value based and index based\n",
        "l = [11,23,31,40,52]\n",
        "# remove it is a value based deletion\n",
        "#l.remove(40)\n",
        "# pop is used for index based deletion\n",
        "l.pop(2)\n",
        "print(l)\n",
        "\n"
      ],
      "execution_count": null,
      "outputs": [
        {
          "output_type": "stream",
          "text": [
            "[11, 23, 40, 52]\n"
          ],
          "name": "stdout"
        }
      ]
    },
    {
      "cell_type": "code",
      "metadata": {
        "colab": {
          "base_uri": "https://localhost:8080/"
        },
        "id": "Ifvi7kz2h3yE",
        "outputId": "3d252672-c317-4892-d4d8-697c1a346a6f"
      },
      "source": [
        "t  = (1,44,33,22,56,12) # t is a tuple\n",
        "l1 = [32,54,65,78]\n",
        "# tuple is immutable and list is mutable\n",
        "#t[2]=23 # we can not change the value of tuple\n",
        "print(t)\n",
        "l1[2]=122 # we can change the value of list\n",
        "print(l1)"
      ],
      "execution_count": null,
      "outputs": [
        {
          "output_type": "stream",
          "text": [
            "(1, 44, 33, 22, 56, 12)\n",
            "[32, 54, 122, 78]\n"
          ],
          "name": "stdout"
        }
      ]
    },
    {
      "cell_type": "code",
      "metadata": {
        "id": "kqaPFHZzjPCX"
      },
      "source": [
        "#maximum and minimum elts.\n",
        "print(max(l1))\n",
        "print(min(l1))"
      ],
      "execution_count": null,
      "outputs": []
    },
    {
      "cell_type": "code",
      "metadata": {
        "id": "9nmigV6bjiiF"
      },
      "source": [
        "#l1.append(23)\n",
        "# append is used to add only one value at a time in the end of a list\n",
        "l1.extend([12,3,4,5])\n",
        "print(l1)\n",
        "l1.sort()# sort is a function to sort in ascending order\n",
        "print(\"sorted list\",l1)"
      ],
      "execution_count": null,
      "outputs": []
    },
    {
      "cell_type": "markdown",
      "metadata": {
        "id": "XZDgRdcTVk36"
      },
      "source": [
        "LOOPS IN PYTHON"
      ]
    },
    {
      "cell_type": "code",
      "metadata": {
        "colab": {
          "base_uri": "https://localhost:8080/"
        },
        "id": "kgkb_R8-mxR5",
        "outputId": "82962585-d545-4384-94aa-4574f62a916c"
      },
      "source": [
        "print(range(4))"
      ],
      "execution_count": null,
      "outputs": [
        {
          "output_type": "stream",
          "text": [
            "range(0, 4)\n"
          ],
          "name": "stdout"
        }
      ]
    },
    {
      "cell_type": "code",
      "metadata": {
        "id": "CMTApaVWtn06"
      },
      "source": [
        ""
      ],
      "execution_count": null,
      "outputs": []
    },
    {
      "cell_type": "code",
      "metadata": {
        "id": "6XeI0X1TVnj5"
      },
      "source": [
        "# FOR LOOP\n",
        "# simple execution\n",
        "c1 = [\"ram\",\"mohan\",\"ramesh\",\"shyam\"] # list of string\n",
        "for i in range(4):\n",
        "  print(c1[i])\n"
      ],
      "execution_count": null,
      "outputs": []
    },
    {
      "cell_type": "code",
      "metadata": {
        "colab": {
          "base_uri": "https://localhost:8080/"
        },
        "id": "4Vq38xPCnjK0",
        "outputId": "26d1b7e4-5459-4e0e-a1df-237accd2a856"
      },
      "source": [
        "# iteration or iterative approach\n",
        "ayushi = []\n",
        "for i in c1:\n",
        "  # first time i has ram\n",
        "  ayushi.append([i,len(i)])\n",
        "print(ayushi)"
      ],
      "execution_count": null,
      "outputs": [
        {
          "output_type": "stream",
          "text": [
            "[['ram', 3], ['mohan', 5], ['ramesh', 6], ['shyam', 5]]\n"
          ],
          "name": "stdout"
        }
      ]
    },
    {
      "cell_type": "code",
      "metadata": {
        "id": "qsValbM0oWKx"
      },
      "source": [
        "c1 = [\"ram\",\"mohan\",\"ramesh\",\"shyam\"]"
      ],
      "execution_count": null,
      "outputs": []
    },
    {
      "cell_type": "code",
      "metadata": {
        "id": "-aao6-aIfds8"
      },
      "source": [
        "S = input()\n",
        "print(S[2:len(S)])"
      ],
      "execution_count": null,
      "outputs": []
    },
    {
      "cell_type": "code",
      "metadata": {
        "id": "XDZudGGx2EWA"
      },
      "source": [
        "l = [1,2,3,4]\n",
        "m = [2,3,4,5]\n",
        "even_filter = [22,33,44,65,76,78,90,12,48,23]\n",
        "result = []\n",
        "for var in even_filter:\n",
        "  if var%2 != 0:\n",
        "    result.append(var)\n",
        "    #continue\n",
        "  else:\n",
        "    continue\n",
        "    #result.append(var)\n",
        "print(result)\n",
        "\n"
      ],
      "execution_count": null,
      "outputs": []
    },
    {
      "cell_type": "code",
      "metadata": {
        "id": "GlLOA0nQ7kId"
      },
      "source": [
        "even_filter = [22,33,44,65,76,78,90,12,48,23]\n",
        "for var in even_filter:\n",
        "  if var%2==0:\n",
        "    even_filter.remove(var)\n",
        "    print(even_filter)\n",
        "  \n",
        "print(even_filter)"
      ],
      "execution_count": null,
      "outputs": []
    },
    {
      "cell_type": "code",
      "metadata": {
        "id": "mXU0Jpzo9iK6"
      },
      "source": [
        "list1 = [12,23,32,45]\n",
        "list2 = [10,2,4,2]\n",
        "diff = []\n",
        "for i in range(len(list1)):\n",
        "  diff.append(list1[i]-list2[i])\n",
        "print(diff)"
      ],
      "execution_count": null,
      "outputs": []
    },
    {
      "cell_type": "code",
      "metadata": {
        "id": "vysoU-cy_MsW"
      },
      "source": [
        "if len(l1)==0:\n",
        "  print(\"empty list\")"
      ],
      "execution_count": null,
      "outputs": []
    },
    {
      "cell_type": "code",
      "metadata": {
        "id": "J3b67pUC-v2L"
      },
      "source": [
        "# Multiple List or multilist\n",
        "multi_l1 = [[10,24,30],[12,31,41],[33,44,50]]\n",
        "# 0th list is [10,24,30]  multi_l1[0][0] = 10,multi_l1[0][1]=24,multi_l1[0][2]=30\n",
        "# 1st list is [12,31,41]  multi_l1[1][2]\n",
        "# 2nd list is [33,44,50]\n",
        "\n"
      ],
      "execution_count": null,
      "outputs": []
    },
    {
      "cell_type": "markdown",
      "metadata": {
        "id": "kCiJVbgrGl3D"
      },
      "source": [
        ""
      ]
    },
    {
      "cell_type": "code",
      "metadata": {
        "id": "Yrdmv3Zs7S7K"
      },
      "source": [
        "for i in range(3):\n",
        "  print(\"outer\")\n",
        "  for j in range(2):\n",
        "    print(\"inner\")\n",
        "    \n",
        "\n"
      ],
      "execution_count": null,
      "outputs": []
    },
    {
      "cell_type": "code",
      "metadata": {
        "id": "xvj3EUyrZvAz"
      },
      "source": [
        "name = [\"Ram\",\"ramesh\"]\n",
        "age = [20,30,40]\n",
        "for n in name:\n",
        "  for a in age:\n",
        "    print([n,a])"
      ],
      "execution_count": null,
      "outputs": []
    },
    {
      "cell_type": "code",
      "metadata": {
        "id": "IvmQ-QMvbIBL"
      },
      "source": [
        "# sum function\n",
        "def summ(a,b):# function definintion\n",
        "  c  = a+b\n",
        "  print(c)\n",
        "\n",
        "summ(10,20)# function calling\n",
        "\n",
        "for i in range(4):\n",
        "  for j in range(3):\n",
        "    summ(i,j)"
      ],
      "execution_count": null,
      "outputs": []
    },
    {
      "cell_type": "markdown",
      "metadata": {
        "id": "nXrOXREwDoUj"
      },
      "source": [
        "Functions in Python "
      ]
    },
    {
      "cell_type": "code",
      "metadata": {
        "id": "Bfuxw1HkDroo"
      },
      "source": [
        "# function are modules which take input and produce output\n",
        "# the values which a function take are called parameters\n",
        "def func1(a,b):#function definition\n",
        "  c = a+b\n",
        "  print(c)\n",
        "  d  = a-b\n",
        "  print(d)\n",
        "def func2(l,m):\n",
        "  print(l*l*l+m)\n",
        "func1(6,4) #function calling\n",
        "func2(6,5)#function calling\n"
      ],
      "execution_count": null,
      "outputs": []
    },
    {
      "cell_type": "code",
      "metadata": {
        "id": "NEO5su5bHK34"
      },
      "source": [
        "def parser(num):\n",
        "  print(num)\n",
        "  if num%2==0:\n",
        "    print(\"even\")\n",
        "  else:\n",
        "    print(\"odd\")\n",
        "\n",
        "# passing value to a function using loops\n",
        "for i in range(5):\n",
        "  val = int(input(\"enter the number you want to check\"))\n",
        "  parser(val)\n",
        "\n"
      ],
      "execution_count": null,
      "outputs": []
    },
    {
      "cell_type": "code",
      "metadata": {
        "colab": {
          "base_uri": "https://localhost:8080/"
        },
        "id": "08yW2F3GIfcH",
        "outputId": "b2ec040d-60ee-468b-ac08-95fc1623923a"
      },
      "source": [
        "# passing values to a function using list\n",
        "l  = [1586,86,170,1758,1667]\n",
        "for i in l:\n",
        "  parser(i)#fnction calling"
      ],
      "execution_count": null,
      "outputs": [
        {
          "output_type": "stream",
          "text": [
            "1586\n",
            "even\n",
            "86\n",
            "even\n",
            "170\n",
            "even\n",
            "1758\n",
            "even\n",
            "1667\n",
            "odd\n"
          ],
          "name": "stdout"
        }
      ]
    },
    {
      "cell_type": "code",
      "metadata": {
        "id": "TxsZICxQJrHl",
        "colab": {
          "base_uri": "https://localhost:8080/"
        },
        "outputId": "20da5602-29ff-42e2-d20d-22650244a30a"
      },
      "source": [
        "def employee(name,salary=5000):\n",
        "  print(\"name is\",name,\"and salary is\",salary)\n",
        "employee(\"ram\",2000)"
      ],
      "execution_count": null,
      "outputs": [
        {
          "output_type": "stream",
          "text": [
            "name is ram and salary is 2000\n"
          ],
          "name": "stdout"
        }
      ]
    },
    {
      "cell_type": "code",
      "metadata": {
        "colab": {
          "base_uri": "https://localhost:8080/"
        },
        "id": "xoDHh2AFL2aL",
        "outputId": "7f6f907d-2e5b-4887-b84e-a6433e2bee60"
      },
      "source": [
        "employee(\"ramlal\")"
      ],
      "execution_count": null,
      "outputs": [
        {
          "output_type": "stream",
          "text": [
            "name is ramlal and salary is 5000\n"
          ],
          "name": "stdout"
        }
      ]
    },
    {
      "cell_type": "code",
      "metadata": {
        "id": "2-7RvMtPko8V"
      },
      "source": [
        "def factorial(n):\n",
        "  if n>1:\n",
        "    return n*factorial(n-1)\n",
        "  elif n==1:\n",
        "    return 1\n",
        "f = factorial(5)\n",
        "print(f)\n",
        "\n",
        "    "
      ],
      "execution_count": null,
      "outputs": []
    },
    {
      "cell_type": "code",
      "metadata": {
        "colab": {
          "base_uri": "https://localhost:8080/"
        },
        "id": "BY-fuLFRqy9Z",
        "outputId": "950b255e-fc0d-4ce0-a8e6-5b77085e6747"
      },
      "source": [
        "s = [\"ayushi\",\"akshita\",\"riya\",\"priya\",\"shweta\"]\n",
        "for i in range(len(s)):# i will become index number\n",
        "  print(s[i],i)"
      ],
      "execution_count": null,
      "outputs": [
        {
          "output_type": "stream",
          "text": [
            "ayushi 0\n",
            "akshita 1\n",
            "riya 2\n",
            "priya 3\n",
            "shweta 4\n"
          ],
          "name": "stdout"
        }
      ]
    },
    {
      "cell_type": "code",
      "metadata": {
        "id": "4wASk5FcsDtT"
      },
      "source": [
        "for i in s:\n",
        "  print(i)"
      ],
      "execution_count": null,
      "outputs": []
    },
    {
      "cell_type": "code",
      "metadata": {
        "id": "SUbFlTMAsXOo"
      },
      "source": [
        "def slice(listt):\n",
        "  #ans = []\n",
        "  for i in listt:\n",
        "    print(i[0:2])\n",
        "  #print(ans)\n",
        "listt = [\"ayushi\",\"riya\",\"priya\",\"akshita\"]\n",
        "slice(listt)\n",
        "\n"
      ],
      "execution_count": null,
      "outputs": []
    },
    {
      "cell_type": "code",
      "metadata": {
        "id": "S2eKz_hGmnT-"
      },
      "source": [
        "def cubic(a,b,c,d,x):\n",
        "  s = (a*(x**3))+(b*(x**2))+(c*x)+d*1\n",
        "  return s\n",
        "a = int(input(\"enter a\"))\n",
        "b = int(input(\"enter b\"))\n",
        "c = int(input(\"enter c\"))\n",
        "d = int(input(\"enter d\"))\n",
        "x = int(input(\"enter x\"))\n",
        "val = cubic(a,b,c,d,x)\n",
        "print(val)\n"
      ],
      "execution_count": null,
      "outputs": []
    },
    {
      "cell_type": "code",
      "metadata": {
        "colab": {
          "base_uri": "https://localhost:8080/"
        },
        "id": "6pHhbmF2SRqK",
        "outputId": "b4e0f6e3-8d0d-4dc1-c7cc-52ca9334a378"
      },
      "source": [
        "# Dictionary in python\n",
        "detail = {\"ram\":28,\"ramesh\":35,\"ayushi\":21}\n",
        "print(detail.keys())\n",
        "print(detail.values())\n",
        "\n"
      ],
      "execution_count": null,
      "outputs": [
        {
          "output_type": "stream",
          "text": [
            "dict_keys(['ram', 'ramesh', 'ayushi'])\n",
            "dict_values([28, 35, 21])\n"
          ],
          "name": "stdout"
        }
      ]
    },
    {
      "cell_type": "code",
      "metadata": {
        "id": "3Rf_N64ZUsQC"
      },
      "source": [
        "# how to extend the dictionary\n",
        "print(detail.items())"
      ],
      "execution_count": null,
      "outputs": []
    },
    {
      "cell_type": "code",
      "metadata": {
        "id": "RsOIYK1YW43b"
      },
      "source": [
        "detail['raja'] = 70\n",
        "detail['akshita'] = 20"
      ],
      "execution_count": null,
      "outputs": []
    },
    {
      "cell_type": "code",
      "metadata": {
        "colab": {
          "base_uri": "https://localhost:8080/"
        },
        "id": "QNfE469KXDsi",
        "outputId": "a9c31a35-4674-4fa4-f40e-f8b9a3d75922"
      },
      "source": [
        "detail.items()"
      ],
      "execution_count": null,
      "outputs": [
        {
          "output_type": "execute_result",
          "data": {
            "text/plain": [
              "dict_items([('ram', 28), ('ramesh', 35), ('ayushi', 21), ('raja', 70), ('akshita', 20)])"
            ]
          },
          "metadata": {
            "tags": []
          },
          "execution_count": 19
        }
      ]
    },
    {
      "cell_type": "code",
      "metadata": {
        "colab": {
          "base_uri": "https://localhost:8080/"
        },
        "id": "HMEPinxwWLEV",
        "outputId": "7c63481b-9f81-4d0a-cc23-354c9249a4a0"
      },
      "source": [
        "for i in detail.keys():\n",
        "  print(detail[i])\n",
        "  "
      ],
      "execution_count": null,
      "outputs": [
        {
          "output_type": "stream",
          "text": [
            "28\n",
            "35\n",
            "21\n",
            "70\n",
            "20\n"
          ],
          "name": "stdout"
        }
      ]
    },
    {
      "cell_type": "code",
      "metadata": {
        "id": "0u9hT2FFVks_"
      },
      "source": [
        "l = list(detail.keys())\n",
        "type(l)"
      ],
      "execution_count": null,
      "outputs": []
    },
    {
      "cell_type": "code",
      "metadata": {
        "id": "jON2jRtsXdYa"
      },
      "source": [
        "stu_rec = {} # dictionary declaration\n",
        "stu_rec['akshita'] = ['bareilly',20,75]\n",
        "stu_rec['ayushi'] = ['bareilly',21,55]\n",
        "stu_rec['akki'] = ['lucknow',21,65]\n",
        "stu_rec['rajaa'] = ['noida',20,80]\n",
        "stu_rec['aksh'] = ['delhi',20,75]\n",
        "\n"
      ],
      "execution_count": null,
      "outputs": []
    },
    {
      "cell_type": "code",
      "metadata": {
        "id": "J0hUXo_yYKho"
      },
      "source": [
        "stu_rec.items()"
      ],
      "execution_count": null,
      "outputs": []
    },
    {
      "cell_type": "code",
      "metadata": {
        "colab": {
          "base_uri": "https://localhost:8080/"
        },
        "id": "xW33LyqZYuTx",
        "outputId": "760e90fd-5560-4d56-9d8f-e12d6ce7fb18"
      },
      "source": [
        "stu_rec.values()\n",
        "for i in stu_rec.values():\n",
        "  print(i[0])"
      ],
      "execution_count": null,
      "outputs": [
        {
          "output_type": "stream",
          "text": [
            "bareilly\n",
            "bareilly\n",
            "lucknow\n",
            "noida\n",
            "delhi\n"
          ],
          "name": "stdout"
        }
      ]
    },
    {
      "cell_type": "markdown",
      "metadata": {
        "id": "Vg8AjbvgDnd0"
      },
      "source": [
        "OBJECT ORIENTED PROGRAMMING"
      ]
    },
    {
      "cell_type": "markdown",
      "metadata": {
        "id": "a2QY6_N9DvB1"
      },
      "source": [
        "# scope test\n"
      ]
    },
    {
      "cell_type": "code",
      "metadata": {
        "id": "BY6_HgHED_Rl"
      },
      "source": [
        "\n",
        "def scope_test():\n",
        "  def local_scope():\n",
        "    text = \"from local_scope\"\n",
        "    \n",
        "  def non_local_scope():\n",
        "    nonlocal text # create a global environment for scope_test function\n",
        "    text = \"non local text\"\n",
        "  def global_scope():\n",
        "    global text #module level assignment\n",
        "    text = \"global text\"\n",
        "  text = \"scope test\"\n",
        "  local_scope()\n",
        "  print(\"After local scope function call\",text)# scope test\n",
        "  non_local_scope()\n",
        "  print(\"after non local scope function call\",text)\n",
        "  global_scope()\n",
        "  print(\"after global scope call\",text)\n",
        "\n",
        "scope_test()\n",
        "print(\"after main scope test call \",text)"
      ],
      "execution_count": null,
      "outputs": []
    },
    {
      "cell_type": "code",
      "metadata": {
        "id": "uQBd9qH2G43x"
      },
      "source": [
        "class first:\n",
        "  a  = \"python\" # instance variable and also member variables\n",
        "  def f(self):\n",
        "    return \"hello python\"\n",
        "obj  = first() # instance creation or object creation\n",
        "val = obj.f() # member function \n",
        "print(val)\n",
        "print(obj.a)"
      ],
      "execution_count": null,
      "outputs": []
    },
    {
      "cell_type": "markdown",
      "metadata": {
        "id": "2Qhxn38AJZ6G"
      },
      "source": [
        "public private and protected"
      ]
    },
    {
      "cell_type": "code",
      "metadata": {
        "id": "Fa-0u2E7Jdqw"
      },
      "source": [
        "class Student:\n",
        "  school = \"GPM College\"\n",
        "  def __init__(self,name,rollno):#contructor of the class\n",
        "    self.name = name #instance attribute\n",
        "    self.rollno = rollno #instance attribute\n",
        "std = Student(\"mohan\",35)# constructor calling and object creation\n",
        "print(std.name,std.rollno,std.school)# since variables are public\n"
      ],
      "execution_count": null,
      "outputs": []
    },
    {
      "cell_type": "code",
      "metadata": {
        "id": "OhHAzq6sLmAP"
      },
      "source": [
        "#indivisual assigments in public \n",
        "std.name = \"rajesh\"\n",
        "std.rollno = 123456\n",
        "print(std.name,std.rollno,std.school)\n"
      ],
      "execution_count": null,
      "outputs": []
    },
    {
      "cell_type": "code",
      "metadata": {
        "id": "OAYTqqJBK_g1"
      },
      "source": [
        "class Student_pr:\n",
        "  _school = \"GPM College\"# single underscore is used for protected var.\n",
        "  def __init__(self,name,rollno):\n",
        "    self._name = name #instance attribute\n",
        "    self._rollno = rollno #instance attribute\n",
        "std = Student_pr(\"mohan\",35)\n",
        "print(std.name,std.rollno,std.school)"
      ],
      "execution_count": null,
      "outputs": []
    },
    {
      "cell_type": "code",
      "metadata": {
        "id": "5ul9r0UkMdYV"
      },
      "source": [
        "std._name = \"rajesh\"\n",
        "std._rollno = 123456\n",
        "print(std._name,std._rollno,std._school)"
      ],
      "execution_count": null,
      "outputs": []
    },
    {
      "cell_type": "code",
      "metadata": {
        "id": "de6nk8UFMjnc"
      },
      "source": [
        "#private assignment\n",
        "class Student_private:\n",
        "  __school = \"GPM College\" # two under score for private var.\n",
        "  def __init__(self,name,rollno):\n",
        "    self.__name = name #instance attribute\n",
        "    self.__rollno = rollno #instance attribute\n",
        "  def printt(self):\n",
        "    print(self.__name,self.__rollno,self.__school)\n",
        "std = Student_private(\"mohan\",35)\n",
        "#std.printt()\n",
        "print(std.__name,std.__rollno,std.__school)# an error comes\n",
        "\n",
        "\n"
      ],
      "execution_count": null,
      "outputs": []
    },
    {
      "cell_type": "code",
      "metadata": {
        "id": "fQVw-EgmVe7i"
      },
      "source": [
        "std._name = \"rajesh\"# indivisula assignment outside the class are not allowed\n",
        "std._rollno = 123456\n",
        "print(std.__name,std.__rollno,std.__school)# since __name and other var. are private"
      ],
      "execution_count": null,
      "outputs": []
    },
    {
      "cell_type": "code",
      "metadata": {
        "id": "bsl-e1sAVl7-"
      },
      "source": [
        "# full program of class\n",
        "class employee:\n",
        "  __employe = 0 # declare as private\n",
        "  def __init__(self,name,age):\n",
        "    self.name = name #public\n",
        "    self.age = age #public\n",
        "    employee.__employe = employee.__employe+1 # static variable will not reset it\n",
        "  def display_employee(self):\n",
        "    print(\"employee name\",self.name,\"and age is\",self.age)\n",
        "  def display_count(self):\n",
        "    print(\"total number of employee are\",employee.__employe)\n",
        "e = employee(\"ram\",25) # constructor calling\n",
        "e.display_employee()\n",
        "e = employee(\"yogesh\",16)\n",
        "e.display_employee()\n",
        "e.display_count()\n",
        "e = employee(\"rajesh\",26)\n",
        "e.display_count()\n"
      ],
      "execution_count": null,
      "outputs": []
    },
    {
      "cell_type": "markdown",
      "metadata": {
        "id": "bNJ51oXtA-tn"
      },
      "source": [
        "Creating more than one object if the class"
      ]
    },
    {
      "cell_type": "code",
      "metadata": {
        "colab": {
          "base_uri": "https://localhost:8080/",
          "height": 34
        },
        "id": "kECYdt7YAkYW",
        "outputId": "b0fe8356-3711-4d7e-9333-962559cdf6ef"
      },
      "source": [
        "class car:\n",
        "  def __init__(self,name,mileage):#constructor of a class\n",
        "    self.name = name\n",
        "    self.mileage = mileage\n",
        "  def maxspeed(self,speed):\n",
        "    return f\"the name of the car is {self.name} and runs at the speed of {speed} with mileage{self.mileage}\"\n",
        "honda = car(\"honda\",60)\n",
        "honda.maxspeed(100)\n",
        "\n",
        "skoda = car(\"skoda\",60)\n",
        "skoda.maxspeed(120)"
      ],
      "execution_count": null,
      "outputs": [
        {
          "output_type": "execute_result",
          "data": {
            "application/vnd.google.colaboratory.intrinsic+json": {
              "type": "string"
            },
            "text/plain": [
              "'the name of the car is skoda and runs at the speed of 120'"
            ]
          },
          "metadata": {
            "tags": []
          },
          "execution_count": 2
        }
      ]
    },
    {
      "cell_type": "code",
      "metadata": {
        "id": "LfzSpyojCI5N"
      },
      "source": [
        "#Error by having one argument missing....\n"
      ],
      "execution_count": null,
      "outputs": []
    },
    {
      "cell_type": "code",
      "metadata": {
        "id": "eaIvdSl0KxMa",
        "colab": {
          "base_uri": "https://localhost:8080/"
        },
        "outputId": "7456c27e-c4a7-4920-afe5-79934967022c"
      },
      "source": [
        "class Car: # Parent class\n",
        "  def __init__(self,name,mileage):\n",
        "    self.name = name\n",
        "    self.mileage = mileage\n",
        "  def description(self):\n",
        "    return f\"the car is {self.name} run with mileage {self.mileage}\"\n",
        "\n",
        "class BMW(Car):# child class\n",
        "  def bmw_desc(self):\n",
        "    return \" This is description of bmw\"\n",
        "\n",
        "obj1 = BMW(\"BMW 7 Series \", 20)#calling the constructor of BMW\n",
        "print(obj1.bmw_desc())\n",
        "print(obj1.description())\n"
      ],
      "execution_count": null,
      "outputs": [
        {
          "output_type": "stream",
          "text": [
            " This is description of bmw\n",
            "the car is BMW 7 Series  run with mileage 20\n"
          ],
          "name": "stdout"
        }
      ]
    },
    {
      "cell_type": "code",
      "metadata": {
        "id": "Hzc6OXVZNipd"
      },
      "source": [
        "class Audi(Car):\n",
        "  def audi_desc(self):\n",
        "    return \"this is the description of audi car\"\n",
        "\n",
        "obj2 = Audi(\"Audi A5 Series\",18)\n",
        "print(obj2.audi_desc())\n",
        "print(obj2.description())"
      ],
      "execution_count": null,
      "outputs": []
    },
    {
      "cell_type": "markdown",
      "metadata": {
        "id": "SlyC1gmgQ6ak"
      },
      "source": [
        "Encapsulation in python"
      ]
    },
    {
      "cell_type": "code",
      "metadata": {
        "id": "ZW0in__bOiFf",
        "colab": {
          "base_uri": "https://localhost:8080/"
        },
        "outputId": "3b2ec674-432b-4f3a-9fd7-ac48b130a524"
      },
      "source": [
        "class Shape:#protected variables\n",
        "  _length = 10 \n",
        "  _breadth = 20\n",
        "\n",
        "class Circle(Shape):\n",
        "  def __init__(self):#printing protected variables in the derived class\n",
        "    print(self._length)\n",
        "    print(self._breadth)\n",
        "\n",
        "cr = Circle()\n",
        "#printing protected variablesoutsidethe class 'Shape' in which they are defined\n",
        "print(cr._length)\n",
        "print(cr._breadth)"
      ],
      "execution_count": null,
      "outputs": [
        {
          "output_type": "stream",
          "text": [
            "10\n",
            "20\n",
            "10\n",
            "20\n"
          ],
          "name": "stdout"
        }
      ]
    },
    {
      "cell_type": "code",
      "metadata": {
        "id": "9CISJpt7wPIG",
        "colab": {
          "base_uri": "https://localhost:8080/"
        },
        "outputId": "7cc9f443-27b8-42b4-e3a4-bedf591e5647"
      },
      "source": [
        "# demonstrating private aceess specifier\n",
        "\n",
        "class Computer:\n",
        "\n",
        "    def __init__(self):\n",
        "        self.__maxprice = 900\n",
        "\n",
        "    def sell(self):\n",
        "        print(\"Selling Price: {}\".format(self.__maxprice))\n",
        "\n",
        "    def setMaxPrice(self, price):\n",
        "        self.__maxprice = price\n",
        "\n",
        "c = Computer()\n",
        "c.sell()\n",
        "\n",
        "c.__maxprice = 1000 # it is a strict private variable\n",
        "c.sell()\n",
        "\n",
        "c.setMaxPrice(1000)\n",
        "c.sell()\n",
        "  "
      ],
      "execution_count": null,
      "outputs": [
        {
          "output_type": "stream",
          "text": [
            "Selling Price: 900\n",
            "Selling Price: 900\n",
            "Selling Price: 1000\n"
          ],
          "name": "stdout"
        }
      ]
    },
    {
      "cell_type": "markdown",
      "metadata": {
        "id": "uKkWsS3xOZOA"
      },
      "source": [
        "Polymorphism in python"
      ]
    },
    {
      "cell_type": "code",
      "metadata": {
        "colab": {
          "base_uri": "https://localhost:8080/"
        },
        "id": "gWF1LCgsOWu_",
        "outputId": "9fb070b1-dff6-4fe0-f144-fd45c5fe82c1"
      },
      "source": [
        "class Parrot:\n",
        "\n",
        "    def fly(self):\n",
        "        print(\"Parrot can fly\")\n",
        "    \n",
        "    def swim(self):\n",
        "        print(\"Parrot can't swim\")\n",
        "\n",
        "class Penguin:\n",
        "\n",
        "    def fly(self):\n",
        "        print(\"Penguin can't fly\")\n",
        "    \n",
        "    def swim(self):\n",
        "        print(\"Penguin can swim\")\n",
        "\n",
        "# common interface\n",
        "def flying_test(bird):\n",
        "    bird.fly()\n",
        "\n",
        "#instantiate objects\n",
        "blu = Parrot()\n",
        "peggy = Penguin()\n",
        "\n",
        "# passing the object\n",
        "flying_test(blu)\n",
        "flying_test(peggy)"
      ],
      "execution_count": null,
      "outputs": [
        {
          "output_type": "stream",
          "text": [
            "Parrot can fly\n",
            "Penguin can't fly\n"
          ],
          "name": "stdout"
        }
      ]
    },
    {
      "cell_type": "code",
      "metadata": {
        "id": "tnnc3EVfQ5BI"
      },
      "source": [
        "for i in range(2):# outer loop\n",
        "  table = int(input(\"enter the number\"))\n",
        "  for j in range(1,11):#inner loop\n",
        "    print(table,\"*\",j,\"=\",table*j)"
      ],
      "execution_count": null,
      "outputs": []
    },
    {
      "cell_type": "code",
      "metadata": {
        "id": "G5SBEr7qocQw",
        "colab": {
          "base_uri": "https://localhost:8080/"
        },
        "outputId": "a6661c8a-9cbf-42fc-c3f3-d74d96a6a312"
      },
      "source": [
        "#multi type dictionary\n",
        "\n",
        "multi_dict = {\"ramesh\":70, 12435:\"ayushi\", \"vaibhav\":60, 12144:'sohan'}\n",
        "print(multi_dict.keys())# to check the flexibility of dictionary\n",
        "print(multi_dict.values())\n",
        "for i in range(2):\n",
        "  key= input(\"enter the key\")\n",
        "  value = input(\"enter the value\")\n",
        "  multi_dict[key] = value # key ,value assignment\n",
        "  \n",
        "print(multi_dict)   "
      ],
      "execution_count": null,
      "outputs": [
        {
          "output_type": "stream",
          "text": [
            "dict_keys(['ramesh', 12435, 'vaibhav', 12144])\n",
            "dict_values([70, 'ayushi', 60, 'sohan'])\n",
            "enter the keycomputer\n",
            "enter the valuescience\n",
            "enter the keydata\n",
            "enter the valuescience\n",
            "{'ramesh': 70, 12435: 'ayushi', 'vaibhav': 60, 12144: 'sohan', 'computer': 'science', 'data': 'science'}\n"
          ],
          "name": "stdout"
        }
      ]
    },
    {
      "cell_type": "code",
      "metadata": {
        "id": "fz8wvYVkEWBr",
        "colab": {
          "base_uri": "https://localhost:8080/"
        },
        "outputId": "07946186-8683-4859-f698-75f414362db3"
      },
      "source": [
        "dict2 = {'a':100,'b':200,'c':300,'d':400}#: key value pair\n",
        "# calculate the sum of all values associated with their keys\n",
        "# keys() and values()\n",
        "print(dict2.keys())\n",
        "print(dict2.values())\n",
        "val = dict2.values() # val is a list\n",
        "print(sum(val))"
      ],
      "execution_count": null,
      "outputs": [
        {
          "output_type": "stream",
          "text": [
            "dict_keys(['a', 'b', 'c', 'd'])\n",
            "dict_values([100, 200, 300, 400])\n",
            "1000\n"
          ],
          "name": "stdout"
        }
      ]
    },
    {
      "cell_type": "code",
      "metadata": {
        "id": "OHbLrJBwH8UX"
      },
      "source": [
        "dictt = {'value':10,'value2':20,'value3':30,'value4':50}\n",
        "\n",
        "val = dictt.values()\n",
        "mult = 1\n",
        "for i in val:\n",
        "  mult = mult*i\n",
        "  print(mult)\n",
        "print(\"final multiplication of dict values\",mult)\n"
      ],
      "execution_count": null,
      "outputs": []
    },
    {
      "cell_type": "code",
      "metadata": {
        "colab": {
          "base_uri": "https://localhost:8080/"
        },
        "id": "a6lIdgTaJhZk",
        "outputId": "66e946cf-c484-4d5e-b24b-069db580d937"
      },
      "source": [
        "dict2 = {'value5':20}\n",
        "dict2.update(dictt)\n",
        "dict2\n",
        "dictt"
      ],
      "execution_count": null,
      "outputs": [
        {
          "output_type": "execute_result",
          "data": {
            "text/plain": [
              "{'value': 10, 'value2': 20, 'value3': 30, 'value4': 50}"
            ]
          },
          "metadata": {
            "tags": []
          },
          "execution_count": 19
        }
      ]
    },
    {
      "cell_type": "code",
      "metadata": {
        "colab": {
          "base_uri": "https://localhost:8080/"
        },
        "id": "g_O5mzCOLJtI",
        "outputId": "00a58436-7ee0-4063-c0b7-e147f9ea61c7"
      },
      "source": [
        "a, b = 10,20\n",
        "a+b"
      ],
      "execution_count": null,
      "outputs": [
        {
          "output_type": "execute_result",
          "data": {
            "text/plain": [
              "30"
            ]
          },
          "metadata": {
            "tags": []
          },
          "execution_count": 18
        }
      ]
    },
    {
      "cell_type": "code",
      "metadata": {
        "id": "T8eJdtq3K3kE"
      },
      "source": [
        "#calculate the length of the munber of keys of a string\n"
      ],
      "execution_count": null,
      "outputs": []
    },
    {
      "cell_type": "code",
      "metadata": {
        "id": "9RjyT0Lxw0OX"
      },
      "source": [
        "num = [11,23,45,23]\n",
        "for i in num:\n",
        "  print(i)"
      ],
      "execution_count": null,
      "outputs": []
    },
    {
      "cell_type": "markdown",
      "metadata": {
        "id": "RfAVOJi80r30"
      },
      "source": [
        "Files in Python..............."
      ]
    },
    {
      "cell_type": "code",
      "metadata": {
        "colab": {
          "base_uri": "https://localhost:8080/"
        },
        "id": "PI3mbegc0rOg",
        "outputId": "a78077ef-72df-4a91-97a1-b91e89742db5"
      },
      "source": [
        "import os\n",
        "from google.colab import drive\n",
        "drive.mount('/content/drive/')\n"
      ],
      "execution_count": null,
      "outputs": [
        {
          "output_type": "stream",
          "text": [
            "Mounted at /content/drive/\n"
          ],
          "name": "stdout"
        }
      ]
    },
    {
      "cell_type": "markdown",
      "metadata": {
        "id": "0ycKaSQVxnPh"
      },
      "source": [
        "#CRUD 'r','w','a',\n",
        "\n",
        "c: creating a file, r stands for reading, u stand for updating,\n",
        "a stands for appending a file\n",
        "File opeartions"
      ]
    },
    {
      "cell_type": "code",
      "metadata": {
        "id": "cFI8RtnLx4Tb"
      },
      "source": [
        "#path = '/content/drive/MyDrive/pythonfile/demofile2.txt'\n",
        "path_ay = '/content/drive/MyDrive/ayushi/first.txt'\n",
        "f = open(path_ay,'w')# it create a file if it does not exists\n",
        "f.close()\n"
      ],
      "execution_count": null,
      "outputs": []
    },
    {
      "cell_type": "code",
      "metadata": {
        "id": "NTCDywwo0l2z"
      },
      "source": [
        "f = open(path_ay,'r') # open file in read mode\n",
        "print(f.read()) # read function is used for reading data from file\n",
        "f.close()"
      ],
      "execution_count": null,
      "outputs": []
    },
    {
      "cell_type": "code",
      "metadata": {
        "id": "cIEe9zkL05pW"
      },
      "source": [
        "file = open(path_ay,'r')\n",
        "print(file.read(10)) # gives certain numbers of characters in a line\n",
        "file.close()"
      ],
      "execution_count": null,
      "outputs": []
    },
    {
      "cell_type": "markdown",
      "metadata": {
        "id": "5gvL-dZ_1SBH"
      },
      "source": [
        "1.   print(f.readline())# read output line by line\n",
        "2.   print(f.readlines()) # read line seperately"
      ]
    },
    {
      "cell_type": "code",
      "metadata": {
        "id": "wiZdUcM81MEh",
        "colab": {
          "base_uri": "https://localhost:8080/"
        },
        "outputId": "2b6a2483-bdf8-4549-c7ed-85318a5d8101"
      },
      "source": [
        "file = open(path_ay,'r')\n",
        "#print the first line and stops\n",
        "print(file.readline())"
      ],
      "execution_count": null,
      "outputs": [
        {
          "output_type": "stream",
          "text": [
            "we learn python \n",
            "\n"
          ],
          "name": "stdout"
        }
      ]
    },
    {
      "cell_type": "code",
      "metadata": {
        "colab": {
          "base_uri": "https://localhost:8080/"
        },
        "id": "JRKa9v2a3qA5",
        "outputId": "c6492074-d02b-4b7a-b590-4c677db2314a"
      },
      "source": [
        "file = open(path_ay,'r')\n",
        "print(file.readlines())\n",
        "file.close()"
      ],
      "execution_count": null,
      "outputs": [
        {
          "output_type": "stream",
          "text": [
            "['we learn python \\n', 'python is fast language ']\n"
          ],
          "name": "stdout"
        }
      ]
    },
    {
      "cell_type": "code",
      "metadata": {
        "id": "BqvP2X0k4Tze"
      },
      "source": [
        "# Reading lines of the files using loops\n",
        "f = open(path_ay,'r')\n",
        "for line in path_ay:# iteratively\n",
        "  print(f.readline())\n",
        "f.close()"
      ],
      "execution_count": null,
      "outputs": []
    },
    {
      "cell_type": "code",
      "metadata": {
        "id": "TGs8OLcH4zjQ"
      },
      "source": [
        "# python write method\n",
        "# to write in file we use to methods 'w' and 'a'\n",
        "#'w' will over write the content of the file \n",
        "# 'a'it will append in the end of the file"
      ],
      "execution_count": null,
      "outputs": []
    },
    {
      "cell_type": "code",
      "metadata": {
        "id": "m-pAanL161kZ"
      },
      "source": [
        "# Updating the file\n",
        "f = open(path_ay,'w')\n",
        "f.write('we are working on data science project')\n",
        "f.write('okk world')\n",
        "f.close()\n"
      ],
      "execution_count": null,
      "outputs": []
    },
    {
      "cell_type": "code",
      "metadata": {
        "id": "53NBsGEwiwuf"
      },
      "source": [
        "f = open(path_ay,'a')\n",
        "f.write(\" I am writing in appending mode\")\n",
        "f.close()"
      ],
      "execution_count": null,
      "outputs": []
    },
    {
      "cell_type": "code",
      "metadata": {
        "id": "qHVTKmby9klC"
      },
      "source": [
        "# creating and writing the file from the console\n",
        "path_ayy = '/content/drive/MyDrive/ayushi/second.txt'\n",
        "f1 = open(path_ayy,'w')\n",
        "f1.write(\"new file okk\")\n",
        "f1.write(\"writing in the same folder\")\n",
        "f1.close()"
      ],
      "execution_count": null,
      "outputs": []
    },
    {
      "cell_type": "code",
      "metadata": {
        "id": "PSc8KI7b-Yj6"
      },
      "source": [
        "# Deleting a file\n",
        "import os\n",
        "os.remove(path_ayy)\n",
        "#if os.path.exists(path1)\n"
      ],
      "execution_count": null,
      "outputs": []
    },
    {
      "cell_type": "code",
      "metadata": {
        "id": "7tvLEjTIVKCy"
      },
      "source": [
        "import os\n",
        "if os.path.exists(path):\n",
        "  os.remove(path)\n",
        "else:\n",
        "  print(\"file does not exists\")"
      ],
      "execution_count": null,
      "outputs": []
    },
    {
      "cell_type": "markdown",
      "metadata": {
        "id": "wGNjZEV6SblA"
      },
      "source": [
        "Tuples and dictionary"
      ]
    },
    {
      "cell_type": "code",
      "metadata": {
        "id": "fPqvRarQSet5",
        "colab": {
          "base_uri": "https://localhost:8080/"
        },
        "outputId": "1e7db785-257a-46d6-9ea5-a5bc1ff85b6c"
      },
      "source": [
        "#Value assignment using triplet\n",
        "(age,name,value) = (23,\"rohan\",[1,2,3])\n",
        "print(age,name,value)\n",
        "print(value)\n",
        "value1 = []\n",
        "for i in value:\n",
        "  print(i+3)\n",
        "  value1.append(i+3)\n",
        "print(\"new list is\",value1)\n"
      ],
      "execution_count": null,
      "outputs": [
        {
          "output_type": "stream",
          "text": [
            "23 rohan [1, 2, 3]\n",
            "[1, 2, 3]\n",
            "4\n",
            "5\n",
            "6\n",
            "new list is [4, 5, 6]\n"
          ],
          "name": "stdout"
        }
      ]
    },
    {
      "cell_type": "code",
      "metadata": {
        "id": "kWoMb4stSx9T"
      },
      "source": [
        "point = (3.5,4.8)# x and y cordinates\n",
        "date =  (16,7,2013)# date"
      ],
      "execution_count": null,
      "outputs": []
    },
    {
      "cell_type": "code",
      "metadata": {
        "id": "cnoDmA0AS_PQ",
        "colab": {
          "base_uri": "https://localhost:8080/"
        },
        "outputId": "4ee9c5e4-f9c7-4f41-a838-fdf752bf754f"
      },
      "source": [
        "#extract values using position or index and slicing\n",
        "xcordinate = point[1]\n",
        "monthyear = date[2:]\n",
        "print(xcordinate)\n",
        "print(monthyear)\n"
      ],
      "execution_count": null,
      "outputs": [
        {
          "output_type": "stream",
          "text": [
            "4.8\n",
            "(2013,)\n"
          ],
          "name": "stdout"
        }
      ]
    },
    {
      "cell_type": "code",
      "metadata": {
        "id": "Mlju6NdvTQRr"
      },
      "source": [
        "# tuples are immutable\n",
        "date[1] = 12 #gives an error !\n"
      ],
      "execution_count": null,
      "outputs": []
    },
    {
      "cell_type": "code",
      "metadata": {
        "id": "VRiXTcqoTwa3"
      },
      "source": [
        "# generalizing list as keys and values\n",
        "#l = [13,46,0,25,72]\n",
        "# so we can think in this way that l as a funtion associating\n",
        "# index value with real value l(keys) = value\n",
        "# l(0) = 13, l(1)=46 and so on...\n"
      ],
      "execution_count": null,
      "outputs": []
    },
    {
      "cell_type": "code",
      "metadata": {
        "id": "NV87ZCNk-8Cv"
      },
      "source": [
        "# convert the above list l into dictionary\n",
        "# list are mutable in nature\n",
        "l = [21,34,44,55]\n",
        "l[2] = 75\n",
        "print(l)\n"
      ],
      "execution_count": null,
      "outputs": []
    },
    {
      "cell_type": "markdown",
      "metadata": {
        "id": "UaF7n91iUdDW"
      },
      "source": [
        "Dictionaries are the concept of allowing keys other than range(0,n)\n",
        "key could be a string"
      ]
    },
    {
      "cell_type": "code",
      "metadata": {
        "id": "B6TC_kkpUwYk",
        "colab": {
          "base_uri": "https://localhost:8080/"
        },
        "outputId": "56f02b76-bb50-4beb-c933-f7c09cb99331"
      },
      "source": [
        "dict1 = {} # initialization\n",
        "dict1['ramesh'] = 21\n",
        "dict1['suresh'] = 22\n",
        "dict1['rajesh'] = 44\n",
        "# any immutable ca be a key\n",
        "# can update values thus we can say that values are mutable\n",
        "print(dict1)\n",
        "dict1['ramesh'] = 56 # explict assignment or updation\n",
        "print(dict1)"
      ],
      "execution_count": null,
      "outputs": [
        {
          "output_type": "stream",
          "text": [
            "{'ramesh': 21, 'suresh': 22, 'rajesh': 44}\n",
            "{'ramesh': 56, 'suresh': 22, 'rajesh': 44}\n"
          ],
          "name": "stdout"
        }
      ]
    },
    {
      "cell_type": "code",
      "metadata": {
        "id": "1aDNdwIsV15Q",
        "colab": {
          "base_uri": "https://localhost:8080/"
        },
        "outputId": "b2be53cb-9cd4-47a3-f9cf-0636b8cdc395"
      },
      "source": [
        "# can nested dictionaries\n",
        "marks= {} # outer dictionary\n",
        "marks['test1'] = {} # two inner dictionaries seprated on basis of keys\n",
        "marks['test2'] = {}\n",
        "marks['test1']['vijay'] = 84\n",
        "marks['test2']['suresh'] = 72\n",
        "marks['test2']['ajay'] = 77\n",
        "print(marks)\n"
      ],
      "execution_count": null,
      "outputs": [
        {
          "output_type": "stream",
          "text": [
            "{'test1': {'vijay': 84}, 'test2': {'suresh': 72, 'ajay': 77}}\n"
          ],
          "name": "stdout"
        }
      ]
    },
    {
      "cell_type": "code",
      "metadata": {
        "id": "aWe0cUlCXQ1a",
        "colab": {
          "base_uri": "https://localhost:8080/"
        },
        "outputId": "eb378eb0-32df-48cc-9b75-146f61fd3255"
      },
      "source": [
        "#test1.keys()#return sequence of keys\n",
        "print(marks.keys())\n",
        "print(marks['test1'].keys())"
      ],
      "execution_count": null,
      "outputs": [
        {
          "output_type": "stream",
          "text": [
            "dict_keys(['test1', 'test2'])\n",
            "dict_keys(['vijay'])\n"
          ],
          "name": "stdout"
        }
      ]
    },
    {
      "cell_type": "markdown",
      "metadata": {
        "id": "JVaUbomI_9oq"
      },
      "source": [
        ""
      ]
    },
    {
      "cell_type": "code",
      "metadata": {
        "id": "8XR7uTjGYtNw"
      },
      "source": [
        "for k in sorted(marks.keys()):\n",
        "  print(marks[k])"
      ],
      "execution_count": null,
      "outputs": []
    },
    {
      "cell_type": "markdown",
      "metadata": {
        "id": "XF5TCUxl_jNy"
      },
      "source": [
        "Complete the solution so that it returns true if the first argument(string) passed in ends with the 2nd argument (also a string).\n",
        "\n",
        "Examples:\n",
        "\n",
        "solution('abc', 'bc') # returns true\n",
        "solution('abc', 'd') # returns false"
      ]
    },
    {
      "cell_type": "markdown",
      "metadata": {
        "id": "Ch6JRWNyRJaO"
      },
      "source": [
        "NUMPY Package"
      ]
    },
    {
      "cell_type": "code",
      "metadata": {
        "id": "Jni8CnqaRQeQ"
      },
      "source": [
        "import numpy as np\n",
        "data1 = [25,32.32,16,92,77]# it is a list data1\n",
        "arr1 = np.array(data1)\n",
        "print(arr1)\n",
        "print(arr1.dtype)\n"
      ],
      "execution_count": null,
      "outputs": []
    },
    {
      "cell_type": "code",
      "metadata": {
        "id": "qY7tiOf2ShEd"
      },
      "source": [
        "# create an array of zeros\n",
        "arr_zero = np.zeros(10) # for single dimension\n",
        "arr_zero_2d = np.zeros((4,5))\n",
        "print(arr_zero,arr_zero_2d)"
      ],
      "execution_count": null,
      "outputs": []
    },
    {
      "cell_type": "code",
      "metadata": {
        "id": "WY_8Lc_7TYAc"
      },
      "source": [
        "arr_1 = np.ones(5)\n",
        "arr_2 = np.ones((2,3))\n",
        "#print(arr_1)\n",
        "print(arr_2)"
      ],
      "execution_count": null,
      "outputs": []
    },
    {
      "cell_type": "markdown",
      "metadata": {
        "id": "pXk7y5KRKcxT"
      },
      "source": [
        "Exception Handling in Python"
      ]
    },
    {
      "cell_type": "code",
      "metadata": {
        "id": "XdE6ZWVde0Ab"
      },
      "source": [
        "# normal error\n",
        "# compiler designing has two phases syntatical and semantical analysis\n",
        "y  = (x/z)\n",
        "print(y)"
      ],
      "execution_count": null,
      "outputs": []
    },
    {
      "cell_type": "code",
      "metadata": {
        "colab": {
          "base_uri": "https://localhost:8080/"
        },
        "id": "XG3qrP_fgBHL",
        "outputId": "1c61df54-a6d1-4a91-917c-dbf867e193f7"
      },
      "source": [
        "# Exception is a super class of all errors\n",
        "try:\n",
        "  y = x/z\n",
        "  val = list2[i]\n",
        "except NameError:\n",
        "  print(\"plz define x and z\")\n",
        "except Exception:\n",
        "  print(\"Enter correct values\")\n"
      ],
      "execution_count": null,
      "outputs": [
        {
          "output_type": "stream",
          "text": [
            "plz define x and z\n"
          ],
          "name": "stdout"
        }
      ]
    },
    {
      "cell_type": "code",
      "metadata": {
        "id": "XgZpY3aeF-5v",
        "colab": {
          "base_uri": "https://localhost:8080/",
          "height": 220
        },
        "outputId": "6802d6d6-e191-4b86-b0da-aa8b08f6ac67"
      },
      "source": [
        "# Syntax error\n",
        "a,b=5,0\n",
        "c = (a/b)\n",
        "print(c)\n"
      ],
      "execution_count": null,
      "outputs": [
        {
          "output_type": "error",
          "ename": "ZeroDivisionError",
          "evalue": "ignored",
          "traceback": [
            "\u001b[0;31m---------------------------------------------------------------------------\u001b[0m",
            "\u001b[0;31mZeroDivisionError\u001b[0m                         Traceback (most recent call last)",
            "\u001b[0;32m<ipython-input-30-732900ffe5ac>\u001b[0m in \u001b[0;36m<module>\u001b[0;34m()\u001b[0m\n\u001b[1;32m      1\u001b[0m \u001b[0;31m# Syntax error\u001b[0m\u001b[0;34m\u001b[0m\u001b[0;34m\u001b[0m\u001b[0;34m\u001b[0m\u001b[0m\n\u001b[1;32m      2\u001b[0m \u001b[0ma\u001b[0m\u001b[0;34m,\u001b[0m\u001b[0mb\u001b[0m\u001b[0;34m=\u001b[0m\u001b[0;36m5\u001b[0m\u001b[0;34m,\u001b[0m\u001b[0;36m0\u001b[0m\u001b[0;34m\u001b[0m\u001b[0;34m\u001b[0m\u001b[0m\n\u001b[0;32m----> 3\u001b[0;31m \u001b[0mc\u001b[0m \u001b[0;34m=\u001b[0m \u001b[0;34m(\u001b[0m\u001b[0ma\u001b[0m\u001b[0;34m/\u001b[0m\u001b[0mb\u001b[0m\u001b[0;34m)\u001b[0m\u001b[0;34m\u001b[0m\u001b[0;34m\u001b[0m\u001b[0m\n\u001b[0m\u001b[1;32m      4\u001b[0m \u001b[0mprint\u001b[0m\u001b[0;34m(\u001b[0m\u001b[0mc\u001b[0m\u001b[0;34m)\u001b[0m\u001b[0;34m\u001b[0m\u001b[0;34m\u001b[0m\u001b[0m\n",
            "\u001b[0;31mZeroDivisionError\u001b[0m: division by zero"
          ]
        }
      ]
    },
    {
      "cell_type": "code",
      "metadata": {
        "id": "qgWBiRE48FVe"
      },
      "source": [
        "# exception handling\n",
        "try:\n",
        "  val1 = int(input(\"enter val1\"))\n",
        "  val2 = int(input(\"enter val2\"))\n",
        "  c = (val1/val2)\n",
        "except ZeroDivisionError:\n",
        "  print(\"please do not give zero value\")\n",
        "except NameError:\n",
        "  print(\"please give values\")\n",
        "except Exception:\n",
        "  print(\" please check values\")\n",
        "else:\n",
        "  print(\" correct values were given\",c)\n",
        "finally:\n",
        "  print(\" always executed\")\n",
        "\n",
        "# else will execute only when try will not raise any exception\n",
        "# finally block will always get executed\n"
      ],
      "execution_count": null,
      "outputs": []
    },
    {
      "cell_type": "code",
      "metadata": {
        "id": "M72pa8fZ8Ssk"
      },
      "source": [
        "# we can ues raise to throw the exception\n",
        "x =5\n",
        "if x>2:\n",
        "  raise Exception(\"the value of x is {0} please keep less val than 2\".format(x)) "
      ],
      "execution_count": null,
      "outputs": []
    },
    {
      "cell_type": "code",
      "metadata": {
        "id": "cLyrqva684dY"
      },
      "source": [
        "import sys\n",
        "def linux_interaction():\n",
        "  assert('linux' in sys.platform),\"function run only in linux system.\"\n",
        "  print(\"doing something\")\n",
        "#linux_interaction()\n",
        "\n",
        "try:\n",
        "  linux_interaction()\n",
        "except:\n",
        "  print(\"Linux function was not executed\")\n",
        "\n",
        "\n"
      ],
      "execution_count": null,
      "outputs": []
    },
    {
      "cell_type": "code",
      "metadata": {
        "colab": {
          "base_uri": "https://localhost:8080/"
        },
        "id": "pzAOIRYAWL6b",
        "outputId": "9349f48f-58e8-4910-fa47-554f4dcc5ab1"
      },
      "source": [
        "def divide_zero(num,div):\n",
        "  c = num/div\n",
        "  print(c)\n",
        "try:\n",
        "  divide_zero(5,2)\n",
        "except:\n",
        "  print(\"do not divide by zero\")\n",
        "else:\n",
        "  print(\"try has executed sucess fully\")\n",
        "  "
      ],
      "execution_count": null,
      "outputs": [
        {
          "output_type": "stream",
          "text": [
            "2.5\n",
            "try has executed sucess fully\n"
          ],
          "name": "stdout"
        }
      ]
    },
    {
      "cell_type": "code",
      "metadata": {
        "id": "G0PJ_a-jWls-"
      },
      "source": [
        "# name error\n",
        "# handling by explictily using NameError\n",
        "num1=num2\n"
      ],
      "execution_count": null,
      "outputs": []
    },
    {
      "cell_type": "code",
      "metadata": {
        "colab": {
          "base_uri": "https://localhost:8080/"
        },
        "id": "kOHeoriKXkBI",
        "outputId": "5a70b141-bdca-44aa-e61f-9ccd6234dc10"
      },
      "source": [
        "# inside the try and except block\n",
        "try:\n",
        "  num1 = num2\n",
        "except NameError:\n",
        "  print(\"exception is handleld in first block\")\n",
        "except Exception as ex:\n",
        "  print(\"num2 needed to be defined...\",ex)"
      ],
      "execution_count": null,
      "outputs": [
        {
          "output_type": "stream",
          "text": [
            "exception is handleld in first block\n"
          ],
          "name": "stdout"
        }
      ]
    },
    {
      "cell_type": "code",
      "metadata": {
        "id": "VM18BvEVXj-E"
      },
      "source": [
        "# the super class exception has to be in the last\n",
        "try:\n",
        "  num1 = 20\n",
        "  num2 = 'str'\n",
        "  num3 = num1+num2\n",
        "  print(num3)\n",
        "except Exception as ex:\n",
        "  print(ex)"
      ],
      "execution_count": null,
      "outputs": []
    },
    {
      "cell_type": "code",
      "metadata": {
        "id": "EzoLm_GIVJjh"
      },
      "source": [
        "try:\n",
        "  a = int(input())\n",
        "  b = int(input())\n",
        "  c = a/b\n",
        "  d = a*b\n",
        "  e = a+b\n",
        "except NameError ne:\n",
        "  print(\"please define value...\",ne)\n",
        "except TypeError:\n",
        "  print(\"Unsupported type\")\n",
        "except ZeroDivisionError:\n",
        "  print(\"enter value greater than zero\")\n",
        "except Exception:\n",
        "  print(\"plz enter correct values\")\n",
        "else:\n",
        "  print(c)\n",
        "  print(d)\n",
        "  print(e)\n"
      ],
      "execution_count": null,
      "outputs": []
    }
  ]
}