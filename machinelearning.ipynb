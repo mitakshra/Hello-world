{
  "nbformat": 4,
  "nbformat_minor": 0,
  "metadata": {
    "colab": {
      "provenance": [],
      "collapsed_sections": [],
      "authorship_tag": "ABX9TyOPa4+gPKIHYQck9Z7csYkG",
      "include_colab_link": true
    },
    "kernelspec": {
      "display_name": "Python 3",
      "name": "python3"
    }
  },
  "cells": [
    {
      "cell_type": "markdown",
      "metadata": {
        "id": "view-in-github",
        "colab_type": "text"
      },
      "source": [
        "<a href=\"https://colab.research.google.com/github/mitakshra/Hello-world/blob/master/machinelearning.ipynb\" target=\"_parent\"><img src=\"https://colab.research.google.com/assets/colab-badge.svg\" alt=\"Open In Colab\"/></a>"
      ]
    },
    {
      "cell_type": "markdown",
      "source": [
        "Perceptron Algorithm"
      ],
      "metadata": {
        "id": "zgWPXl69Un0N"
      }
    },
    {
      "cell_type": "code",
      "source": [
        "from sklearn.linear_model import Perceptron\n",
        "from sklearn import metrics\n",
        "from sklearn.model_selection import train_test_split\n",
        "from sklearn.metrics import accuracy_score, precision_score,confusion_matrix,recall_score\n",
        "import random\n",
        "import numpy as np\n",
        "# define a learning rate\n",
        "# define model\n",
        "# learning rate is a hyper parameter which cann not be trained\n",
        "model = Perceptron(eta0=0.01,max_iter=500)\n",
        "\n",
        "# creating a random data set\n",
        "x  = []\n",
        "for i in range(0,100):\n",
        "  col = []\n",
        "  for j in range(3):\n",
        "    col.append(random.random())\n",
        "  x.append(col)\n",
        "\n",
        "y = [random.randint(0,1) for i in range(100)]\n",
        "\n"
      ],
      "metadata": {
        "id": "fbrZSgmlUrSc"
      },
      "execution_count": null,
      "outputs": []
    },
    {
      "cell_type": "code",
      "source": [
        "print(x)"
      ],
      "metadata": {
        "id": "QqC_adBfuv0c"
      },
      "execution_count": null,
      "outputs": []
    },
    {
      "cell_type": "code",
      "source": [
        "print(y)"
      ],
      "metadata": {
        "id": "Z7j7AU_ev200"
      },
      "execution_count": null,
      "outputs": []
    },
    {
      "cell_type": "code",
      "source": [
        "data = np.array(x)"
      ],
      "metadata": {
        "id": "hTYnAUeKv7lt"
      },
      "execution_count": null,
      "outputs": []
    },
    {
      "cell_type": "code",
      "source": [
        "y = np.array(y)"
      ],
      "metadata": {
        "id": "rc3ZaCGDwGCo"
      },
      "execution_count": null,
      "outputs": []
    },
    {
      "cell_type": "code",
      "source": [
        "train_x,test_x,train_y,test_y = train_test_split(data,y,test_size=0.3)"
      ],
      "metadata": {
        "id": "g8B1DEF-wKxd"
      },
      "execution_count": null,
      "outputs": []
    },
    {
      "cell_type": "code",
      "source": [
        "model.fit(train_x,train_y)"
      ],
      "metadata": {
        "id": "OPRbb7V0wp0o"
      },
      "execution_count": null,
      "outputs": []
    },
    {
      "cell_type": "code",
      "source": [
        "y_pred = model.predict(test_x)"
      ],
      "metadata": {
        "id": "f8KCTFXGxLhz"
      },
      "execution_count": null,
      "outputs": []
    },
    {
      "cell_type": "code",
      "source": [
        "print('mis classified samples %d' % (test_y != y_pred).sum())"
      ],
      "metadata": {
        "id": "joTb0m3txQXY"
      },
      "execution_count": null,
      "outputs": []
    },
    {
      "cell_type": "code",
      "source": [
        "test_y"
      ],
      "metadata": {
        "id": "8NNwizCwz6JT"
      },
      "execution_count": null,
      "outputs": []
    },
    {
      "cell_type": "code",
      "source": [
        "print(confusion_matrix(test_y,y_pred))"
      ],
      "metadata": {
        "id": "Cwgi21HYzQfX"
      },
      "execution_count": null,
      "outputs": []
    },
    {
      "cell_type": "code",
      "source": [
        "precision_score(test_y,y_pred)"
      ],
      "metadata": {
        "id": "rCiJ5tL20BIh"
      },
      "execution_count": null,
      "outputs": []
    },
    {
      "cell_type": "code",
      "source": [
        "recall_score(test_y,y_pred)"
      ],
      "metadata": {
        "id": "tBJVyYtt1gNa"
      },
      "execution_count": null,
      "outputs": []
    },
    {
      "cell_type": "markdown",
      "metadata": {
        "id": "9iytdH3dTVF2"
      },
      "source": [
        "Linear Regression example unit1:\n"
      ]
    },
    {
      "cell_type": "code",
      "metadata": {
        "id": "eTKkGMeO85pZ"
      },
      "source": [
        "!pip install -U -q PyDrive\n",
        "from pydrive.auth import GoogleAuth\n",
        "from pydrive.drive import GoogleDrive\n",
        "from google.colab import auth\n",
        "from oauth2client.client import GoogleCredentials\n"
      ],
      "execution_count": null,
      "outputs": []
    },
    {
      "cell_type": "code",
      "metadata": {
        "id": "iTqr7oJj55Cj"
      },
      "source": [
        "auth.authenticate_user()\n",
        "gauth = GoogleAuth()\n",
        "gauth.credentials = GoogleCredentials.get_application_default()\n",
        "drive = GoogleDrive(gauth)\n"
      ],
      "execution_count": null,
      "outputs": []
    },
    {
      "cell_type": "code",
      "metadata": {
        "id": "r1_jHhrT6b7l"
      },
      "source": [
        "downloaded = drive.CreateFile({'id':'1-mjRox5DAASrojFdJsstwcgc7n-NRfqH'}) # replace the id with id of file you want to access\n",
        "downloaded.GetContentFile('TRAIN_EIGHT.csv')"
      ],
      "execution_count": null,
      "outputs": []
    },
    {
      "cell_type": "code",
      "metadata": {
        "id": "cBAaXDUHTcZ_"
      },
      "source": [
        "import random\n",
        "import matplotlib.pyplot as plt\n",
        "import seaborn as sns\n",
        "from sklearn.preprocessing import MinMaxScaler\n",
        "from sklearn.metrics import mean_squared_error\n",
        "from sklearn.linear_model import LinearRegression\n",
        "import pandas as pd\n",
        "from sklearn.model_selection import train_test_split\n",
        "\n",
        "x = [random.randint(155,180) for i in range(50)]\n",
        "y = [random.randint(65,88) for j in range(50)]\n",
        "#sns.scatterplot(x,y)\n",
        "\n",
        "data = pd.read_csv(\"TRAIN_EIGHT.csv\") \n",
        "xa = np.array(data.iloc[:,0]).reshape(-1,1)\n",
        "ya = np.array(data.iloc[:,1]).reshape(-1,1)\n",
        "#sns.scatterplot(x1,y1)\n",
        "#sns.regplot(x1,y1)\n",
        "#@sns.histplot(x1,kde=True)\n",
        "#distribution shows not a normal distribution so we will not go for standarization\n",
        "#go for normalization\n",
        "scalar = MinMaxScaler()\n",
        "data1 = scalar.fit_transform(data)\n",
        "xa = data1[:,0]\n",
        "ya = data1[:,1]\n",
        "sns.histplot(xa,kde=True)\n",
        "model = LinearRegression()\n",
        "xa = np.array(xa).reshape(-1,1)\n",
        "ya = np.array(ya).reshape(-1,1)\n",
        "xtrain,xtest,ytrain,ytest=train_test_split(xa,ya,test_size=0.3)\n",
        "model.fit(xtrain,ytrain)\n",
        "predd = model.predict(xtest)\n",
        "print(mean_squared_error(ytest,predd))\n",
        "df1 = pd.DataFrame(data1)\n",
        "import numpy as np\n",
        "\n",
        "xdata = np.array(df1.iloc[:,0]).reshape(-1,1)\n",
        "ydata = np.array(df1.iloc[:,1]).reshape(-1,1)\n",
        "train_x,test_x,train_y,test_y = train_test_split(xdata,ydata,test_size=0.3)\n",
        "model.fit(train_x,train_y)\n",
        "pred = model.predict(test_x)\n",
        "print(mean_squared_error(test_y,pred))\n",
        "\n",
        "\n",
        "\n",
        "\n"
      ],
      "execution_count": null,
      "outputs": []
    },
    {
      "cell_type": "markdown",
      "metadata": {
        "id": "-7ADFIad3UAB"
      },
      "source": [
        "first example"
      ]
    },
    {
      "cell_type": "code",
      "metadata": {
        "id": "39OkuXK96cDe"
      },
      "source": [
        "def similarity(m,n):\n",
        "   \n",
        "  def recurse(x,y):\n",
        "    cost=0\n",
        "    if x==0:\n",
        "      return y\n",
        "    if y==0:\n",
        "      return x\n",
        "    else:\n",
        "      if m[x-1]==n[y-1]:\n",
        "        cost = 1+recurse(x-1,y-1)\n",
        "      else:\n",
        "        cost = 0+recurse(x-1,y-1)\n",
        "    return cost\n",
        "  return recurse(len(m),len(n))\n",
        "print(similarity('','the was'))\n"
      ],
      "execution_count": null,
      "outputs": []
    },
    {
      "cell_type": "code",
      "metadata": {
        "id": "sXfEnf6to78R"
      },
      "source": [
        "import numpy as np\n",
        "import seaborn as sns"
      ],
      "execution_count": null,
      "outputs": []
    },
    {
      "cell_type": "code",
      "metadata": {
        "id": "FaxgMBgnKjhg"
      },
      "source": [
        "def mean_square(data,w):\n",
        "  summ = []\n",
        "  for x,y in data:\n",
        "    err = (y-(np.dot(np.array(w),np.array(x).T))**2)*0.5\n",
        "    summ.append(err)\n",
        "  E = sum(summ)/len(data)\n",
        "  return E"
      ],
      "execution_count": null,
      "outputs": []
    },
    {
      "cell_type": "code",
      "metadata": {
        "id": "U9NYr3Py8JwW"
      },
      "source": [
        "def gradient_descent(dataa,w,eta):\n",
        "  sum_error = []\n",
        "  dataa = np.array(dataa)\n",
        "  w = np.array(w)\n",
        "  grad = []\n",
        "  for x,y in dataa:\n",
        "    print(x.dtype)\n",
        "    p = y-np.dot(w,x.T)\n",
        "    x= x*p\n",
        "    grad.append(sum(x)/len(x))\n",
        "\n",
        "  new_w = w - eta*(sum(grad)/len(dataa))\n",
        "  return new_w\n",
        "\n",
        "  #combined_err.append()\n",
        "  \n",
        "    #print(p)\n",
        "    "
      ],
      "execution_count": null,
      "outputs": []
    },
    {
      "cell_type": "code",
      "metadata": {
        "id": "C2UtOajD-NEF"
      },
      "source": [
        "w = np.random.randn(5)\n",
        "x_axis = range(1500)\n",
        "dataa = []\n",
        "data = [[1.5,2.2,3.6,9.7,2.3],\n",
        "        [2.2,3.2,2.1,1.3,2.4],\n",
        "        [1.3,1.6,1.5,3.1,1.4],\n",
        "        [2.2,3.6,1.1,.23,1.6],\n",
        "        [1.1,1.2,2.2,1.05,1.45]]\n",
        "for i in range(5):\n",
        "  y = np.random.randn()\n",
        "  x = np.array(data[i])\n",
        "  dataa.append((x,y))\n",
        "y_axis = []\n",
        "for epoch in range(1500):\n",
        "  err = mean_square(dataa,w)\n",
        "  y_axis.append(err)\n",
        "  w = gradient_descent(dataa,w,0.015)\n",
        "print(len(y_axis))\n",
        "sns.lineplot(x=x_axis,y=y_axis)\n",
        "\n"
      ],
      "execution_count": null,
      "outputs": []
    },
    {
      "cell_type": "code",
      "metadata": {
        "id": "zzj7LOk6M-D4"
      },
      "source": [
        "#stochastic gradient descent\n",
        "def stochastic_grad(dataa,w):\n",
        "  eta=0.012\n",
        "  dataa = np.array(dataa)\n",
        "  w = np.array(w)\n",
        "  err = 0.5*(y-np.dot(w,x.T))**2\n",
        "  #mean_sq_err.append(err)\n",
        "  grad_er = (y-np.dot(w,x.T))*x\n",
        "  w = w-(eta*grad_er)\n",
        "  return w,err\n",
        "mean_sqq_err = []\n",
        "counter=0\n",
        "x_axiss=[]\n",
        "for i in range(50):\n",
        "  for x,y in dataa:\n",
        "    x_axiss.append(counter+1)\n",
        "    w,err = stochastic_grad(dataa,w)\n",
        "    mean_sqq_err.append(err)\n",
        "print(len(mean_sqq_err),len(x_axiss))\n",
        "sns.lineplot(x = x_axiss,y = mean_sqq_err,dty)\n",
        "\n",
        "\n",
        "      \n"
      ],
      "execution_count": null,
      "outputs": []
    },
    {
      "cell_type": "code",
      "metadata": {
        "id": "oQaPPLIBUS2s"
      },
      "source": [
        "#minibatch gradient descent"
      ],
      "execution_count": null,
      "outputs": []
    },
    {
      "cell_type": "code",
      "metadata": {
        "id": "4jq0OKQR_MN_"
      },
      "source": [],
      "execution_count": null,
      "outputs": []
    },
    {
      "cell_type": "code",
      "metadata": {
        "id": "lXOlvKZ7nuIA"
      },
      "source": [
        "# Q.1 Function Approximation of Neural Network\n",
        "#example of univariate data set i.e. single variable\n",
        "from matplotlib import pyplot\n",
        "#define input data\n",
        "x = [i for i in range(-55,55)]\n",
        "#define output data\n",
        "y = [j**2.0 for j in x]\n",
        "#plot x versus y plot to see or identify funtion\n",
        "pyplot.scatter(x,y)\n",
        "pyplot.title('Input (x) vs Output (Y)')\n",
        "pyplot.xlabel('INPUT(X)')\n",
        "pyplot.ylabel('OUTPUT(Y)')\n",
        "pyplot.show()"
      ],
      "execution_count": null,
      "outputs": []
    },
    {
      "cell_type": "code",
      "metadata": {
        "id": "_p2ezV_Npd6W"
      },
      "source": [
        "#approximate the same function by using data only \n",
        "#i.e when the mapping function is unknown\n",
        "from sklearn.preprocessing import MinMaxScaler\n",
        "from sklearn.metrics import mean_squared_error\n",
        "from keras.models import Sequential\n",
        "from keras.layers import Dense\n",
        "from numpy import asarray\n",
        "from matplotlib import pyplot as plt\n",
        "#define the dataset\n",
        "x = asarray([i for i in range(-55,51)])\n",
        "y = asarray([j**2.0 for j in x])\n",
        "print(x.min(),x.max(),y.min(),y.max())\n",
        "# reshape the input and output arrays\n",
        "x = x.reshape(len(x),1)\n",
        "y = y.reshape(len(y),1)\n",
        "#seprately scale input and output variable \n",
        "scale_x = MinMaxScaler()\n",
        "x = scale_x.fit_transform(x)\n",
        "scale_y = MinMaxScaler()\n",
        "y = scale_y.fit_transform(y)\n",
        "print(x.min(),x.max(),y.min(),y.max())\n",
        "#DESIGN A NEURAL NETWORK\n",
        "model = Sequential()\n",
        "model.add(Dense(10,input_dim=1,activation='relu',kernel_initializer='he_uniform'))\n",
        "model.add(Dense(16,activation='relu',kernel_initializer='he_uniform'))\n",
        "model.add(Dense(1))\n",
        "#define loss value andoptimozation algorithm\n",
        "model.compile(loss = 'mse',optimizer = 'adam')\n",
        "#fit the model on the training set\n",
        "model.fit(x,y,epochs=500,batch_size=10,verbose=0)\n",
        "#make the prediction\n",
        "yhat = model.predict(x)\n",
        "#inverse transform\n",
        "x_plot = scale_x.inverse_transform(x)\n",
        "y_plot = scale_y.inverse_transform(y)\n",
        "yhat_plot = scale_y.inverse_transform(yhat)\n",
        "#error of the model\n",
        "print(\"Mean Square error is %.3f\"% mean_squared_error(y_plot,yhat_plot))\n",
        "#plot x and y actual\n",
        "plt.scatter(x_plot,y_plot,label = 'Actual')\n",
        "#plot xhat,yhat predicted\n",
        "plt.scatter(x_plot,yhat_plot,label='Predicted')\n",
        "plt.title('INPUT X VS OUTPUT Y')\n",
        "plt.xlabel('Input x')\n",
        "plt.ylabel('output Y')\n",
        "plt.legend()\n",
        "plt.show()\n",
        "# Your Results may vary due to stochastic nature of the algorithm\n",
        "\n"
      ],
      "execution_count": null,
      "outputs": []
    },
    {
      "cell_type": "markdown",
      "metadata": {
        "id": "dAGUFuhGaUtz"
      },
      "source": [
        "Kmeans Algorithm"
      ]
    },
    {
      "cell_type": "code",
      "metadata": {
        "id": "ENrvwnqEaX1s"
      },
      "source": [
        "import numpy as np\n",
        "from scipy import ndimage\n",
        "from time import time\n",
        "from sklearn import datasets,manifold\n",
        "from sklearn.cluster import KMeans,AgglomerativeClustering\n",
        "from sklearn.mixture import GaussianMixture\n",
        "from sklearn.model_selection import StratifiedKFold\n",
        "import matplotlib.pyplot as plt\n",
        "import matplotlib as mpl\n",
        "%matplotlib inline\n"
      ],
      "execution_count": null,
      "outputs": []
    },
    {
      "cell_type": "code",
      "metadata": {
        "id": "mu4u3AaTbb0R"
      },
      "source": [
        "iris  = datasets.load_iris()\n",
        "x,y = iris.data[:,:2],iris.target"
      ],
      "execution_count": null,
      "outputs": []
    },
    {
      "cell_type": "code",
      "metadata": {
        "id": "gwCsJ1SvcbOq"
      },
      "source": [
        "num_clusters = 3\n",
        "model = KMeans(n_clusters=num_clusters)\n",
        "model.fit(x)"
      ],
      "execution_count": null,
      "outputs": []
    },
    {
      "cell_type": "code",
      "metadata": {
        "id": "5yk6yyOVcsdD"
      },
      "source": [
        "# extract labels of the clusters\n",
        "labels = model.labels_\n",
        "c = len(set(iris.target))\n",
        "print(c)\n",
        "cluster_centers = model.cluster_centers_\n",
        "print(cluster_centers)"
      ],
      "execution_count": null,
      "outputs": []
    },
    {
      "cell_type": "code",
      "metadata": {
        "id": "hm8qIH0mdWqA"
      },
      "source": [
        "#plot the clusters\n",
        "plt.scatter(x[:,0],x[:,1],c = labels.astype(np.float))\n",
        "#plt.hold(True)\n",
        "plt.scatter(cluster_centers[:,0],cluster_centers[:,1],c=np.arange(num_clusters),marker='^',s=150)\n",
        "plt.show()\n",
        "plt.scatter(x[:,0],x[:,1],c=np.choose(y,[0,2,1]).astype(np.float))\n",
        "plt.show()\n"
      ],
      "execution_count": null,
      "outputs": []
    },
    {
      "cell_type": "code",
      "metadata": {
        "id": "vCUtiLW9aUBI"
      },
      "source": [
        "# visualizing a function\n",
        "def make_eclipse(gmm,ax):\n",
        "  for n, color in enumerate('rgb'):\n",
        "    v,w = np.linalg.eih(gmm._get_covars()[n][:2,:2])\n",
        "    u = w[0]/np.linalg.norm(w[0])\n",
        "    angle = np.arctan2(u[1],u[0])\n",
        "    angle = 180*angle/np.pi\n",
        "    v = v*9\n",
        "    ell = mpl.patches.Ellipse(gmm.means_[n,:2],v[0],v[1],180+angle,color=color)\n",
        "    ell.set_clip_box(ax.bbox)\n",
        "    ell.set_alpha(0.5)\n",
        "    ax.add_artist(ell)\n",
        "\n"
      ],
      "execution_count": null,
      "outputs": []
    },
    {
      "cell_type": "code",
      "metadata": {
        "id": "VCE_-AQkz4hq"
      },
      "source": [
        "iris = datasets.load_iris()\n",
        "skf = StratifiedKFold(n_splits=4)\n",
        "X = np.array(iris.data)\n",
        "y = np.array(iris.target)\n",
        "for train_index,test_index in  skf.split(X,y):\n",
        "  x_train, x_test = x[train_index], x[test_index]\n",
        "\n",
        "\n"
      ],
      "execution_count": null,
      "outputs": []
    },
    {
      "cell_type": "markdown",
      "metadata": {
        "id": "ipmPq046SAyJ"
      },
      "source": [
        "Perceptron Convergence theorem\n",
        "1. Take two dimension data set\n",
        "2. **x**  = [1,.23,.36]\n",
        "3. we need data set of 20 sample\n",
        "4. y \n",
        "5. dimension of the input will be 2 dimension\n"
      ]
    },
    {
      "cell_type": "code",
      "metadata": {
        "id": "PaF9Ut3cAd1V"
      },
      "source": [
        "# create the input data\n",
        "import numpy as np\n",
        "import random\n",
        "data = []\n",
        "y = []\n",
        "for i in range(20):\n",
        "  data.append([1,np.random.rand(),np.random.rand()])\n",
        "  y.append(np.random.randint(1,3))\n",
        "# weight vectors \n",
        "w =[np.random.randn(),np.random.randn(),np.random.randn()]\n",
        "\n",
        "\n"
      ],
      "execution_count": null,
      "outputs": []
    },
    {
      "cell_type": "code",
      "metadata": {
        "id": "FQdDFjs6HKwd"
      },
      "source": [
        "# update the weight vector\n",
        "for i in range(3):\n",
        "  w[i] = w[i]+eta*E*"
      ],
      "execution_count": null,
      "outputs": []
    },
    {
      "cell_type": "markdown",
      "metadata": {
        "id": "EQwQXHzFhdQx"
      },
      "source": [
        "Implementation of SVM on IRIS DATASET"
      ]
    },
    {
      "cell_type": "code",
      "metadata": {
        "id": "MgItpm85hiXo"
      },
      "source": [
        "import numpy as np\n",
        "from sklearn import datasets, svm\n",
        "from sklearn.model_selection import train_test_split\n",
        "import matplotlib.pyplot as plt\n",
        "% matplotlib inline"
      ],
      "execution_count": null,
      "outputs": []
    },
    {
      "cell_type": "code",
      "metadata": {
        "id": "wYRWfLSnh9Rd"
      },
      "source": [
        "#Support Vector Classificaation\n",
        "# load IRIS DATA SET\n",
        "iris = datasets.load_iris()\n",
        "X = iris.data[:,:2]\n",
        "y = iris.target\n",
        "\n",
        "x_train,x_test,y_train,y_test = train_test_split(X,y, test_size=0.3,random_state = 42)\n"
      ],
      "execution_count": null,
      "outputs": []
    },
    {
      "cell_type": "code",
      "metadata": {
        "id": "_yTSM3L7j1Lk"
      },
      "source": [
        "def evaluate_on_test_data(model=None):\n",
        "  predicted = model.predict(x_test)\n",
        "  right_classified = 0\n",
        "  for i in range(len(y_test)):\n",
        "    if predicted[i] == y_test[i]:\n",
        "      right_classified +=1\n",
        "  accuracy = 100*right_classified/len(y_test)\n",
        "  return accuracy\n"
      ],
      "execution_count": null,
      "outputs": []
    },
    {
      "cell_type": "code",
      "metadata": {
        "id": "hoVUFslplG4v"
      },
      "source": [
        "kernel = ('linear','poly','rbf')\n",
        "accuracies = []\n",
        "for index,kernel in enumerate(kernel):\n",
        "  model = svm.SVC(kernel = kernel)\n",
        "  model.fit(x_train,y_train)\n",
        "  acc =  evaluate_on_test_data(model)\n",
        "  accuracies.append(acc)\n",
        "  print(\"the accuracy is {0} for Kernel {1}\".format(acc,kernel))"
      ],
      "execution_count": null,
      "outputs": []
    },
    {
      "cell_type": "markdown",
      "metadata": {
        "id": "X5vEawaZrHJ9"
      },
      "source": [
        "Vsualize the decision boundaries"
      ]
    },
    {
      "cell_type": "code",
      "metadata": {
        "id": "f5ZShj-WlyXY"
      },
      "source": [
        "  # train SVM with differnt kernels\n",
        "  svc  = svm.SVC(kernel = 'linear').fit(x_train,y_train)\n",
        "  rbf_svc = svm.SVC(kernel = 'rbf',gamma=0.7).fit(x_train,y_train)\n",
        "  poly_svc = svm.SVC(kernel='poly',degree=3).fit(x_train,y_train)"
      ],
      "execution_count": null,
      "outputs": []
    },
    {
      "cell_type": "code",
      "metadata": {
        "id": "eLp4aisRsRiC"
      },
      "source": [
        "#create mesh plot in \n",
        "h= 0.3 # step size in mesh\n",
        "x_min,x_max = X[:,0].min()-1,X[:,0].max()+1\n",
        "y_min, y_max = X[:,1].min()-1,X[:,1].max()+1\n",
        "\n",
        "xx,yy = np.meshgrid(np.arange(x_min,x_max,h),np.arange(y_min,y_max,h))\n",
        "\n",
        "# define titles\n",
        "titles = ['SVC with linear kernel', 'SVC with RBF kernel','SVC with poly kernel degree 3']\n",
        "\n"
      ],
      "execution_count": null,
      "outputs": []
    },
    {
      "cell_type": "code",
      "metadata": {
        "id": "RRWHLwUtsRXz"
      },
      "source": [
        "for i,clf in enumerate((svc,rbf_svc,poly_svc)):\n",
        "  plt.figure(i)\n",
        "  z = clf.predict(np.c_[xx.ravel(),yy.ravel()])\n",
        "  z = z.reshape(xx.shape)\n",
        "  plt.contourf(xx,yy,z,cmap = plt.cm.Paired,alpha=0.8)\n",
        "\n",
        "  # plot the training points\n",
        "  plt.scatter(X[:,0],X[:,1],c=y,cmap=plt.cm.ocean)\n",
        "  plt.xlabel('Sepal length')\n",
        "  plt.ylabel('Sepal width')\n",
        "  plt.xlim(xx.min(),xx.max())\n",
        "  plt.ylim(yy.min(),yy.max())\n",
        "  plt.xticks()\n",
        "  plt.yticks()\n"
      ],
      "execution_count": null,
      "outputs": []
    },
    {
      "cell_type": "markdown",
      "metadata": {
        "id": "_xpSdtMwvzPI"
      },
      "source": [
        "Support Vector Regression"
      ]
    },
    {
      "cell_type": "code",
      "metadata": {
        "id": "jp260-eBy8g0"
      },
      "source": [
        "boston = datasets.load_boston()\n",
        "x_boston = boston.data\n",
        "y_boston = boston.target\n",
        "x_train,x_test,y_train,y_test = train_test_split(x_boston,y_boston, test_size=0.3,random_state = 42)"
      ],
      "execution_count": null,
      "outputs": []
    },
    {
      "cell_type": "code",
      "metadata": {
        "id": "4Q7dz9Mj1ChV"
      },
      "source": [
        "svr  = svm.SVR(kernel = 'linear').fit(x_train,y_train)\n",
        "rbf_svr = svm.SVR(kernel = 'rbf',gamma=0.7).fit(x_train,y_train)"
      ],
      "execution_count": null,
      "outputs": []
    },
    {
      "cell_type": "code",
      "metadata": {
        "id": "H7vA1rpYvsgw"
      },
      "source": [
        "def evaluate_on_test_data(model=None):\n",
        "  predictions = model.predict(x_test)\n",
        "  sse = 0\n",
        "  for i in range(len(y_test)):\n",
        "    err= ((predictions[i]-y_test[i])**2)\n",
        "    sse  +=err\n",
        "  mse = sse/len(y_test)\n",
        "  RMSE = np.sqrt(mse)\n",
        "  return RMSE\n",
        "\n"
      ],
      "execution_count": null,
      "outputs": []
    },
    {
      "cell_type": "code",
      "metadata": {
        "id": "3584Dy1Lygns"
      },
      "source": [
        "kernels = ('linear','rbf')\n",
        "RMSE_vec = []\n",
        "for index,kernel in enumerate(kernels):\n",
        "  model = svm.SVR(kernel=kernel)\n",
        "  model.fit(x_train,y_train)\n",
        "  RMSE = evaluate_on_test_data(model)\n",
        "  RMSE_vec.append(RMSE)\n",
        "  print('RMSE = {} obtained with kernel ={}'.format(RMSE,kernel))"
      ],
      "execution_count": null,
      "outputs": []
    },
    {
      "cell_type": "markdown",
      "metadata": {
        "id": "SrV-Yzo20XxG"
      },
      "source": [
        "How to find out support vectors from the data sets\n",
        "we use support_vectors_"
      ]
    },
    {
      "cell_type": "code",
      "metadata": {
        "id": "lrVARQ7V0lOt"
      },
      "source": [
        "rbf_svc.support_vectors_"
      ],
      "execution_count": null,
      "outputs": []
    },
    {
      "cell_type": "code",
      "metadata": {
        "id": "bMZfgZB10rX9"
      },
      "source": [
        "poly_svc.support_vectors_"
      ],
      "execution_count": null,
      "outputs": []
    },
    {
      "cell_type": "code",
      "metadata": {
        "id": "4WB6CeFA1MIH"
      },
      "source": [
        "svr.support_vectors_"
      ],
      "execution_count": null,
      "outputs": []
    },
    {
      "cell_type": "markdown",
      "metadata": {
        "id": "RxbBqV57lyKW"
      },
      "source": [
        "Gradient Descent Algorithm"
      ]
    },
    {
      "cell_type": "code",
      "metadata": {
        "id": "MYGXKgRUl11l"
      },
      "source": [
        "# step 1 calculate the cost function\n",
        "def cost_function(w,data,y): # w is weight, d is data sample, y is target value\n",
        "  e=[]# store the error of each sample \n",
        "  g=[] # store the gradient of each sample\n",
        "  for i in range(len(data)):\n",
        "    error = (y[i]-(np.dot(data[i],w.T)))**2\n",
        "    grad = (y[i]-(np.dot(data[i],w.T)))\n",
        "    g.append(grad)\n",
        "    e.append(error)\n",
        "\n",
        "  #print(\"error list is \",e)\n",
        "  #print(\"gradient list is\",g)\n",
        "  #sns.lineplot(x = range(20),y = e)\n",
        "  return sum(e)/(2*len(data)),g"
      ],
      "execution_count": null,
      "outputs": []
    },
    {
      "cell_type": "code",
      "metadata": {
        "id": "wNR2ej8WnGiY"
      },
      "source": [
        "def gradient_descent(data,y,eta,w,grad):\n",
        "\n",
        "  for j in range(len(data[0])):# 3\n",
        "    cost = 0\n",
        "    for i in range(len(data)):\n",
        "      cost = cost + grad[i]*data[i][j]\n",
        "    w[j] = w[j]+eta*(cost/len(data))\n",
        "  return w\n",
        "\n"
      ],
      "execution_count": null,
      "outputs": []
    },
    {
      "cell_type": "code",
      "metadata": {
        "id": "_ZH-gLFqptTK"
      },
      "source": [
        "# create the input data\n",
        "import numpy as np\n",
        "import random\n",
        "import seaborn as sns\n",
        "data = [] # sample data\n",
        "y = []\n",
        "eta=0.05\n",
        "for i in range(20):\n",
        "  data.append([1,np.random.rand(),np.random.rand()])\n",
        "  y.append(np.random.randint(1,3))\n",
        "# weight vectors \n",
        "w =[np.random.randn(),np.random.randn(),np.random.randn()]\n",
        "#print(w)\n",
        "#print(data)"
      ],
      "execution_count": null,
      "outputs": []
    },
    {
      "cell_type": "code",
      "metadata": {
        "id": "NSQ_Vpb2qJhH"
      },
      "source": [
        "E=[]# Mean squre error\n",
        "epochh = range(5)\n",
        "for epoch in range(5):\n",
        "  data = np.array(data) # convert into an array so that tansposition is being done\n",
        "  y = np.array(y)# target value\n",
        "  w = np.array(w)#weight vector\n",
        "  err,grad = cost_function(w,data,y) # err of whole sample after first epoch\n",
        "  w = gradient_descent(data,y,eta,w,grad)# grad is the gradient a list of gradients\n",
        "  E.append(err)# a list of mse for y axis\n",
        "  #print(w)\n",
        "sns.lineplot(x=epochh,y=E) "
      ],
      "execution_count": null,
      "outputs": []
    },
    {
      "cell_type": "markdown",
      "metadata": {
        "id": "xndVOxIRsdAj"
      },
      "source": [
        "Stochastic Gradeint Descent Algorithm"
      ]
    },
    {
      "cell_type": "code",
      "metadata": {
        "id": "37COgnQeE3e5"
      },
      "source": [
        "\n",
        "i = 0\n",
        "eta = 0.001\n",
        "Eav=[]\n",
        "x_data = range(20)\n",
        "for epoch in range(5):\n",
        "  E = []\n",
        "  for row in data:\n",
        "    y_pred = np.dot(np.array(row),np.array(w).T)\n",
        "    grad = (y[i]-y_pred)\n",
        "    error = 0.05*((y[i]-y_pred)**2)\n",
        "\n",
        "    E.append(error)\n",
        "    for i in range(3):\n",
        "      w[i] = w[i]+eta*grad*row[i]\n",
        "    #print(w)\n",
        "    #print(error)\n",
        "  #print(w)\n",
        "  sns.lineplot(x = range(20),y=E)\n",
        "  Mean_sq_error = sum(E)/20\n",
        "  Eav.append(Mean_sq_error)\n",
        "  #print(\"MSE\",Mean_sq_error)\n",
        "#sns.lineplot(x=x_data,y=Eav)\n"
      ],
      "execution_count": null,
      "outputs": []
    },
    {
      "cell_type": "markdown",
      "metadata": {
        "id": "70_7W4WbvkUc"
      },
      "source": [
        "Mini Batch Gradient Descent Algorithm"
      ]
    },
    {
      "cell_type": "code",
      "metadata": {
        "id": "iu4vtaFJskHV"
      },
      "source": [
        "no_of_batch  = 4\n",
        "lr_sto = 0.09\n",
        "size_of_each_batch = int(abs(len(data)/no_of_batch))\n",
        "batches = [0*size_of_each_batch,1*size_of_each_batch,2*size_of_each_batch,3*size_of_each_batch]\n",
        "y_sto = []\n",
        "x_sto  = range(150)\n",
        "for epoch in range(150):\n",
        "  Er=[]\n",
        "  for batch in batches:\n",
        "    data_part = data[batch:batch+size_of_each_batch]\n",
        "    y_part = y[batch:batch+size_of_each_batch]\n",
        "    err,grad = cost_function(np.array(w),np.array(data_part),np.array(y_part))\n",
        "    print(err)\n",
        "    Er.append(err)\n",
        "    w = gradient_descent(data_part,y_part,lr_sto,w,grad)\n",
        "  #print(w)\n",
        "  y_sto.append(sum(Er)/no_of_batch)\n",
        "sns.lineplot(x =x_sto, y=y_sto )\n"
      ],
      "execution_count": null,
      "outputs": []
    },
    {
      "cell_type": "code",
      "metadata": {
        "id": "BNd1S-Pg__Wc"
      },
      "source": [
        "downloaded2 = drive.CreateFile({'id':'1-7i6IJLtIM0baAeAZe7k2Xh3-Em1S4W4'}) # replace the id with id of file you want to access\n",
        "downloaded2.GetContentFile('air_purity.csv')"
      ],
      "execution_count": null,
      "outputs": []
    },
    {
      "cell_type": "code",
      "metadata": {
        "id": "IpWAHSDZbZOu"
      },
      "source": [
        "import pandas as pd\n",
        "import numpy as np\n",
        "import seaborn as sns\n",
        "import matplotlib.pyplot as plt\n",
        "%matplotlib inline"
      ],
      "execution_count": null,
      "outputs": []
    },
    {
      "cell_type": "code",
      "metadata": {
        "id": "5G8Gz3HzbQuJ"
      },
      "source": [
        "df_air = pd.read_csv(\"air_purity.csv\")\n",
        "df_air.head()"
      ],
      "execution_count": null,
      "outputs": []
    },
    {
      "cell_type": "code",
      "metadata": {
        "id": "lJ5yttf-cVOG"
      },
      "source": [
        "# calculate the error"
      ],
      "execution_count": null,
      "outputs": []
    },
    {
      "cell_type": "code",
      "metadata": {
        "id": "8-0-P27EcYL4"
      },
      "source": [
        "# initialize the weight vector and bias randomly\n",
        "\n",
        "# implement gradient descent algorithm\n",
        "def vanilaa_gda(b,s,x,y,lr=0.02):\n",
        "\n",
        "  err_total = []\n",
        "  for i in range(len(x)):# running for each data sample\n",
        "    y_pred = b+s*x[i]\n",
        "    err = y[i]-y_pred\n",
        "    err_total.append(err)\n",
        "  #print(err_total)\n",
        "  n = sum(np.array(err_total)**2)\n",
        "  d =  1/(2*len(x))\n",
        "  mse = n*d\n",
        "  n1 = sum(np.array(err_total))\n",
        "  d1 = 1/(len(x))\n",
        "  err_grad = n1*d1\n",
        "  print(err_grad)\n",
        "  b = b+lr*(err_grad)\n",
        "  s = s +lr*(err_grad)*x.mean()\n",
        "  print(\"bias\",b,s)\n",
        "  return (b,s,mse)\n",
        "\n"
      ],
      "execution_count": null,
      "outputs": []
    },
    {
      "cell_type": "code",
      "metadata": {
        "id": "JiZAH4TnhDPi"
      },
      "source": [
        "x = df_air['Hydrocarbon_level']\n",
        "y = df_air['Purity']\n",
        "plt.figure()\n",
        "sns.regplot(x,y,fit_reg=True)\n",
        "#plt.scatter(np.mean(x),np.mean(y), color = 'green')\n",
        "w = [np.random.randn(),np.random.randn()]\n",
        "lr = 0.02\n",
        "E = []\n",
        "bias = w[0]\n",
        "slope = w[1]\n",
        "for epoch in range(50):\n",
        "  #print(y)\n",
        "  bias,slope,mse =vanilaa_gda(bias,slope,x,y,lr=0.02)\n",
        "  E.append(mse)\n",
        "#print(E)\n",
        "sns.lineplot(x = range(50), y=E)"
      ],
      "execution_count": null,
      "outputs": []
    },
    {
      "cell_type": "code",
      "metadata": {
        "id": "QGgJvUfT_blC"
      },
      "source": [
        "downloaded4 = drive.CreateFile({'id':'1lPIzB8ePPI2URFJpPZ_JwGDBY8Zgat7d'}) # replace the id with id of file you want to access\n",
        "downloaded4.GetContentFile('ad_car_sold.csv')"
      ],
      "execution_count": null,
      "outputs": []
    },
    {
      "cell_type": "code",
      "metadata": {
        "id": "SwF1gJshCGWq"
      },
      "source": [
        "df_car = pd.read_csv('ad_car_sold.csv')"
      ],
      "execution_count": null,
      "outputs": []
    },
    {
      "cell_type": "code",
      "metadata": {
        "id": "1q180-QzZRJF"
      },
      "source": [
        "df_car.head()"
      ],
      "execution_count": null,
      "outputs": []
    },
    {
      "cell_type": "code",
      "metadata": {
        "id": "QKTgaiiUCQLX"
      },
      "source": [
        "import statsmodels.api as sm\n",
        "from sklearn.linear_model import LinearRegression\n",
        "from scipy import stats\n"
      ],
      "execution_count": null,
      "outputs": []
    },
    {
      "cell_type": "code",
      "metadata": {
        "id": "gg8NvEMrS8o8"
      },
      "source": [
        "sns.scatterplot(x = df_car['No. of TV Ads'],y=df_car['Car Sold'])"
      ],
      "execution_count": null,
      "outputs": []
    },
    {
      "cell_type": "code",
      "metadata": {
        "id": "STces5aFTVAg"
      },
      "source": [
        "x = df_car['No. of TV Ads']\n",
        "y = df_car['Car Sold']\n"
      ],
      "execution_count": null,
      "outputs": []
    },
    {
      "cell_type": "code",
      "metadata": {
        "id": "hmxD2duVTfjV"
      },
      "source": [
        "import statsmodels.api as sm\n",
        "x1 = sm.add_constant(x)# addition of bias\n",
        "model = sm.OLS(y,x1)\n",
        "result = model.fit()\n",
        "print(result.summary())"
      ],
      "execution_count": null,
      "outputs": []
    },
    {
      "cell_type": "markdown",
      "metadata": {
        "id": "RTWtwFgpLRIq"
      },
      "source": [
        "Multiple Linear Regression using Data"
      ]
    },
    {
      "cell_type": "code",
      "metadata": {
        "id": "3tOuqP9UV-mH"
      },
      "source": [
        "downloaded5 = drive.CreateFile({'id':'1t5mlfa6ATFYeKxgO-KY8gc50K7D0HJ60'}) # replace the id with id of file you want to access\n",
        "downloaded5.GetContentFile('travel_time.csv')"
      ],
      "execution_count": null,
      "outputs": []
    },
    {
      "cell_type": "code",
      "metadata": {
        "id": "wGjEzX_1Mg4m"
      },
      "source": [
        "df_travel = pd.read_csv('travel_time.csv')"
      ],
      "execution_count": null,
      "outputs": []
    },
    {
      "cell_type": "code",
      "metadata": {
        "id": "5Ob9hgvRMv1H"
      },
      "source": [
        "df_travel"
      ],
      "execution_count": null,
      "outputs": []
    },
    {
      "cell_type": "code",
      "metadata": {
        "id": "qUfZ_7u7My73"
      },
      "source": [
        "x1 = df_travel['x1']\n"
      ],
      "execution_count": null,
      "outputs": []
    },
    {
      "cell_type": "code",
      "metadata": {
        "id": "KILcjhGZM4au"
      },
      "source": [
        "x2 = df_travel['n_of_deliveries']"
      ],
      "execution_count": null,
      "outputs": []
    },
    {
      "cell_type": "code",
      "metadata": {
        "id": "O0H4tOgbM9Dl"
      },
      "source": [
        "y = df_travel['travel_time']"
      ],
      "execution_count": null,
      "outputs": []
    },
    {
      "cell_type": "code",
      "metadata": {
        "id": "AF3iW1bmNqMg"
      },
      "source": [
        "df_ind = df_travel[['x1','n_of_deliveries']]"
      ],
      "execution_count": null,
      "outputs": []
    },
    {
      "cell_type": "code",
      "metadata": {
        "id": "vUprrQlYVEHx"
      },
      "source": [
        "df_ind"
      ],
      "execution_count": null,
      "outputs": []
    },
    {
      "cell_type": "code",
      "metadata": {
        "id": "J6VB_hVdODSI"
      },
      "source": [
        "df_ind.corr()"
      ],
      "execution_count": null,
      "outputs": []
    },
    {
      "cell_type": "code",
      "metadata": {
        "id": "xsIO-3ITPa6m"
      },
      "source": [
        "# scatter diagram of independent variable vs dependent variables\n",
        "sns.scatterplot(x1,y)"
      ],
      "execution_count": null,
      "outputs": []
    },
    {
      "cell_type": "code",
      "metadata": {
        "id": "wKH8qmaqP3dS"
      },
      "source": [
        "sns.scatterplot(x2,y)"
      ],
      "execution_count": null,
      "outputs": []
    },
    {
      "cell_type": "markdown",
      "metadata": {
        "id": "t0KwaSq1OSHQ"
      },
      "source": [
        "We have estimated correlation but it does not give the consolidated information about multicollinarity among independent values Correlation gives collinarity info about bivariate values but Variance Inflation Factor gives multicollinearity of one varable with other variables 0 to 5 means variable is not multi collinear 5 to 15 considerable we can scale it or do some standarization to tune it above 15 we have to think for dropping it"
      ]
    },
    {
      "cell_type": "code",
      "metadata": {
        "id": "hazaO3FzNCU4"
      },
      "source": [
        "# varaitional inflation factor among independent variables\n",
        "from statsmodels.stats.outliers_influence import variance_inflation_factor\n",
        "vif_data = pd.DataFrame()\n",
        "x = df_ind\n",
        "vif_data[\"feature\"] = x.columns\n",
        "vif_data['VIF'] = [variance_inflation_factor(x.values,i) for i in range(len(x.columns))]\n",
        "vif_data"
      ],
      "execution_count": null,
      "outputs": []
    },
    {
      "cell_type": "code",
      "metadata": {
        "id": "5h97oCIWOOCh"
      },
      "source": [
        "# simple linear model for each independent varaible w.r.t dependent variable\n",
        "import statsmodels.api as sm\n",
        "x11 = sm.add_constant(x1)# addition of bias\n",
        "model1 = sm.OLS(y,x11)\n",
        "result1 = model1.fit()\n",
        "print(result1.summary())\n"
      ],
      "execution_count": null,
      "outputs": []
    },
    {
      "cell_type": "code",
      "metadata": {
        "id": "JeYzY88MOzLD"
      },
      "source": [
        "# ols model with second variable\n",
        "import statsmodels.api as sm\n",
        "x12 = sm.add_constant(x2)# addition of bias\n",
        "model2 = sm.OLS(y,x12)\n",
        "result2 = model2.fit()\n",
        "print(result2.summary())\n"
      ],
      "execution_count": null,
      "outputs": []
    },
    {
      "cell_type": "code",
      "metadata": {
        "id": "bYnn4r9ZO_yy"
      },
      "source": [
        "# building MLR model with two variables\n",
        "from statsmodels.formula.api import ols\n",
        "from statsmodels.stats.anova import anova_lm\n",
        "model = ols('travel_time ~ x1+n_of_deliveries',data=df_travel).fit()\n",
        "model.summary()"
      ],
      "execution_count": null,
      "outputs": []
    },
    {
      "cell_type": "code",
      "metadata": {
        "id": "W498UiikSStR"
      },
      "source": [
        "Reg1 = ols(formula=\"travel_time ~ x1\",data = df_travel)\n",
        "fit1 = Reg1.fit()\n",
        "print(anova_lm(fit1))"
      ],
      "execution_count": null,
      "outputs": []
    },
    {
      "cell_type": "code",
      "metadata": {
        "id": "MtDT6C8AS3Qp"
      },
      "source": [
        "Reg2 = ols(formula=\"travel_time ~ n_of_deliveries\",data = df_travel)\n",
        "fit2 = Reg2.fit()\n",
        "print(anova_lm(fit2))"
      ],
      "execution_count": null,
      "outputs": []
    },
    {
      "cell_type": "code",
      "metadata": {
        "id": "I1HdLF11RA_W"
      },
      "source": [
        "print(anova_lm(model))"
      ],
      "execution_count": null,
      "outputs": []
    },
    {
      "cell_type": "markdown",
      "metadata": {
        "id": "PjT-uVdM75Ut"
      },
      "source": [
        "Logistic Regression"
      ]
    },
    {
      "cell_type": "code",
      "metadata": {
        "id": "GnmEBMCR785V"
      },
      "source": [
        "import numpy as np\n",
        "from scipy.optimize import minimize\n",
        "import scipy.stats as stats"
      ],
      "execution_count": null,
      "outputs": []
    },
    {
      "cell_type": "code",
      "metadata": {
        "id": "Sm03GduS8KSl"
      },
      "source": [
        "import pandas as pd"
      ],
      "execution_count": null,
      "outputs": []
    },
    {
      "cell_type": "code",
      "metadata": {
        "id": "kZC3mxAZ8OfG"
      },
      "source": [
        "downloaded6 = drive.CreateFile({'id':'1-o7wzMw24ggJKXI9tQHvaMrnjWiAVY8r'}) # replace the id with id of file you want to access\n",
        "downloaded6.GetContentFile('simmons.csv')"
      ],
      "execution_count": null,
      "outputs": []
    },
    {
      "cell_type": "code",
      "metadata": {
        "id": "u9ataQ9J9tgz"
      },
      "source": [
        "df_simmons = pd.read_csv(\"simmons.csv\")"
      ],
      "execution_count": null,
      "outputs": []
    },
    {
      "cell_type": "code",
      "metadata": {
        "id": "ghLjqhFbmDh7"
      },
      "source": [
        "df_simmons"
      ],
      "execution_count": null,
      "outputs": []
    },
    {
      "cell_type": "code",
      "metadata": {
        "id": "ET5a8MuO91Cg"
      },
      "source": [
        "x = df_simmons[['Card','Spending']]\n",
        "y = df_simmons['Coupon']"
      ],
      "execution_count": null,
      "outputs": []
    },
    {
      "cell_type": "code",
      "metadata": {
        "id": "pCe3J7TNu1p1"
      },
      "source": [
        "import statsmodels.api as sm\n",
        "x1 = sm.add_constant(x)\n",
        "logit_model  =sm.Logit(y,x1)\n",
        "result = logit_model.fit()\n",
        "print(result.summary())"
      ],
      "execution_count": null,
      "outputs": []
    },
    {
      "cell_type": "code",
      "metadata": {
        "id": "ClUu8BQyvqp8"
      },
      "source": [
        "# calculate G static for checking significance of over all model\n"
      ],
      "execution_count": null,
      "outputs": []
    },
    {
      "cell_type": "markdown",
      "metadata": {
        "id": "DUwgBUSWwvDA"
      },
      "source": [
        "![Gstatic.png](data:image/png;base64,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)"
      ]
    },
    {
      "cell_type": "code",
      "metadata": {
        "id": "361a8rl1w0X9"
      },
      "source": [
        "# the G value is 13.628, its degree of freedom is 2, and p value is 0.001\n",
        "# thus any level of significance alpha>0.001, we would reject the null hypothesis \n",
        "# and conclude that the overall model is significant "
      ],
      "execution_count": null,
      "outputs": []
    },
    {
      "cell_type": "code",
      "metadata": {
        "id": "G613_YTbnoDn"
      },
      "source": [
        "from sklearn.linear_model import LogisticRegression\n",
        "from sklearn.model_selection import train_test_split\n",
        "import numpy as np\n",
        "import pandas as pd\n",
        "import seaborn as sns\n",
        "%matplotlib inline"
      ],
      "execution_count": null,
      "outputs": []
    },
    {
      "cell_type": "code",
      "metadata": {
        "id": "UTlg7EQunwnd"
      },
      "source": [
        "train_x,test_x,train_y,test_y = train_test_split(x,y,test_size=0.2)\n",
        "model_logitt = LogisticRegression()\n",
        "model_logitt.fit(train_x,train_y)"
      ],
      "execution_count": null,
      "outputs": []
    },
    {
      "cell_type": "code",
      "metadata": {
        "id": "bykVH3wnoT2o"
      },
      "source": [
        "predict_simmons =  model_logitt.predict(test_x)"
      ],
      "execution_count": null,
      "outputs": []
    },
    {
      "cell_type": "code",
      "metadata": {
        "id": "TPWWK_rloeja"
      },
      "source": [
        "from sklearn.metrics import classification_report"
      ],
      "execution_count": null,
      "outputs": []
    },
    {
      "cell_type": "code",
      "metadata": {
        "id": "yYXXK2rUotRu"
      },
      "source": [
        "print(classification_report(test_y,predict_simmons))"
      ],
      "execution_count": null,
      "outputs": []
    },
    {
      "cell_type": "code",
      "metadata": {
        "id": "I5v44ZW6pI16"
      },
      "source": [
        "print('mis classified samples %d' % (test_y != predict_simmons).sum())\n",
        "print(len(test_y))"
      ],
      "execution_count": null,
      "outputs": []
    },
    {
      "cell_type": "markdown",
      "metadata": {
        "id": "dkeCDH-wxWHC"
      },
      "source": [
        "Loan Prediction Model\n",
        "# wether to grant loan or not ML point of view"
      ]
    },
    {
      "cell_type": "code",
      "metadata": {
        "id": "PD5xYAz2xcIB"
      },
      "source": [
        "from sklearn.linear_model import LogisticRegression\n",
        "from sklearn.model_selection import train_test_split\n",
        "import numpy as np\n",
        "import pandas as pd\n",
        "import seaborn as sns\n",
        "%matplotlib inline\n"
      ],
      "execution_count": null,
      "outputs": []
    },
    {
      "cell_type": "code",
      "metadata": {
        "id": "Lw0klHDJx05y"
      },
      "source": [
        "downloaded7 = drive.CreateFile({'id':'17QP62Gejb5GjyhM76Zbha78Wi1us4yFN'}) # replace the id with id of file you want to access\n",
        "downloaded7.GetContentFile('loan.csv')"
      ],
      "execution_count": null,
      "outputs": []
    },
    {
      "cell_type": "code",
      "metadata": {
        "id": "EnCYj0iT62-M"
      },
      "source": [
        "import numpy as np\n",
        "import pandas as pd\n",
        "import seaborn as sns\n",
        "%matplotlib inline"
      ],
      "execution_count": null,
      "outputs": []
    },
    {
      "cell_type": "code",
      "metadata": {
        "id": "obNxfuXeCzDN"
      },
      "source": [
        "df_loan = pd.read_csv('loan.csv')"
      ],
      "execution_count": null,
      "outputs": []
    },
    {
      "cell_type": "code",
      "metadata": {
        "id": "AP0WMLNeC5Tm"
      },
      "source": [
        "df_loan"
      ],
      "execution_count": null,
      "outputs": []
    },
    {
      "cell_type": "code",
      "metadata": {
        "id": "NEY_iTPkICGp"
      },
      "source": [
        "#Expolatory data Analysis of loan data\n",
        "df_loan.head()"
      ],
      "execution_count": null,
      "outputs": []
    },
    {
      "cell_type": "code",
      "metadata": {
        "id": "aLFm52CGINWK"
      },
      "source": [
        "df_loan.info()\n",
        "# since data do not contain any null value so we dont have to look for missing values"
      ],
      "execution_count": null,
      "outputs": []
    },
    {
      "cell_type": "code",
      "metadata": {
        "id": "lHpOIl1Isdbt"
      },
      "source": [
        "df_loan.shape"
      ],
      "execution_count": null,
      "outputs": []
    },
    {
      "cell_type": "code",
      "metadata": {
        "id": "04IVk6tGIyoa"
      },
      "source": [
        "sns.countplot(x='Gender',data=df_loan,hue='Loan_Status')"
      ],
      "execution_count": null,
      "outputs": []
    },
    {
      "cell_type": "code",
      "metadata": {
        "id": "MXGQF4xRJESR"
      },
      "source": [
        "sns.countplot(x='Married',data=df_loan,hue='Loan_Status')"
      ],
      "execution_count": null,
      "outputs": []
    },
    {
      "cell_type": "code",
      "metadata": {
        "id": "vnXPMZUJJLIz"
      },
      "source": [
        "sns.countplot(x='Loan_Amount_Term',data = df_loan)"
      ],
      "execution_count": null,
      "outputs": []
    },
    {
      "cell_type": "code",
      "metadata": {
        "id": "_Hx2g-ZNJbV9"
      },
      "source": [
        "sns.countplot(x='Self_Employed',data = df_loan,hue='Loan_Status')"
      ],
      "execution_count": null,
      "outputs": []
    },
    {
      "cell_type": "code",
      "metadata": {
        "id": "oaKLW4azJgId"
      },
      "source": [
        "sns.countplot(x='Credit_History',data=df_loan)"
      ],
      "execution_count": null,
      "outputs": []
    },
    {
      "cell_type": "code",
      "metadata": {
        "id": "BB4DNhjXJmA0"
      },
      "source": [
        "sns.countplot(x='Dependents',data=df_loan)"
      ],
      "execution_count": null,
      "outputs": []
    },
    {
      "cell_type": "code",
      "metadata": {
        "id": "qcMOw0A7Jts1"
      },
      "source": [
        "y= df_loan['Loan_Status'].map({'Y':1,'N':0})"
      ],
      "execution_count": null,
      "outputs": []
    },
    {
      "cell_type": "code",
      "metadata": {
        "id": "IjDBynVmNSXd"
      },
      "source": [
        "cont_loan = []\n",
        "categorical_loan = []"
      ],
      "execution_count": null,
      "outputs": []
    },
    {
      "cell_type": "code",
      "metadata": {
        "id": "yq_iTFfSNxnT"
      },
      "source": [
        "cols_non_null = list(df_loan.columns)\n",
        "for col in cols_non_null:\n",
        "  if df_loan[col].dtype == 'object':\n",
        "    categorical_loan.append(col)\n",
        "  else:\n",
        "    cont_loan.append(col)\n"
      ],
      "execution_count": null,
      "outputs": []
    },
    {
      "cell_type": "code",
      "metadata": {
        "id": "ai30DKDoQx_0"
      },
      "source": [
        "categorical_loan\n",
        "print(categorical_loan)"
      ],
      "execution_count": null,
      "outputs": []
    },
    {
      "cell_type": "code",
      "metadata": {
        "id": "dJZhGI5IOTfS"
      },
      "source": [
        "df_loan_cat = df_loan[categorical_loan]"
      ],
      "execution_count": null,
      "outputs": []
    },
    {
      "cell_type": "code",
      "metadata": {
        "id": "xcBgxzEfVbno"
      },
      "source": [
        "print(df_loan_cat)"
      ],
      "execution_count": null,
      "outputs": []
    },
    {
      "cell_type": "code",
      "metadata": {
        "id": "LxB1Cb3GVCM5"
      },
      "source": [
        "df_loan_cat1 = df_loan_cat.copy()"
      ],
      "execution_count": null,
      "outputs": []
    },
    {
      "cell_type": "code",
      "metadata": {
        "id": "1H6DHHK7VhnB"
      },
      "source": [
        "df_loan_cat['Gender']"
      ],
      "execution_count": null,
      "outputs": []
    },
    {
      "cell_type": "code",
      "metadata": {
        "id": "udn5_yDrW0N7"
      },
      "source": [
        "#data visulaization t predict the asscocation between categorical variable"
      ],
      "execution_count": null,
      "outputs": []
    },
    {
      "cell_type": "code",
      "metadata": {
        "id": "sJhPGNGJW8JJ"
      },
      "source": [
        "gender = df_loan_cat['Gender'].map({'Male':1,'Female':0})\n",
        "gender"
      ],
      "execution_count": null,
      "outputs": []
    },
    {
      "cell_type": "code",
      "metadata": {
        "id": "C_1MiEQkbASV"
      },
      "source": [
        "y"
      ],
      "execution_count": null,
      "outputs": []
    },
    {
      "cell_type": "code",
      "metadata": {
        "id": "oNjqPf0YZ_Fl"
      },
      "source": [
        "df_chi = pd.DataFrame(list(zip(gender,y)),columns=['Gender','Loan_status'])"
      ],
      "execution_count": null,
      "outputs": []
    },
    {
      "cell_type": "code",
      "metadata": {
        "id": "yvsAoTFpaS2L"
      },
      "source": [
        "pivott = pd.pivot_table(df_chi[['Gender','Loan_status']],index = 'Loan_status',columns='Gender',aggfunc=len)\n",
        "pivott"
      ],
      "execution_count": null,
      "outputs": []
    },
    {
      "cell_type": "code",
      "metadata": {
        "id": "pNjHofs2bbhN"
      },
      "source": [
        "from scipy.stats import chi2_contingency\n",
        "chi2, p, dof, tbl = chi2_contingency(pivott)"
      ],
      "execution_count": null,
      "outputs": []
    },
    {
      "cell_type": "code",
      "metadata": {
        "id": "WjmCOSc1bvnk"
      },
      "source": [
        "chi2"
      ],
      "execution_count": null,
      "outputs": []
    },
    {
      "cell_type": "code",
      "metadata": {
        "id": "BnOxTSn9byCE"
      },
      "source": [
        "p"
      ],
      "execution_count": null,
      "outputs": []
    },
    {
      "cell_type": "code",
      "metadata": {
        "id": "E8-pZ1QZcEdb"
      },
      "source": [
        "# so gender has to be dropped similary other para meters which are not essentila\n",
        "# needed to be dropped [ \"gender\",'Property_area,'loan_status,'Married]\n",
        "# see in continuos variables\n",
        "df_loan_cont = df_loan[cont_loan]"
      ],
      "execution_count": null,
      "outputs": []
    },
    {
      "cell_type": "code",
      "metadata": {
        "id": "-_Wz5Yo3efM7"
      },
      "source": [
        "df_loan_cont "
      ],
      "execution_count": null,
      "outputs": []
    },
    {
      "cell_type": "code",
      "metadata": {
        "id": "cnGylUsJc922"
      },
      "source": [
        "df_loan_cont.corr()"
      ],
      "execution_count": null,
      "outputs": []
    },
    {
      "cell_type": "code",
      "metadata": {
        "id": "7q0VVlD8dZV7"
      },
      "source": [
        "df_loan_cont = df_loan_cont.dropna(axis=0)"
      ],
      "execution_count": null,
      "outputs": []
    },
    {
      "cell_type": "code",
      "metadata": {
        "id": "eurfbhy6eThK"
      },
      "source": [
        "df_loan_cont = df_loan_cont.fillna(df_loan_cont.mean())"
      ],
      "execution_count": null,
      "outputs": []
    },
    {
      "cell_type": "code",
      "metadata": {
        "id": "y6ZP5eINfQAz"
      },
      "source": [
        "df_loan_cont"
      ],
      "execution_count": null,
      "outputs": []
    },
    {
      "cell_type": "code",
      "metadata": {
        "id": "7QXN9JNddPSv"
      },
      "source": [
        "from statsmodels.stats.outliers_influence import variance_inflation_factor\n",
        "vif_data = pd.DataFrame()\n",
        "x = df_loan_cont\n",
        "vif_data[\"feature\"] = x.columns\n",
        "vif_data['VIF'] = [variance_inflation_factor(x.values,i) for i in range(len(x.columns))]\n",
        "vif_data"
      ],
      "execution_count": null,
      "outputs": []
    },
    {
      "cell_type": "code",
      "metadata": {
        "id": "acFNqCO6iBnA"
      },
      "source": [
        " df_loan  = df_loan.dropna(axis=0)"
      ],
      "execution_count": null,
      "outputs": []
    },
    {
      "cell_type": "code",
      "metadata": {
        "id": "uTSeX_iggA0G"
      },
      "source": [
        "x= df_loan.drop(['Loan_ID','Property_Area','Loan_Status','Married','Gender'],axis=1)"
      ],
      "execution_count": null,
      "outputs": []
    },
    {
      "cell_type": "code",
      "metadata": {
        "id": "L6u6HqeMiZqc"
      },
      "source": [
        "y_modify = df_loan['Loan_Status']"
      ],
      "execution_count": null,
      "outputs": []
    },
    {
      "cell_type": "code",
      "metadata": {
        "id": "SWwvhSt5g9QP"
      },
      "source": [
        "x = x.dropna(axis=0)"
      ],
      "execution_count": null,
      "outputs": []
    },
    {
      "cell_type": "code",
      "metadata": {
        "id": "9s99KPB5hUqN"
      },
      "source": [
        "x_dummies = pd.get_dummies(x,drop_first=True)"
      ],
      "execution_count": null,
      "outputs": []
    },
    {
      "cell_type": "code",
      "metadata": {
        "id": "8ZlBelqOioeR"
      },
      "source": [
        "len(x_dummies)"
      ],
      "execution_count": null,
      "outputs": []
    },
    {
      "cell_type": "code",
      "metadata": {
        "id": "CxqM8aaXirFJ"
      },
      "source": [
        "len(y)"
      ],
      "execution_count": null,
      "outputs": []
    },
    {
      "cell_type": "code",
      "metadata": {
        "id": "iI14300mhh6B"
      },
      "source": [
        "train_x,test_x,train_y,test_y = train_test_split(x_dummies,y_modify,test_size=.20)"
      ],
      "execution_count": null,
      "outputs": []
    },
    {
      "cell_type": "code",
      "metadata": {
        "id": "VD-f__p8iytH"
      },
      "source": [
        "from sklearn.linear_model import LogisticRegression"
      ],
      "execution_count": null,
      "outputs": []
    },
    {
      "cell_type": "code",
      "metadata": {
        "id": "tkUvBLNJi2Go"
      },
      "source": [
        "logit_mod = LogisticRegression()"
      ],
      "execution_count": null,
      "outputs": []
    },
    {
      "cell_type": "code",
      "metadata": {
        "id": "Wb8yGdgOi-kk"
      },
      "source": [
        "logit_mod.fit(train_x,train_y)"
      ],
      "execution_count": null,
      "outputs": []
    },
    {
      "cell_type": "code",
      "metadata": {
        "id": "kBcbwGFSjO7T"
      },
      "source": [
        "predicton = logit_mod.predict(test_x)"
      ],
      "execution_count": null,
      "outputs": []
    },
    {
      "cell_type": "code",
      "metadata": {
        "id": "iUuLfXySjZRa"
      },
      "source": [
        "from sklearn.metrics import classification_report"
      ],
      "execution_count": null,
      "outputs": []
    },
    {
      "cell_type": "code",
      "metadata": {
        "id": "7JI_JONEjcbC"
      },
      "source": [
        "print(classification_report(test_y,predicton))"
      ],
      "execution_count": null,
      "outputs": []
    },
    {
      "cell_type": "code",
      "metadata": {
        "id": "3lFPwp3tjmej"
      },
      "source": [
        "print('mis classified samples %d' % (test_y != predicton).sum())\n",
        "print(len(test_y))"
      ],
      "execution_count": null,
      "outputs": []
    },
    {
      "cell_type": "markdown",
      "metadata": {
        "id": "sPoS8KwBdLzT"
      },
      "source": [
        "# Naive Bayesian Classifier"
      ]
    },
    {
      "cell_type": "code",
      "metadata": {
        "id": "916q8JvAc4_F"
      },
      "source": [
        "downloaded8 = drive.CreateFile({'id':'1gbht9Qra3T7w_fq_8bKgPTyninz_AXjK'}) # replace the id with id of file you want to access\n",
        "downloaded8.GetContentFile('Social_Network.csv')"
      ],
      "execution_count": null,
      "outputs": []
    },
    {
      "cell_type": "code",
      "metadata": {
        "id": "zAD32OfuesAA"
      },
      "source": [
        "import numpy as np\n",
        "import matplotlib.pyplot as plt\n",
        "import pandas as pd\n",
        "from sklearn.model_selection import train_test_split\n"
      ],
      "execution_count": null,
      "outputs": []
    },
    {
      "cell_type": "code",
      "metadata": {
        "id": "SmxoZ9X8er5w"
      },
      "source": [
        "df_social = pd.read_csv('Social_Network.csv')"
      ],
      "execution_count": null,
      "outputs": []
    },
    {
      "cell_type": "code",
      "metadata": {
        "id": "bDNmXI17xyXu"
      },
      "source": [
        "df_social.head()"
      ],
      "execution_count": null,
      "outputs": []
    },
    {
      "cell_type": "code",
      "metadata": {
        "id": "HQjqNE-TyUel"
      },
      "source": [
        "df_social.info()"
      ],
      "execution_count": null,
      "outputs": []
    },
    {
      "cell_type": "code",
      "metadata": {
        "id": "QlOcaHZ9g3Ht"
      },
      "source": [
        "df_social.loc[:,'EstimatedSalary']"
      ],
      "execution_count": null,
      "outputs": []
    },
    {
      "cell_type": "code",
      "metadata": {
        "id": "7SOhCStVer2M"
      },
      "source": [
        "x = df_social.loc[:,['Age','EstimatedSalary']].values\n",
        "y = df_social.loc[:,'Purchased'].values\n"
      ],
      "execution_count": null,
      "outputs": []
    },
    {
      "cell_type": "code",
      "metadata": {
        "id": "I4P9pjjUer0W"
      },
      "source": [
        "train_x,test_x,train_y,test_y = train_test_split(x,y,test_size=0.3)"
      ],
      "execution_count": null,
      "outputs": []
    },
    {
      "cell_type": "code",
      "metadata": {
        "id": "q4Vi-Hxperp2"
      },
      "source": [
        "from sklearn.preprocessing import StandardScaler\n",
        "sc  =StandardScaler()\n",
        "train_x = sc.fit_transform(train_x)\n",
        "test_x = sc.fit_transform(test_x)\n"
      ],
      "execution_count": null,
      "outputs": []
    },
    {
      "cell_type": "code",
      "metadata": {
        "id": "ITAq3AUPk1JM"
      },
      "source": [
        "from sklearn.naive_bayes import GaussianNB"
      ],
      "execution_count": null,
      "outputs": []
    },
    {
      "cell_type": "code",
      "metadata": {
        "id": "g_VzcN40k1GH"
      },
      "source": [
        "nb = GaussianNB()"
      ],
      "execution_count": null,
      "outputs": []
    },
    {
      "cell_type": "code",
      "metadata": {
        "id": "OqaZf-Bfk07G"
      },
      "source": [
        "nb.fit(train_x,train_y)"
      ],
      "execution_count": null,
      "outputs": []
    },
    {
      "cell_type": "code",
      "metadata": {
        "id": "x0k9rhOZlPOW"
      },
      "source": [
        "y_pred =  nb.predict(test_x)"
      ],
      "execution_count": null,
      "outputs": []
    },
    {
      "cell_type": "code",
      "metadata": {
        "id": "2X9MYXwvlXMS"
      },
      "source": [
        "from sklearn.metrics import confusion_matrix\n",
        "cm = confusion_matrix(test_y,y_pred)\n",
        "cm"
      ],
      "execution_count": null,
      "outputs": []
    },
    {
      "cell_type": "code",
      "metadata": {
        "id": "lfxhSmCtloI7"
      },
      "source": [
        "print('mis classified samples %d' % (test_y != y_pred).sum())\n",
        "print(len(test_y))"
      ],
      "execution_count": null,
      "outputs": []
    },
    {
      "cell_type": "code",
      "metadata": {
        "id": "AXs19t4vlv_Z"
      },
      "source": [
        "from sklearn.metrics import accuracy_score\n",
        "ac = accuracy_score(test_y,y_pred)\n",
        "ac"
      ],
      "execution_count": null,
      "outputs": []
    },
    {
      "cell_type": "markdown",
      "metadata": {
        "id": "aHDSCni_mEPR"
      },
      "source": [
        "#sms spam classifier from scratch"
      ]
    },
    {
      "cell_type": "code",
      "metadata": {
        "id": "QbVtd-yYmD7u"
      },
      "source": [
        "downloaded9 = drive.CreateFile({'id':'1HrhHR9lfPddhTKmt4OT5Xynnbcys9V7d'}) # replace the id with id of file you want to access\n",
        "downloaded9.GetContentFile('Sms_spam.csv')"
      ],
      "execution_count": null,
      "outputs": []
    },
    {
      "cell_type": "code",
      "metadata": {
        "id": "HhNgz8XeqI2p"
      },
      "source": [
        "import numpy as np\n",
        "import matplotlib.pyplot as plt\n",
        "import pandas as pd\n",
        "from sklearn.model_selection import train_test_split"
      ],
      "execution_count": null,
      "outputs": []
    },
    {
      "cell_type": "code",
      "metadata": {
        "id": "odwFPPJ3pu19"
      },
      "source": [
        "df_sms_spam =pd.read_csv('Sms_spam.csv',encoding='latin-1')"
      ],
      "execution_count": null,
      "outputs": []
    },
    {
      "cell_type": "code",
      "metadata": {
        "id": "8C4Z0xBStoS0"
      },
      "source": [
        "df_sms_spam.info()"
      ],
      "execution_count": null,
      "outputs": []
    },
    {
      "cell_type": "code",
      "metadata": {
        "id": "zR-IZSqKq5T9"
      },
      "source": [
        "df_sms_spam = df_sms_spam.drop(df_sms_spam.iloc[:,2:],axis=1)"
      ],
      "execution_count": null,
      "outputs": []
    },
    {
      "cell_type": "code",
      "metadata": {
        "id": "EYCm9j90t9qF"
      },
      "source": [
        "df_sms_spam.shape"
      ],
      "execution_count": null,
      "outputs": []
    },
    {
      "cell_type": "code",
      "metadata": {
        "id": "UgVBQw0YuEBs"
      },
      "source": [
        "df_sms_spam.head()"
      ],
      "execution_count": null,
      "outputs": []
    },
    {
      "cell_type": "code",
      "metadata": {
        "id": "DMIPJTQiubxG"
      },
      "source": [
        "y = df_sms_spam['v1'].values\n",
        "x = df_sms_spam['v2'].values"
      ],
      "execution_count": null,
      "outputs": []
    },
    {
      "cell_type": "code",
      "metadata": {
        "id": "Fm_PQ6HlumoC"
      },
      "source": [
        "df_sms = pd.DataFrame()"
      ],
      "execution_count": null,
      "outputs": []
    },
    {
      "cell_type": "code",
      "metadata": {
        "id": "0b_bpvh2urnG"
      },
      "source": [
        "df_sms['SMS'] = x\n",
        "df_sms['Label'] = y"
      ],
      "execution_count": null,
      "outputs": []
    },
    {
      "cell_type": "code",
      "metadata": {
        "id": "-GWDCjequ59c"
      },
      "source": [
        "df_sms"
      ],
      "execution_count": null,
      "outputs": []
    },
    {
      "cell_type": "code",
      "metadata": {
        "id": "D_9lLO7Iu8vY"
      },
      "source": [
        "df_sms['Label'].value_counts(normalize=True)"
      ],
      "execution_count": null,
      "outputs": []
    },
    {
      "cell_type": "code",
      "metadata": {
        "id": "FlIkBx82vTQo"
      },
      "source": [
        "df_randomized_sms = df_sms.sample(frac=1,random_state=1)"
      ],
      "execution_count": null,
      "outputs": []
    },
    {
      "cell_type": "code",
      "metadata": {
        "id": "k3bidQSEv8es"
      },
      "source": [
        "training_test_idx = round(len(df_randomized_sms)*0.8)"
      ],
      "execution_count": null,
      "outputs": []
    },
    {
      "cell_type": "code",
      "metadata": {
        "id": "dShUS10ovhvx"
      },
      "source": [
        "df_train_sms = df_randomized_sms[:training_test_idx]\n",
        "df_train_sms\n"
      ],
      "execution_count": null,
      "outputs": []
    },
    {
      "cell_type": "code",
      "metadata": {
        "id": "bEHKzH03wd3Q"
      },
      "source": [
        "df_test_sms = df_randomized_sms[training_test_idx:]\n",
        "df_test_sms "
      ],
      "execution_count": null,
      "outputs": []
    },
    {
      "cell_type": "code",
      "metadata": {
        "id": "Jnah3TrUwrHi"
      },
      "source": [
        "df_train_sms = df_randomized_sms[:training_test_idx].reset_index(drop=True)\n",
        "df_train_sms"
      ],
      "execution_count": null,
      "outputs": []
    },
    {
      "cell_type": "code",
      "metadata": {
        "id": "AxpIFmzxwzof"
      },
      "source": [
        "df_test_sms = df_randomized_sms[training_test_idx:].reset_index(drop=True)\n",
        "df_test_sms "
      ],
      "execution_count": null,
      "outputs": []
    },
    {
      "cell_type": "code",
      "metadata": {
        "id": "N8Bhbecxw5cB"
      },
      "source": [
        "df_train_sms['Label'].value_counts(normalize=True)"
      ],
      "execution_count": null,
      "outputs": []
    },
    {
      "cell_type": "code",
      "metadata": {
        "id": "BPmKZRJ0xJd6"
      },
      "source": [
        "df_test_sms['Label'].value_counts(normalize=True)"
      ],
      "execution_count": null,
      "outputs": []
    },
    {
      "cell_type": "code",
      "metadata": {
        "id": "fVd7R2yZxMYh"
      },
      "source": [
        "# data cleaning allow us to re create data into a format which us easy to extract \n",
        "# remove punctuation and making all words lower case\n",
        "# before cleaning \n",
        "df_train_sms.head()"
      ],
      "execution_count": null,
      "outputs": []
    },
    {
      "cell_type": "code",
      "metadata": {
        "id": "jusahZtsyxY1"
      },
      "source": [
        "#After Cleaning\n",
        "df_train_sms['SMS'] = df_train_sms['SMS'].str.replace('\\W', ' ') # remove puncuation\n",
        "df_train_sms['SMS'] = df_train_sms['SMS'].str.lower()\n",
        "df_train_sms"
      ],
      "execution_count": null,
      "outputs": []
    },
    {
      "cell_type": "code",
      "metadata": {
        "id": "nlY8kpU4zTWH"
      },
      "source": [
        "# next step is we create a vocabulary\n",
        "# we use split method with space as the seprator\n",
        "# we are usinf Series.str.split()\n",
        "# then we perform set to remove duplicates\n",
        "# we then tranform into a list\n",
        "df_train_sms['SMS'] = df_train_sms['SMS'].str.split()\n",
        "vocab = []\n",
        "for msg in df_train_sms['SMS']:\n",
        "  print(msg)\n",
        "  for word in msg:\n",
        "    vocab.append(word)\n",
        "vocab = list(set(vocab))"
      ],
      "execution_count": null,
      "outputs": []
    },
    {
      "cell_type": "code",
      "metadata": {
        "id": "f8Ol88jp11WS"
      },
      "source": [
        "len(vocab)"
      ],
      "execution_count": null,
      "outputs": []
    },
    {
      "cell_type": "code",
      "metadata": {
        "id": "iZi9cAt02hJJ"
      },
      "source": [
        "# make a data frame which count ouccurence of words of vocab in a msg\n",
        "word_count_sms  = {unique_word: [0] * len(df_train_sms['SMS']) for unique_word in vocab}\n",
        "for index, sms in enumerate(df_train_sms['SMS']):\n",
        "  for word in sms:\n",
        "    word_count_sms[word][index] += 1 \n"
      ],
      "execution_count": null,
      "outputs": []
    },
    {
      "cell_type": "code",
      "metadata": {
        "id": "7wSbQXsx3hbm"
      },
      "source": [
        "df_word_count = pd.DataFrame(word_count_sms)\n",
        "df_word_count"
      ],
      "execution_count": null,
      "outputs": []
    },
    {
      "cell_type": "code",
      "metadata": {
        "id": "Qw0LQC5-35Lw"
      },
      "source": [
        "# we need to append label and sms along with df_word_count\n",
        "df_final_train = pd.concat([df_train_sms,df_word_count],axis=1)\n",
        "df_final_train"
      ],
      "execution_count": null,
      "outputs": []
    },
    {
      "cell_type": "code",
      "metadata": {
        "id": "FCco_1pf4jtw"
      },
      "source": [
        "# now we just have to split spam and ham msg first\n",
        "df_spam_msg = df_final_train[df_final_train['Label']=='spam']\n",
        "df_ham_msg =  df_final_train[df_final_train['Label']=='ham']\n"
      ],
      "execution_count": null,
      "outputs": []
    },
    {
      "cell_type": "code",
      "metadata": {
        "id": "t-M1krZDCkfP"
      },
      "source": [
        "# calculating ham and spam as P(ham) and P(spam)\n",
        "p_spam = len(df_spam_msg)/len(df_final_train)\n",
        "p_ham = len(df_ham_msg)/len(df_final_train)\n"
      ],
      "execution_count": null,
      "outputs": []
    },
    {
      "cell_type": "code",
      "metadata": {
        "id": "sHCbWPXEDGfd"
      },
      "source": [
        "# N_spam it is no. of word per spam msg\n",
        "# N_ham it is no. of word per ham msg\n",
        "n_word_per_spam = df_spam_msg['SMS'].apply(len)\n",
        "n_spam = n_word_per_spam.sum()\n",
        "print(n_spam)\n",
        "\n",
        "n_word_per_ham = df_ham_msg['SMS'].apply(len)\n",
        "n_ham = n_word_per_ham.sum()\n",
        "print(n_ham)\n",
        "\n"
      ],
      "execution_count": null,
      "outputs": []
    },
    {
      "cell_type": "code",
      "metadata": {
        "id": "sO-gavGeD-0W"
      },
      "source": [
        "# N_vocab\n",
        "n_vocab = len(vocab)\n",
        "\n",
        "#laplace smoothing = 1\n",
        "alpha=1"
      ],
      "execution_count": null,
      "outputs": []
    },
    {
      "cell_type": "code",
      "metadata": {
        "id": "PghbiooyEH7r"
      },
      "source": [
        "# we calculate the probability of every word given spam and ham\n",
        "# initiate param\n",
        "param_spam = {unique_word:0 for unique_word in vocab}\n",
        "param_ham =  {unique_word:0 for unique_word in vocab}\n",
        "# calculate param\n",
        "for word in vocab:\n",
        "  n_word_in_spam  = df_spam_msg[word].sum()\n",
        "  p_word = (n_word_in_spam+alpha)/(n_spam+alpha*n_vocab)\n",
        "  param_spam[word] = p_word\n",
        "\n",
        "  n_word_in_ham  = df_ham_msg[word].sum()\n",
        "  p_word_ham = (n_word_in_spam+alpha)/(n_spam+alpha*n_vocab)\n",
        "  param_spam[word] = p_word_ham"
      ],
      "execution_count": null,
      "outputs": []
    },
    {
      "cell_type": "code",
      "metadata": {
        "id": "rFx-aT6a-Fi0"
      },
      "source": [
        "print(param_ham)"
      ],
      "execution_count": null,
      "outputs": []
    },
    {
      "cell_type": "code",
      "metadata": {
        "id": "GdX24Gky-J_J"
      },
      "source": [
        "print(param_spam)"
      ],
      "execution_count": null,
      "outputs": []
    },
    {
      "cell_type": "code",
      "metadata": {
        "id": "ZU04AQelShHV"
      },
      "source": [
        "# classification\n",
        "import re\n",
        "def classify(message):\n",
        "  message = re.sub('\\W', ' ', message)\n",
        "  message = message.lower().split()\n",
        "  p_spam_given_msg  = p_spam\n",
        "  p_ham_given_msg  = p_ham\n",
        "  for word in message:\n",
        "    if word in param_spam:\n",
        "      p_spam_given_msg *= param_spam[word]\n",
        "    if word in param_ham:\n",
        "      p_ham_given_msg *= param_ham[word]\n",
        "  print('P(Spam|message):', p_spam_given_msg)\n",
        "  print('P(Ham|message):', p_ham_given_msg)\n",
        "\n",
        "  if p_ham_given_msg > p_spam_given_msg:\n",
        "    print('Label: Ham')\n",
        "  elif p_ham_given_msg < p_spam_given_msg:\n",
        "    print('Label: Spam')\n",
        "  else:\n",
        "    print('Equal proabilities, have a human classify this!')"
      ],
      "execution_count": null,
      "outputs": []
    },
    {
      "cell_type": "code",
      "metadata": {
        "id": "3kglPmrjURlc"
      },
      "source": [
        "classify('hi won the lottery')"
      ],
      "execution_count": null,
      "outputs": []
    },
    {
      "cell_type": "code",
      "metadata": {
        "id": "D2wjElRHlo7G"
      },
      "source": [
        "classify(' I love you')"
      ],
      "execution_count": null,
      "outputs": []
    },
    {
      "cell_type": "markdown",
      "metadata": {
        "id": "C4irJoG7Msi-"
      },
      "source": [
        "Linear Discriminant Analysis using wine data"
      ]
    },
    {
      "cell_type": "code",
      "metadata": {
        "id": "m53PIU6vNWyn"
      },
      "source": [
        "import pandas as pd\n",
        "import numpy as np\n",
        "import matplotlib.pyplot as plt\n",
        "from sklearn.discriminant_analysis import LinearDiscriminantAnalysis\n",
        "from sklearn.model_selection import train_test_split\n",
        "from sklearn.metrics import accuracy_score\n",
        "from sklearn.metrics import confusion_matrix"
      ],
      "execution_count": null,
      "outputs": []
    },
    {
      "cell_type": "code",
      "metadata": {
        "id": "PJjCN02xMtLx"
      },
      "source": [
        "downloaded = drive.CreateFile({'id':'1K92BucdCCB8SKWMbQK5cuTw8-nS0wfQ_'}) # replace the id with id of file you want to access\n",
        "downloaded.GetContentFile('wine.csv')"
      ],
      "execution_count": null,
      "outputs": []
    },
    {
      "cell_type": "code",
      "metadata": {
        "id": "K9YziHlyNG0p"
      },
      "source": [
        "df_wine = pd.read_csv('wine.csv')"
      ],
      "execution_count": null,
      "outputs": []
    },
    {
      "cell_type": "code",
      "metadata": {
        "id": "puoyo7NyNvY9"
      },
      "source": [
        "y = df_wine['Wine']\n",
        "x = df_wine.drop('Wine',axis=1).values"
      ],
      "execution_count": null,
      "outputs": []
    },
    {
      "cell_type": "code",
      "metadata": {
        "id": "AUMAtWIwmtaG"
      },
      "source": [
        "print(x.shape)"
      ],
      "execution_count": null,
      "outputs": []
    },
    {
      "cell_type": "markdown",
      "metadata": {
        "id": "vSOI3-3ORW6u"
      },
      "source": [
        "Fitting LDA to wine datasets"
      ]
    },
    {
      "cell_type": "code",
      "metadata": {
        "id": "3x4dv2kMRWmJ"
      },
      "source": [
        "lda = LinearDiscriminantAnalysis()\n",
        "lda_t = lda.fit_transform(x,y)"
      ],
      "execution_count": null,
      "outputs": []
    },
    {
      "cell_type": "code",
      "metadata": {
        "id": "uKvS5Q-VRsny"
      },
      "source": [
        "lda.explained_variance_ratio_\n"
      ],
      "execution_count": null,
      "outputs": []
    },
    {
      "cell_type": "code",
      "metadata": {
        "id": "SYNQaY2vR4N0"
      },
      "source": [
        "plt.xlabel('LD1')\n",
        "plt.ylabel('LD2')\n",
        "plt.scatter(lda_t[:,0],lda_t[:,1],c=y,cmap='rainbow',edgecolors='r')"
      ],
      "execution_count": null,
      "outputs": []
    },
    {
      "cell_type": "code",
      "metadata": {
        "id": "vhyvu5QsTtyp"
      },
      "source": [
        "lda_t # reduced two componenets as dimensionaly reduced componenets\n",
        "x_lda = lda_t"
      ],
      "execution_count": null,
      "outputs": []
    },
    {
      "cell_type": "code",
      "metadata": {
        "id": "6uZFbcDmu3GA"
      },
      "source": [
        "x_lda"
      ],
      "execution_count": null,
      "outputs": []
    },
    {
      "cell_type": "code",
      "metadata": {
        "id": "uvnXpUYWUkTh"
      },
      "source": [
        "len(x_lda)"
      ],
      "execution_count": null,
      "outputs": []
    },
    {
      "cell_type": "code",
      "metadata": {
        "id": "PmkXLwoXNeL5"
      },
      "source": [
        "df_wine.info()"
      ],
      "execution_count": null,
      "outputs": []
    },
    {
      "cell_type": "code",
      "metadata": {
        "id": "N4kUjLkBOV2-"
      },
      "source": [
        "df_wine_1 = []\n",
        "df_wine_2 = []\n",
        "df_wine_3 = []\n"
      ],
      "execution_count": null,
      "outputs": []
    },
    {
      "cell_type": "code",
      "metadata": {
        "id": "rej3fjzhxsG3"
      },
      "source": [
        "df_wine_1 "
      ],
      "execution_count": null,
      "outputs": []
    },
    {
      "cell_type": "code",
      "metadata": {
        "id": "Vcrb-BuqPqbI"
      },
      "source": [
        "for i in range(len(y)):\n",
        "  if y[i]==1:\n",
        "    df_wine_1.append(x_lda[i])\n",
        "  elif y[i] == 2:\n",
        "    df_wine_2.append(x_lda[i])\n",
        "  elif y[i]==3:\n",
        "    df_wine_3.append(x_lda[i])\n"
      ],
      "execution_count": null,
      "outputs": []
    },
    {
      "cell_type": "code",
      "metadata": {
        "id": "c3eExaSbQemP"
      },
      "source": [
        "print(len(df_wine_1))"
      ],
      "execution_count": null,
      "outputs": []
    },
    {
      "cell_type": "code",
      "metadata": {
        "id": "xtR85YrOQldq"
      },
      "source": [
        "print(len(df_wine_2))"
      ],
      "execution_count": null,
      "outputs": []
    },
    {
      "cell_type": "code",
      "metadata": {
        "id": "0zflhm56QptC"
      },
      "source": [
        "print(len(df_wine_3))"
      ],
      "execution_count": null,
      "outputs": []
    },
    {
      "cell_type": "markdown",
      "metadata": {
        "id": "0Yt1Db9cXLtG"
      },
      "source": [
        "# here we will consider each covariance martix seprately so we are dealing with\n",
        "# Qudratic Discriminant Analysis"
      ]
    },
    {
      "cell_type": "markdown",
      "metadata": {
        "id": "dQDPtp5Ak1A9"
      },
      "source": [
        "![WhatsApp Image 2021-10-18 at 14.03.42.jpeg](data:image/jpeg;base64,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)"
      ]
    },
    {
      "cell_type": "code",
      "metadata": {
        "id": "-mD0Zi1WQtsm"
      },
      "source": [
        "mean_1 = []\n",
        "x_array1 = np.array(df_wine_1)\n",
        "for j in range(2):\n",
        "  sum_1=0\n",
        "  for i in range(len(df_wine_1)):\n",
        "    sum_1 = sum_1+x_array1[i][j]\n",
        "  print(sum_1)\n",
        "  mean_1.append(sum_1/len(df_wine_1))"
      ],
      "execution_count": null,
      "outputs": []
    },
    {
      "cell_type": "code",
      "metadata": {
        "id": "B35XJoY-YyR9"
      },
      "source": [
        "print(mean_1)"
      ],
      "execution_count": null,
      "outputs": []
    },
    {
      "cell_type": "code",
      "metadata": {
        "id": "spqzPQn2ZGdU"
      },
      "source": [
        "mean_2 = []\n",
        "x_array1 = np.array(df_wine_2)\n",
        "for j in range(2):\n",
        "  sum_1=0\n",
        "  for i in range(len(df_wine_2)):\n",
        "    sum_1 = sum_1+x_array1[i][j]\n",
        "  print(sum_1)\n",
        "  mean_2.append(sum_1/len(df_wine_2))"
      ],
      "execution_count": null,
      "outputs": []
    },
    {
      "cell_type": "code",
      "metadata": {
        "id": "j7PCOZSnZHlc"
      },
      "source": [
        "mean_3 = []\n",
        "x_array1 = np.array(df_wine_3)\n",
        "for j in range(2):\n",
        "  sum_1=0\n",
        "  for i in range(len(df_wine_3)):\n",
        "    sum_1 = sum_1+x_array1[i][j]\n",
        "  print(sum_1)\n",
        "  mean_3.append(sum_1/len(df_wine_3))"
      ],
      "execution_count": null,
      "outputs": []
    },
    {
      "cell_type": "code",
      "metadata": {
        "id": "J4HA7FVVZcC4"
      },
      "source": [
        "x_norm_1 = []\n",
        "for row in df_wine_1:\n",
        "  temp = []\n",
        "  for j in range(2):\n",
        "    diff = row[j]-mean_1[j]\n",
        "    temp.append(diff)\n",
        "  x_norm_1.append(temp)\n"
      ],
      "execution_count": null,
      "outputs": []
    },
    {
      "cell_type": "code",
      "metadata": {
        "id": "xWJmyRGIa0u9"
      },
      "source": [
        "arr_x_norm_1 = np.array(x_norm_1)"
      ],
      "execution_count": null,
      "outputs": []
    },
    {
      "cell_type": "code",
      "metadata": {
        "id": "Im3O3eyAbAYA"
      },
      "source": [
        "sigma_1 = np.dot(arr_x_norm_1.T,arr_x_norm_1)"
      ],
      "execution_count": null,
      "outputs": []
    },
    {
      "cell_type": "code",
      "metadata": {
        "id": "cV3QMWZcbZtJ"
      },
      "source": [
        "sigma_1"
      ],
      "execution_count": null,
      "outputs": []
    },
    {
      "cell_type": "code",
      "metadata": {
        "id": "0Ly3H9zubQeC"
      },
      "source": [
        "np.sqrt(sigma_1)"
      ],
      "execution_count": null,
      "outputs": []
    },
    {
      "cell_type": "code",
      "metadata": {
        "id": "8KicZZCUbnRO"
      },
      "source": [
        "x_norm_2 = []\n",
        "for row in df_wine_2:\n",
        "  temp = []\n",
        "  for j in range(2):\n",
        "    diff = row[j]-mean_2[j]\n",
        "    temp.append(diff)\n",
        "  x_norm_2.append(temp)"
      ],
      "execution_count": null,
      "outputs": []
    },
    {
      "cell_type": "code",
      "metadata": {
        "id": "ssaCPgKQb_j6"
      },
      "source": [
        "\n",
        "arr_x_norm_2 = np.array(x_norm_2)"
      ],
      "execution_count": null,
      "outputs": []
    },
    {
      "cell_type": "code",
      "metadata": {
        "id": "WEAJ1L-Qb2xj"
      },
      "source": [
        "sigma_2 = np.dot(arr_x_norm_2.T,arr_x_norm_2)"
      ],
      "execution_count": null,
      "outputs": []
    },
    {
      "cell_type": "code",
      "metadata": {
        "id": "9_5GQObYbtGu"
      },
      "source": [
        "x_norm_3 = []\n",
        "for row in df_wine_3:\n",
        "  temp = []\n",
        "  for j in range(2):\n",
        "    diff = row[j]-mean_3[j]\n",
        "    temp.append(diff)\n",
        "  x_norm_3.append(temp)"
      ],
      "execution_count": null,
      "outputs": []
    },
    {
      "cell_type": "code",
      "metadata": {
        "id": "z4SSHgUvcKmn"
      },
      "source": [
        "arr_x_norm_3 = np.array(x_norm_3)"
      ],
      "execution_count": null,
      "outputs": []
    },
    {
      "cell_type": "code",
      "metadata": {
        "id": "qYf0_s3hcR4y"
      },
      "source": [
        "sigma_3 = np.dot(arr_x_norm_3.T,arr_x_norm_3)"
      ],
      "execution_count": null,
      "outputs": []
    },
    {
      "cell_type": "code",
      "metadata": {
        "id": "6E3mA7hVOFtk"
      },
      "source": [
        "print(y.value_counts())"
      ],
      "execution_count": null,
      "outputs": []
    },
    {
      "cell_type": "code",
      "metadata": {
        "id": "Br0pLz9Ms13y"
      },
      "source": [
        "pri_1 = len(df_wine_1)/len(df_wine)\n",
        "pri_2 = len(df_wine_2)/len(df_wine)\n",
        "pri_3 = len(df_wine_3)/len(df_wine)"
      ],
      "execution_count": null,
      "outputs": []
    },
    {
      "cell_type": "code",
      "metadata": {
        "id": "wlJtwdqYseBb"
      },
      "source": [
        "big_sigma = [sigma_1,sigma_2,sigma_3]\n",
        "big_mean = [mean_1,mean_2,mean_3]\n",
        "prior_prob = [pri_1,pri_2,pri_3]"
      ],
      "execution_count": null,
      "outputs": []
    },
    {
      "cell_type": "markdown",
      "metadata": {
        "id": "rUqHnn5hcfs8"
      },
      "source": [
        "Now we have all important paramters which are needed to calculate pdf of a sample and compare it with other class values"
      ]
    },
    {
      "cell_type": "code",
      "metadata": {
        "id": "VvcC2DdDcfSV"
      },
      "source": [
        "def classify(casee,big_sigma,big_mean,prior_prob):\n",
        "  result = []\n",
        "  for category in range(3):\n",
        "    casee_arr = np.array(casee)\n",
        "    sig = np.array(big_sigma[category])\n",
        "    det_sig = np.linalg.det(sig)\n",
        "    log_det_sig = -0.5*np.log(det_sig)\n",
        "    inv_sigma = np.linalg.inv(sig)\n",
        "    casee_arr = casee_arr - big_mean[category]\n",
        "    #print(inv_sigma.shape)\n",
        "    #print(casee_arr.shape)\n",
        "    cov_case = -0.5*(np.dot(casee_arr,np.dot(inv_sigma,casee_arr.T)))\n",
        "    #print(cov_case)\n",
        "    delta_cse = log_det_sig+cov_case+prior_prob[category]\n",
        "    result.append([(delta_cse,category)])\n",
        "  return result\n",
        "\n",
        "\n"
      ],
      "execution_count": null,
      "outputs": []
    },
    {
      "cell_type": "code",
      "metadata": {
        "id": "AGoA2jN5uxKQ"
      },
      "source": [
        "casee = [-4.52737794,  3.26912179] # check it for other values also...\n",
        "r = classify(casee,big_sigma,big_mean,prior_prob)"
      ],
      "execution_count": null,
      "outputs": []
    },
    {
      "cell_type": "code",
      "metadata": {
        "id": "tOR_kp1xxa60"
      },
      "source": [
        "print(r)"
      ],
      "execution_count": null,
      "outputs": []
    },
    {
      "cell_type": "markdown",
      "metadata": {
        "id": "BHoayXC7x2v-"
      },
      "source": [
        "# PCA and its implementation"
      ]
    },
    {
      "cell_type": "code",
      "metadata": {
        "id": "IKTuCvOMx2i-"
      },
      "source": [
        "  import numpy as np"
      ],
      "execution_count": null,
      "outputs": []
    },
    {
      "cell_type": "code",
      "metadata": {
        "id": "uN4a0gRNBSdH"
      },
      "source": [
        "# mean centered data\n",
        "len(x[0])"
      ],
      "execution_count": null,
      "outputs": []
    },
    {
      "cell_type": "code",
      "metadata": {
        "id": "ORNmYVxABqsc"
      },
      "source": [
        "mean_centerd = []\n",
        "for j in range(len(x[0])):\n",
        "  summ=0\n",
        "  for i in range(len(x)):\n",
        "    summ = summ + x[i][j]\n",
        "  mean_centerd.append(summ/len(x))"
      ],
      "execution_count": null,
      "outputs": []
    },
    {
      "cell_type": "code",
      "metadata": {
        "id": "J4f5n380FBot"
      },
      "source": [
        "mean_centerd"
      ],
      "execution_count": null,
      "outputs": []
    },
    {
      "cell_type": "code",
      "metadata": {
        "id": "fLDQ9KevFKHb"
      },
      "source": [
        "def mean_centerdd(mean_centered,x):\n",
        "  mean_centerd_data = []\n",
        "  for row in x:\n",
        "    temp = []\n",
        "    for j in range(len(row)):\n",
        "      val = row[j]-mean_centerd[j]\n",
        "      temp.append(val)\n",
        "    mean_centerd_data.append(temp)\n",
        "  return mean_centerd_data\n"
      ],
      "execution_count": null,
      "outputs": []
    },
    {
      "cell_type": "code",
      "metadata": {
        "id": "sZteXlkBF-BG"
      },
      "source": [
        "normalize_x = mean_centerdd(mean_centerd,x)"
      ],
      "execution_count": null,
      "outputs": []
    },
    {
      "cell_type": "code",
      "metadata": {
        "id": "OtOlULuMGHmE"
      },
      "source": [
        "print(len(normalize_x))"
      ],
      "execution_count": null,
      "outputs": []
    },
    {
      "cell_type": "code",
      "metadata": {
        "id": "HqpBeqKqGZaA"
      },
      "source": [
        "# calculate the covariance matrix\n",
        "cov_mtx = np.cov(normalize_x,rowvar=False)"
      ],
      "execution_count": null,
      "outputs": []
    },
    {
      "cell_type": "code",
      "metadata": {
        "id": "r6-Cgc0wGwD3"
      },
      "source": [
        "# calculating eigen vlaues and eigen vectors\n",
        "eigen_values, eigen_vectors = np.linalg.eigh(cov_mtx)"
      ],
      "execution_count": null,
      "outputs": []
    },
    {
      "cell_type": "code",
      "metadata": {
        "id": "l1FZW7tYHE27"
      },
      "source": [
        "# sorting eigen values in descending values\n",
        "sorted_index = np.argsort(eigen_values)[::-1]\n",
        "sorted_eigenval = eigen_values[sorted_index]\n",
        "\n",
        "#similary sort eigen vectors\n",
        "sorted_eigenvectors = eigen_vectors[:,sorted_index]"
      ],
      "execution_count": null,
      "outputs": []
    },
    {
      "cell_type": "code",
      "metadata": {
        "id": "9ND0RoN0IHwH"
      },
      "source": [
        "# select the first n eigenvectors, n is desired dimension\n",
        "# of our final reduced data.\n",
        " \n",
        "n_components = 3 #you can select any number of components.\n",
        "eigenvector_subset = sorted_eigenvectors[:,0:n_components]"
      ],
      "execution_count": null,
      "outputs": []
    },
    {
      "cell_type": "code",
      "metadata": {
        "id": "6EYlXu-lISVG"
      },
      "source": [
        "eigenvector_subset.shape"
      ],
      "execution_count": null,
      "outputs": []
    },
    {
      "cell_type": "code",
      "metadata": {
        "id": "2bGFP7uhJrIX"
      },
      "source": [
        "# tranform data \n",
        "x_reduced = np.dot(np.array(eigenvector_subset).T,np.array(normalize_x).T).T"
      ],
      "execution_count": null,
      "outputs": []
    },
    {
      "cell_type": "code",
      "metadata": {
        "id": "xVVn8Mp5K1Fv"
      },
      "source": [
        "x_reduced.shape"
      ],
      "execution_count": null,
      "outputs": []
    },
    {
      "cell_type": "code",
      "metadata": {
        "id": "UTt137i5Q5Y1"
      },
      "source": [
        "#Implementing multi class naive bayes classifier\n",
        "mean_fr_bayes = []\n",
        "for j in range(len(x_reduced[0])):\n",
        "  summ = 0\n",
        "  for i in range(len(x)):\n",
        "    summ = summ + x[i][j]\n",
        "  mean_fr_bayes.append(summ/len(x))\n"
      ],
      "execution_count": null,
      "outputs": []
    },
    {
      "cell_type": "code",
      "metadata": {
        "id": "BJxrNlVyWjMk"
      },
      "source": [
        "mean_fr_bayes"
      ],
      "execution_count": null,
      "outputs": []
    },
    {
      "cell_type": "code",
      "metadata": {
        "id": "Ziye7WY2XDpM"
      },
      "source": [
        "df_wine_11 = []\n",
        "df_wine_22 = []\n",
        "df_wine_33 = []"
      ],
      "execution_count": null,
      "outputs": []
    },
    {
      "cell_type": "code",
      "metadata": {
        "id": "8xsj-V-bWzxL"
      },
      "source": [
        "for i in range(len(y)):\n",
        "  if y[i]==1:\n",
        "    df_wine_11.append(x_reduced[i])\n",
        "  elif y[i] == 2:\n",
        "    df_wine_22.append(x_reduced[i])\n",
        "  elif y[i]==3:\n",
        "    df_wine_33.append(x_reduced[i])"
      ],
      "execution_count": null,
      "outputs": []
    },
    {
      "cell_type": "code",
      "metadata": {
        "id": "nYqYLP0_bArk"
      },
      "source": [
        "import statistics\n",
        "import math"
      ],
      "execution_count": null,
      "outputs": []
    },
    {
      "cell_type": "code",
      "metadata": {
        "id": "aClVnsqwXS-S"
      },
      "source": [
        "mean_11 = []\n",
        "std_1 = []\n",
        "x_array11 = np.array(df_wine_11)\n",
        "for j in range(2):\n",
        "  sum_1=0\n",
        "  std_lst=[]\n",
        "  for i in range(len(df_wine_11)):\n",
        "    sum_1 = sum_1+x_array11[i][j]\n",
        "    std_lst.append(x_array11[i][j])\n",
        "  #print(sum_1)\n",
        "  mean_11.append(sum_1/len(df_wine_1))\n",
        "  std_1.append(statistics.stdev(std_lst))"
      ],
      "execution_count": null,
      "outputs": []
    },
    {
      "cell_type": "code",
      "metadata": {
        "id": "odv_vT2eXl69"
      },
      "source": [
        "mean_22 = []\n",
        "std_2 = []\n",
        "x_array11 = np.array(df_wine_22)\n",
        "for j in range(2):\n",
        "  sum_1=0\n",
        "  std_lst2 = []\n",
        "  for i in range(len(df_wine_22)):\n",
        "    sum_1 = sum_1+x_array11[i][j]\n",
        "    std_lst2.append(x_array11[i][j])\n",
        "  #print(sum_1)\n",
        "  std_2.append(statistics.stdev(std_lst2))\n",
        "  mean_22.append(sum_1/len(df_wine_22))\n"
      ],
      "execution_count": null,
      "outputs": []
    },
    {
      "cell_type": "code",
      "metadata": {
        "id": "WXxk1CXLXu_d"
      },
      "source": [
        "mean_33 = []\n",
        "std_3 = []\n",
        "\n",
        "x_array33 = np.array(df_wine_33)\n",
        "for j in range(2):\n",
        "  sum_1=0\n",
        "  std_lst3 = []\n",
        "  for i in range(len(df_wine_33)):\n",
        "    sum_1 = sum_1+x_array33[i][j]\n",
        "    std_lst3.append(x_array33[i][j])\n",
        "  std_3.append(statistics.stdev(std_lst3))\n",
        "  #print(sum_1)\n",
        "  mean_33.append(sum_1/len(df_wine_33))"
      ],
      "execution_count": null,
      "outputs": []
    },
    {
      "cell_type": "code",
      "metadata": {
        "id": "_PQz7Zi-X-Ia"
      },
      "source": [
        "bayes_mean = [mean_11,mean_22,mean_33]\n",
        "bayes_std = [std_1,std_2,std_3]"
      ],
      "execution_count": null,
      "outputs": []
    },
    {
      "cell_type": "code",
      "metadata": {
        "id": "bOIwcsqRtlZ8"
      },
      "source": [
        "prior_prob"
      ],
      "execution_count": null,
      "outputs": []
    },
    {
      "cell_type": "code",
      "metadata": {
        "id": "AEeISWvicnG7"
      },
      "source": [
        "def classify_NB(casee,bayes_mean,bayes_std,prior_prob):\n",
        "  con = 1/np.sqrt(2*3.14)\n",
        "  classify_lst = []\n",
        "  for category in range(3):\n",
        "    final_pdf = []\n",
        "    for j in range(len(casee)):\n",
        "      xx = casee[j]\n",
        "      mu = bayes_mean[category][j]\n",
        "      stdd  = bayes_std[category][j]\n",
        "      stdd_inv = 1/stdd\n",
        "      val = (con*stdd_inv)\n",
        "      e_pow = (-0.5*((xx-mu)/stdd)**2)\n",
        "      pdf = val*math.exp(e_pow)\n",
        "      final_pdf.append(pdf)\n",
        "    classify_lst.append([np.prod(final_pdf)*prior_prob[category],category])\n",
        "  return classify_lst\n",
        "    \n",
        "  \n"
      ],
      "execution_count": null,
      "outputs": []
    },
    {
      "cell_type": "code",
      "metadata": {
        "id": "IQWFRk62fl2H"
      },
      "source": [
        "classify_NB(casee,bayes_mean,bayes_std,prior_prob)"
      ],
      "execution_count": null,
      "outputs": []
    },
    {
      "cell_type": "markdown",
      "metadata": {
        "id": "aI50uz7ZafgO"
      },
      "source": [
        "# Ensemble Learning and Random Forest"
      ]
    },
    {
      "cell_type": "code",
      "metadata": {
        "id": "9eMfMnj8bRKj"
      },
      "source": [
        "!pip install -U -q PyDrive\n",
        "from pydrive.auth import GoogleAuth\n",
        "from pydrive.drive import GoogleDrive\n",
        "from google.colab import auth\n",
        "from oauth2client.client import GoogleCredentials\n"
      ],
      "execution_count": null,
      "outputs": []
    },
    {
      "cell_type": "code",
      "metadata": {
        "id": "Z-kHO4ow5gxM"
      },
      "source": [
        "auth.authenticate_user()\n",
        "gauth = GoogleAuth()\n",
        "gauth.credentials = GoogleCredentials.get_application_default()\n",
        "drive = GoogleDrive(gauth)"
      ],
      "execution_count": null,
      "outputs": []
    },
    {
      "cell_type": "code",
      "metadata": {
        "id": "Z7tvX4hH5-WZ"
      },
      "source": [
        "downloaded = drive.CreateFile({'id':'1ok8JTGj5O4q8oXQDfXUue-DCyAzIvzkv'}) # replace the id with id of file you want to access\n",
        "downloaded.GetContentFile('sonar.csv')"
      ],
      "execution_count": null,
      "outputs": []
    },
    {
      "cell_type": "code",
      "metadata": {
        "id": "D1yq-JVA6rcV"
      },
      "source": [
        "import numpy as np\n",
        "import pandas as pd\n",
        "import seaborn as sns\n",
        "%matplotlib inline"
      ],
      "execution_count": null,
      "outputs": []
    },
    {
      "cell_type": "code",
      "metadata": {
        "id": "vJ3tNpnX6oRZ"
      },
      "source": [
        "df_sonar = pd.read_csv(\"sonar.csv\")"
      ],
      "execution_count": null,
      "outputs": []
    },
    {
      "cell_type": "markdown",
      "metadata": {
        "id": "CcVeDcHwl4Ql"
      },
      "source": [
        "Sonar data set is constructed by terry sejnowski at salt institute \n",
        "The file \"sonar.mines\" contains 111 patterns obtained by bouncing sonar signals off a metal cylinder at various angles and under various conditions. The file \"sonar.rocks\" contains 97 patterns obtained from rocks under similar conditions. \n",
        "Each pattern is a set of 60 numbers in the range 0.0 to 1.0. Each number represents the energy within a particular frequency band, integrated over a certain period of time. The integration aperture for higher frequencies occur later in time, since these frequencies are transmitted later during the chirp.\n",
        "\n",
        "The label associated with each record contains class 1 if the object is a rock and 0 if it is a mine (metal cylinder).\n",
        "\n"
      ]
    },
    {
      "cell_type": "code",
      "metadata": {
        "id": "AddvGsF2mA9z"
      },
      "source": [
        "df_sonar.head()"
      ],
      "execution_count": null,
      "outputs": []
    },
    {
      "cell_type": "code",
      "metadata": {
        "id": "1ikBseOqi1LD"
      },
      "source": [
        "from sklearn.ensemble import RandomForestClassifier\n",
        "from sklearn.ensemble import VotingClassifier\n",
        "from sklearn.linear_model import LogisticRegression\n",
        "from sklearn.svm import SVC"
      ],
      "execution_count": null,
      "outputs": []
    },
    {
      "cell_type": "code",
      "metadata": {
        "id": "X2IrV2CQ7Du9"
      },
      "source": [
        "df_sonar.head()"
      ],
      "execution_count": null,
      "outputs": []
    },
    {
      "cell_type": "code",
      "metadata": {
        "id": "zRFxp2BXjUo6"
      },
      "source": [
        "log_clf = LogisticRegression()\n",
        "rnd_clf = RandomForestClassifier()\n",
        "svm_clf = SVC()"
      ],
      "execution_count": null,
      "outputs": []
    },
    {
      "cell_type": "code",
      "metadata": {
        "id": "mC6GBQ1rjsG3"
      },
      "source": [
        "# building hard voting classifier\n",
        "voting_clf = VotingClassifier(estimators=[('lr', log_clf),('rf', rnd_clf), ('svc',svm_clf)],voting='hard')"
      ],
      "execution_count": null,
      "outputs": []
    },
    {
      "cell_type": "code",
      "metadata": {
        "id": "tRuaRTP7ih2K"
      },
      "source": [
        "df_sonar.corr()"
      ],
      "execution_count": null,
      "outputs": []
    },
    {
      "cell_type": "code",
      "metadata": {
        "id": "xvRVIKc8rm8O"
      },
      "source": [
        "df_sonar.info()"
      ],
      "execution_count": null,
      "outputs": []
    },
    {
      "cell_type": "code",
      "metadata": {
        "id": "fd8ogEWErAXW"
      },
      "source": [
        "df_sonar_x = df_sonar.iloc[:,:60]\n"
      ],
      "execution_count": null,
      "outputs": []
    },
    {
      "cell_type": "code",
      "metadata": {
        "id": "psjo7dsasGrq"
      },
      "source": [
        "df_sonar_x"
      ],
      "execution_count": null,
      "outputs": []
    },
    {
      "cell_type": "code",
      "metadata": {
        "id": "-bUTczhPq6u1"
      },
      "source": [
        "from statsmodels.stats.outliers_influence import variance_inflation_factor\n",
        "\n",
        "vif_data = pd.DataFrame()\n",
        "x = df_sonar_x\n",
        "vif_data[\"feature\"] = df_sonar_x.columns\n",
        "vif_data['VIF'] = [variance_inflation_factor(x.values,i) for i in range(len(x.columns))]\n",
        "vif_data"
      ],
      "execution_count": null,
      "outputs": []
    },
    {
      "cell_type": "code",
      "metadata": {
        "id": "3tkiyBTItl1W"
      },
      "source": [
        "vif_features_sonar = list(vif_data['feature'].values)\n",
        "vif_values_sonar = list(vif_data['VIF'].values)\n",
        "\n",
        "vif_dict = dict(zip(vif_features_sonar, vif_values_sonar))\n",
        "\n",
        "#vif_dict\n",
        "drop_col = []\n",
        "for key, value in vif_dict.items():\n",
        "  if value > 30 or value == 'inf':\n",
        "    drop_col.append(key)\n"
      ],
      "execution_count": null,
      "outputs": []
    },
    {
      "cell_type": "code",
      "metadata": {
        "id": "jdxc7kZ9t6DN"
      },
      "source": [
        "vif_data_sonar = vif_data.loc[(vif_data['VIF']>0) & (vif_data['VIF']<20)]"
      ],
      "execution_count": null,
      "outputs": []
    },
    {
      "cell_type": "code",
      "metadata": {
        "id": "p75_KSUYucSB"
      },
      "source": [
        "vif_data_sonar"
      ],
      "execution_count": null,
      "outputs": []
    },
    {
      "cell_type": "code",
      "metadata": {
        "id": "uW0cNTqIulpI"
      },
      "source": [
        "clean_sonar_data = df_sonar_x.loc[:,vif_data_sonar['feature']] # cleaned sonar data"
      ],
      "execution_count": null,
      "outputs": []
    },
    {
      "cell_type": "code",
      "metadata": {
        "id": "SZVkFtQzvUcr"
      },
      "source": [
        "clean_sonar_data.corr()"
      ],
      "execution_count": null,
      "outputs": []
    },
    {
      "cell_type": "code",
      "metadata": {
        "id": "3ElUbphywDkW"
      },
      "source": [
        "y = df_sonar['Class']"
      ],
      "execution_count": null,
      "outputs": []
    },
    {
      "cell_type": "code",
      "metadata": {
        "id": "G4k9QScPvdvF"
      },
      "source": [
        "# train test split data\n",
        "from sklearn.model_selection import train_test_split\n",
        "train_x,test_x,train_y,test_y = train_test_split(clean_sonar_data,y,test_size=0.3)"
      ],
      "execution_count": null,
      "outputs": []
    },
    {
      "cell_type": "code",
      "metadata": {
        "id": "wdquP8b8ynXf"
      },
      "source": [
        "voting_clf.fit(train_x,train_y)"
      ],
      "execution_count": null,
      "outputs": []
    },
    {
      "cell_type": "code",
      "metadata": {
        "id": "5IkughoZwU1J"
      },
      "source": [
        "from sklearn.metrics import accuracy_score\n",
        "for clf in(log_clf,rnd_clf,voting_clf):\n",
        "  clf.fit(train_x,train_y)\n",
        "  pred_y = clf.predict(test_x)\n",
        "  print(clf.__class__.__name__,accuracy_score(test_y,pred_y))"
      ],
      "execution_count": null,
      "outputs": []
    },
    {
      "cell_type": "code",
      "metadata": {
        "id": "YYPiHtHjDFn-"
      },
      "source": [
        "svc_soft_clf = SVC(probability=True)"
      ],
      "execution_count": null,
      "outputs": []
    },
    {
      "cell_type": "code",
      "metadata": {
        "id": "2jmBYKcHzhL9"
      },
      "source": [
        "# if all classifier have predict_proba() method then we can say Scikit Learn to \n",
        "# predict class with highest probability\n",
        "# thisis called soft voting\n",
        "soft_voting_clf = VotingClassifier(estimators=[('lr', log_clf),('rf', rnd_clf), ('svc_soft',svc_soft_clf)],voting='soft')#soft_voting = voting_clf(train_x,train_yffffffffffffff)"
      ],
      "execution_count": null,
      "outputs": []
    },
    {
      "cell_type": "code",
      "metadata": {
        "id": "iotYpX3lDReK"
      },
      "source": [
        "soft_voting_clf.fit(train_x,train_y)"
      ],
      "execution_count": null,
      "outputs": []
    },
    {
      "cell_type": "code",
      "metadata": {
        "id": "NUkpuS-4DZQX"
      },
      "source": [
        "pred_y_soft = soft_voting_clf.predict(test_x)"
      ],
      "execution_count": null,
      "outputs": []
    },
    {
      "cell_type": "code",
      "metadata": {
        "id": "cxJkTbWdDl-y"
      },
      "source": [
        "from sklearn.metrics import accuracy_score\n",
        "for clf_soft in(log_clf,rnd_clf,soft_voting_clf):\n",
        "  clf_soft.fit(train_x,train_y)\n",
        "  pred_y_soft = clf.predict(test_x)\n",
        "  print(clf_soft.__class__.__name__,accuracy_score(test_y,pred_y_soft))"
      ],
      "execution_count": null,
      "outputs": []
    },
    {
      "cell_type": "markdown",
      "metadata": {
        "id": "7LijsxzXEf67"
      },
      "source": [
        "# Bagging and Pasting in Scikit Learn"
      ]
    },
    {
      "cell_type": "code",
      "metadata": {
        "id": "8rdckQ6EEdBm"
      },
      "source": [
        "from sklearn.ensemble import BaggingClassifier\n",
        "from sklearn.tree import DecisionTreeClassifier\n",
        "from sklearn.metrics import accuracy_score\n",
        "\n",
        "bag_clf = BaggingClassifier(\n",
        "    DecisionTreeClassifier(),n_estimators=600,max_samples=100,bootstrap = True,\n",
        "    n_jobs = -1\n",
        ")\n",
        "bag_clf.fit(train_x,train_y)"
      ],
      "execution_count": null,
      "outputs": []
    },
    {
      "cell_type": "code",
      "metadata": {
        "id": "Vpb0DfvskDDO"
      },
      "source": [
        "pred_y  = bag_clf.predict(test_x)"
      ],
      "execution_count": null,
      "outputs": []
    },
    {
      "cell_type": "code",
      "metadata": {
        "id": "jqvqXaiYkC16"
      },
      "source": [
        "print('mis classified samples %d' % (test_y!= pred_y).sum())\n"
      ],
      "execution_count": null,
      "outputs": []
    },
    {
      "cell_type": "code",
      "metadata": {
        "id": "f9ERgXgMkCl8"
      },
      "source": [
        "print(accuracy_score(test_y,pred_y))"
      ],
      "execution_count": null,
      "outputs": []
    },
    {
      "cell_type": "markdown",
      "metadata": {
        "id": "QwFjb7SFlM-6"
      },
      "source": [
        "#Random Forest"
      ]
    },
    {
      "cell_type": "code",
      "metadata": {
        "id": "9sWwm2SMsZuL"
      },
      "source": [
        "# random forest is an esemble of decision trees , generally trained via the bagging method \n",
        "# or via pasting, typically max_samples size set to the size of training set\n",
        "# prefer it making a rnadom forest classifier and passing it via decision tree classsifier\n",
        "# in this example we will train a random forest with 500 trees\n",
        "# and we will use all cpu cores \n",
        "from sklearn.ensemble import RandomForestClassifier\n",
        "rnd_clff = RandomForestClassifier(n_estimators=500,max_leaf_nodes=16,n_jobs=-1)\n",
        "rnd_clff.fit(train_x,train_y)\n",
        "y_pred_rnd_clff = rnd_clff.predict(test_x)"
      ],
      "execution_count": null,
      "outputs": []
    },
    {
      "cell_type": "code",
      "metadata": {
        "id": "qvZd9qtjnJJi"
      },
      "source": [
        "rnd_bag_clf = BaggingClassifier(\n",
        "    DecisionTreeClassifier(splitter=\"random\", max_leaf_nodes=10),n_estimators=500,\n",
        "    max_samples=1.0,bootstrap=True, n_jobs=-1\n",
        ")"
      ],
      "execution_count": null,
      "outputs": []
    },
    {
      "cell_type": "code",
      "metadata": {
        "id": "c2exT2JpnE_y"
      },
      "source": [
        "#Features Importance\n",
        "from sklearn.datasets import load_iris\n",
        "iris = load_iris()\n",
        "rnd_clf = RandomForestClassifier(n_estimators=500,n_jobs=-1)\n",
        "rnd_clf.fit(iris[\"data\"],iris[\"target\"])\n",
        "for name, score in zip(iris['feature_names'],rnd_clf.feature_importances_):\n",
        "  print(name,score)"
      ],
      "execution_count": null,
      "outputs": []
    },
    {
      "cell_type": "markdown",
      "metadata": {
        "id": "pLfp_xXL-LCP"
      },
      "source": [
        "#Implementing Random forest on breast cancer data base"
      ]
    },
    {
      "cell_type": "code",
      "metadata": {
        "id": "-BKHRhh--U8e"
      },
      "source": [
        "downloaded = drive.CreateFile({'id':'1VoXF_1K2rpfE22-BdDrCUb_VG2mOJBoC'}) # replace the id with id of file you want to access\n",
        "downloaded.GetContentFile('breast_cancer.csv')"
      ],
      "execution_count": null,
      "outputs": []
    },
    {
      "cell_type": "code",
      "metadata": {
        "id": "EG5ifCtS-Vys"
      },
      "source": [
        "df_cancer = pd.read_csv(\"breast_cancer.csv\")"
      ],
      "execution_count": null,
      "outputs": []
    },
    {
      "cell_type": "code",
      "metadata": {
        "id": "vesoeDLN-Vv2"
      },
      "source": [
        "df_cancer.info()"
      ],
      "execution_count": null,
      "outputs": []
    },
    {
      "cell_type": "code",
      "metadata": {
        "id": "SjjszfTi-VtE"
      },
      "source": [
        "df_cancer.head()"
      ],
      "execution_count": null,
      "outputs": []
    },
    {
      "cell_type": "code",
      "metadata": {
        "id": "tYTsjjRR-Vp2"
      },
      "source": [
        "df_cancer.drop(df_cancer.columns[df_cancer.columns.str.contains('unnamed',case = False)],axis = 1, inplace = True) # to drop Unnamed column\n"
      ],
      "execution_count": null,
      "outputs": []
    },
    {
      "cell_type": "code",
      "metadata": {
        "id": "j_ui4rKA-Vm2"
      },
      "source": [
        "df_cancer.info()"
      ],
      "execution_count": null,
      "outputs": []
    },
    {
      "cell_type": "code",
      "metadata": {
        "id": "mJS_ejqkAu3G"
      },
      "source": [
        "df_cancer.drop(df_cancer.columns[df_cancer.columns.str.contains('id',case = False)],axis = 1, inplace = True)"
      ],
      "execution_count": null,
      "outputs": []
    },
    {
      "cell_type": "code",
      "metadata": {
        "id": "2N4QRmbGBFYg"
      },
      "source": [
        "df_cancer.shape"
      ],
      "execution_count": null,
      "outputs": []
    },
    {
      "cell_type": "code",
      "metadata": {
        "id": "qZsbDUkbBX83"
      },
      "source": [
        "y = df_cancer['diagnosis']\n",
        "\n"
      ],
      "execution_count": null,
      "outputs": []
    },
    {
      "cell_type": "code",
      "metadata": {
        "id": "xSZVkT75CQus"
      },
      "source": [
        "df_cancer.drop(df_cancer.columns[df_cancer.columns.str.contains('diagnosis',case = False)],axis = 1, inplace = True)"
      ],
      "execution_count": null,
      "outputs": []
    },
    {
      "cell_type": "code",
      "metadata": {
        "id": "_un9T3YZCAWP"
      },
      "source": [
        "x = df_cancer.values"
      ],
      "execution_count": null,
      "outputs": []
    },
    {
      "cell_type": "markdown",
      "metadata": {
        "id": "zaI_vr_3CyXz"
      },
      "source": [
        "**Normalize the data**"
      ]
    },
    {
      "cell_type": "code",
      "metadata": {
        "id": "5zB-vSv6Cbc7"
      },
      "source": [
        "from sklearn.preprocessing import StandardScaler\n",
        "s_scaler = StandardScaler()\n",
        "x = s_scaler.fit_transform(x.astype(np.float))"
      ],
      "execution_count": null,
      "outputs": []
    },
    {
      "cell_type": "code",
      "metadata": {
        "id": "hDeJASzMC6mh"
      },
      "source": [
        "x"
      ],
      "execution_count": null,
      "outputs": []
    },
    {
      "cell_type": "code",
      "metadata": {
        "id": "Asu9HXKEC9Tl"
      },
      "source": [
        "# Splitting the data into train and test cases\n",
        "from sklearn.model_selection import train_test_split\n",
        "train_x_can,test_x_can,train_y_can,test_y_can = train_test_split(x,y,test_size=0.3)"
      ],
      "execution_count": null,
      "outputs": []
    },
    {
      "cell_type": "code",
      "metadata": {
        "id": "PfJSOT53Gp_8"
      },
      "source": [
        "from sklearn.ensemble import RandomForestClassifier\n",
        "rnd_clff = RandomForestClassifier(n_estimators=500,max_leaf_nodes=16,n_jobs=-1)\n",
        "rnd_clff.fit(train_x_can,train_y_can)\n",
        "pred_y_can = rnd_clff.predict(test_x_can)"
      ],
      "execution_count": null,
      "outputs": []
    },
    {
      "cell_type": "code",
      "metadata": {
        "id": "5InA8f6iGp9R"
      },
      "source": [
        "print('mis classified samples %d' % (test_y_can!= pred_y_can).sum())\n"
      ],
      "execution_count": null,
      "outputs": []
    },
    {
      "cell_type": "code",
      "metadata": {
        "id": "qyIoapVHID67"
      },
      "source": [
        "print(accuracy_score(test_y_can,pred_y_can))"
      ],
      "execution_count": null,
      "outputs": []
    },
    {
      "cell_type": "markdown",
      "metadata": {
        "id": "sCPWXokZJQ3h"
      },
      "source": [
        "# let us compare it with Logistic Regression model"
      ]
    },
    {
      "cell_type": "code",
      "metadata": {
        "id": "MHmiuCRYJQBd"
      },
      "source": [
        "from sklearn.linear_model import LogisticRegression\n",
        "import statsmodels.api as sm\n",
        "x1 = sm.add_constant(x)"
      ],
      "execution_count": null,
      "outputs": []
    },
    {
      "cell_type": "code",
      "metadata": {
        "id": "q9JJ_zq2Mk6f"
      },
      "source": [
        "train_x,test_x,train_y,test_y = train_test_split(x1,y,test_size=0.3)\n",
        "model_logitt = LogisticRegression()\n",
        "model_logitt.fit(train_x,train_y)"
      ],
      "execution_count": null,
      "outputs": []
    },
    {
      "cell_type": "code",
      "metadata": {
        "id": "T5swWq2fN2W8"
      },
      "source": [
        "predict_y_can =  model_logitt.predict(test_x)"
      ],
      "execution_count": null,
      "outputs": []
    },
    {
      "cell_type": "code",
      "metadata": {
        "id": "lCjmCJemOhXu"
      },
      "source": [
        "print('mis classified samples %d' % (test_y!= predict_y_can).sum())\n"
      ],
      "execution_count": null,
      "outputs": []
    },
    {
      "cell_type": "code",
      "metadata": {
        "id": "VNC0yN9kN_Hi"
      },
      "source": [
        "print(accuracy_score(test_y,predict_y_can))"
      ],
      "execution_count": null,
      "outputs": []
    },
    {
      "cell_type": "markdown",
      "metadata": {
        "id": "4rY9_Lt479rp"
      },
      "source": [
        "#Ada Boosting in ensemble method "
      ]
    },
    {
      "cell_type": "code",
      "metadata": {
        "id": "KnEX82Ip78pf"
      },
      "source": [
        "# importing required libraries\n",
        "import pandas as pd\n",
        "import numpy as np\n"
      ],
      "execution_count": null,
      "outputs": []
    },
    {
      "cell_type": "code",
      "metadata": {
        "id": "rTGjpuA98Uok"
      },
      "source": [
        "# importing the data sets we will build ada boost on sonar and breast cancer data sets\n",
        "downloaded = drive.CreateFile({'id':'1VoXF_1K2rpfE22-BdDrCUb_VG2mOJBoC'}) # replace the id with id of file you want to access\n",
        "downloaded.GetContentFile('breast_cancer.csv')"
      ],
      "execution_count": null,
      "outputs": []
    },
    {
      "cell_type": "code",
      "metadata": {
        "id": "gO-y0N08_S8H"
      },
      "source": [
        "df_cancer = pd.read_csv(\"breast_cancer.csv\")"
      ],
      "execution_count": null,
      "outputs": []
    },
    {
      "cell_type": "code",
      "metadata": {
        "id": "F1webfUJ_Y78"
      },
      "source": [
        "df_cancer.drop(df_cancer.columns[df_cancer.columns.str.contains('unnamed',case = False)],axis = 1, inplace = True) # to drop Unnamed column\n"
      ],
      "execution_count": null,
      "outputs": []
    },
    {
      "cell_type": "code",
      "metadata": {
        "id": "Fh_g4Xkw_t9k"
      },
      "source": [
        "df_cancer.drop(df_cancer.columns[df_cancer.columns.str.contains('id',case = False)],axis = 1, inplace = True) # to drop Unnamed column\n"
      ],
      "execution_count": null,
      "outputs": []
    },
    {
      "cell_type": "code",
      "metadata": {
        "id": "DdSISxde_xUs"
      },
      "source": [
        "y = df_cancer['diagnosis']"
      ],
      "execution_count": null,
      "outputs": []
    },
    {
      "cell_type": "code",
      "metadata": {
        "id": "TxMTRwfR_1pF"
      },
      "source": [
        "df_cancer.drop(df_cancer.columns[df_cancer.columns.str.contains('diagnosis',case = False)],axis = 1, inplace = True) # to drop Unnamed column\n"
      ],
      "execution_count": null,
      "outputs": []
    },
    {
      "cell_type": "code",
      "metadata": {
        "id": "mY5IamLUARaW"
      },
      "source": [
        "x = df_cancer.values"
      ],
      "execution_count": null,
      "outputs": []
    },
    {
      "cell_type": "code",
      "metadata": {
        "id": "od8WP6gS_7qe"
      },
      "source": [
        "from sklearn.preprocessing import StandardScaler\n",
        "s_scaler = StandardScaler()\n",
        "x = s_scaler.fit_transform(x.astype(np.float))"
      ],
      "execution_count": null,
      "outputs": []
    },
    {
      "cell_type": "code",
      "metadata": {
        "id": "RzI38e3BAXHA"
      },
      "source": [
        "# Splitting the data into train and test cases\n",
        "from sklearn.model_selection import train_test_split\n",
        "train_x_can,test_x_can,train_y_can,test_y_can = train_test_split(x,y,test_size=0.3,stratify=y) # stratify make sure that labels of differnt classes should\n",
        "# be in equal proportions in train and test cases"
      ],
      "execution_count": null,
      "outputs": []
    },
    {
      "cell_type": "code",
      "metadata": {
        "id": "pskKXc5gAfIm"
      },
      "source": [
        "# import Ada Boost Classsifier\n",
        "from sklearn.ensemble import AdaBoostClassifier\n",
        "# creating an Ada Boost instance\n",
        "clf = AdaBoostClassifier(random_state=96)\n",
        "# training a model\n",
        "clf.fit(train_x_can,train_y_can)\n",
        "pred_y_cann = clf.predict(test_x_can)\n"
      ],
      "execution_count": null,
      "outputs": []
    },
    {
      "cell_type": "code",
      "metadata": {
        "id": "xkYQtJ0Jqg0Z"
      },
      "source": [
        "print('mis classified samples %d' % (test_y_can!= pred_y_cann).sum())\n"
      ],
      "execution_count": null,
      "outputs": []
    },
    {
      "cell_type": "code",
      "metadata": {
        "id": "l_i1exynqq3K"
      },
      "source": [
        "print(accuracy_score(test_y_can,pred_y_cann))"
      ],
      "execution_count": null,
      "outputs": []
    },
    {
      "cell_type": "markdown",
      "metadata": {
        "id": "kz2gmWQ9CGZl"
      },
      "source": [
        "**Hyper Parameter Tunning**\n",
        "1. base_estimator : To estimate the base model to ensemble. Default is decision tree.\n",
        "2. n_estimator: Total number of decision trees\n",
        "3. learning_rate: Shrinks the contribution of each  classifier by this value\n",
        "4. random_state : the random number is generated every time for fully randomized data"
      ]
    },
    {
      "cell_type": "markdown",
      "metadata": {
        "id": "hA5SLLDyHk7c"
      },
      "source": [
        "**Test Case2 : Ada Boost Algorithm**"
      ]
    },
    {
      "cell_type": "markdown",
      "metadata": {
        "id": "lpMIOOL1sk7x"
      },
      "source": [
        "# Gradient Boosting\n"
      ]
    },
    {
      "cell_type": "markdown",
      "metadata": {
        "id": "0Hf1lyEjIBxA"
      },
      "source": [
        "In order to build Gradient Boosted Rgression trees we need to build Decision trees as as base estimators.\n",
        "And this time we will going to use Decision tree Reggressor as the base class\n",
        "The data which we will going to use is Advance housing data set\n",
        "In this data set for the simplicity sake i will use only very selected columns as features."
      ]
    },
    {
      "cell_type": "code",
      "metadata": {
        "id": "8WEZ2nhaJTos"
      },
      "source": [
        "downloaded1 = drive.CreateFile({'id':'1tjcFues4HPvl_EwxfDjF1HZZ7CnpOCUr'}) # replace the id with id of file you want to access\n",
        "downloaded1.GetContentFile('train.csv')"
      ],
      "execution_count": null,
      "outputs": []
    },
    {
      "cell_type": "code",
      "metadata": {
        "id": "ISgfNUMKJVWW"
      },
      "source": [
        "downloaded2 = drive.CreateFile({'id':'1y5saFcxtClJzpbVvK_r_tVl1-B-fYnPn'}) # replace the id with id of file you want to access\n",
        "downloaded2.GetContentFile('test.csv')"
      ],
      "execution_count": null,
      "outputs": []
    },
    {
      "cell_type": "code",
      "metadata": {
        "id": "3S90U_EzJaG-"
      },
      "source": [
        "import numpy as np\n",
        "%matplotlib inline\n",
        "from matplotlib import pyplot as plt\n",
        "import pandas as pd \n",
        "import io\n",
        "from google.colab import files\n",
        "import math\n",
        "import seaborn as sns\n",
        "#from sklearn.preprocessing import Imputer\n",
        "from sklearn.metrics import precision_recall_fscore_support, roc_curve, auc,mean_squared_error\n",
        "# Managing Warnings \n",
        "import warnings\n",
        "warnings.filterwarnings('ignore')\n",
        "#statistics package\n",
        "import statsmodels.formula.api as sm\n",
        "from sklearn.linear_model import LinearRegression\n",
        "from scipy import stats\n",
        "from sklearn.metrics import mean_squared_error\n",
        "from sklearn.model_selection import train_test_split\n",
        "import statsmodels.api as s"
      ],
      "execution_count": null,
      "outputs": []
    },
    {
      "cell_type": "code",
      "metadata": {
        "id": "RWLNjgirJdKA"
      },
      "source": [
        "train_house = pd.read_csv(\"train.csv\")\n",
        "train_house.head()"
      ],
      "execution_count": null,
      "outputs": []
    },
    {
      "cell_type": "code",
      "metadata": {
        "id": "XDJIAXGoJnbe"
      },
      "source": [
        "df_selected = train_house.loc[:,['MSSubClass','LotArea','BsmtFullBath','BsmtHalfBath','HalfBath','Fireplaces','WoodDeckSF','OpenPorchSF','EnclosedPorch']]"
      ],
      "execution_count": null,
      "outputs": []
    },
    {
      "cell_type": "code",
      "metadata": {
        "id": "ILBmqrx5KWtD"
      },
      "source": [
        "# scaling of the data\n",
        "for column in df_selected.columns:\n",
        "    df_selected[column] = df_selected[column]  / df_selected[column].abs().max()"
      ],
      "execution_count": null,
      "outputs": []
    },
    {
      "cell_type": "code",
      "metadata": {
        "id": "GK38u7vOKdNy"
      },
      "source": [
        "x = df_selected.values"
      ],
      "execution_count": null,
      "outputs": []
    },
    {
      "cell_type": "code",
      "metadata": {
        "id": "yrVkcRejKnMt"
      },
      "source": [
        "y = train_house['SalePrice']"
      ],
      "execution_count": null,
      "outputs": []
    },
    {
      "cell_type": "code",
      "metadata": {
        "id": "U42rnHHGKiux"
      },
      "source": [
        "y1 = np.log(y)"
      ],
      "execution_count": null,
      "outputs": []
    },
    {
      "cell_type": "code",
      "metadata": {
        "id": "NGkmRJ-ALBf8"
      },
      "source": [
        "train_x,test_x,train_y,test_y = train_test_split(x,y1,test_size=0.3)"
      ],
      "execution_count": null,
      "outputs": []
    },
    {
      "cell_type": "code",
      "metadata": {
        "id": "ZPQdqSWGskJ1"
      },
      "source": [
        "from sklearn.tree import DecisionTreeRegressor\n",
        "tree_reg1 =  DecisionTreeRegressor(max_depth=2)\n",
        "tree_reg1.fit(train_x,train_y)"
      ],
      "execution_count": null,
      "outputs": []
    },
    {
      "cell_type": "code",
      "metadata": {
        "id": "ci8sBhtBviEE"
      },
      "source": [
        "#Now Train a second classifier based on residual error\n",
        "y2 = train_y-tree_reg1.predict(train_x)"
      ],
      "execution_count": null,
      "outputs": []
    },
    {
      "cell_type": "code",
      "metadata": {
        "id": "DDxtHXGqwBXq"
      },
      "source": [
        "tree_reg2 = DecisionTreeRegressor(max_depth=2)\n",
        "tree_reg2.fit(train_x,y2)\n"
      ],
      "execution_count": null,
      "outputs": []
    },
    {
      "cell_type": "code",
      "metadata": {
        "id": "ydzkBaziwm0N"
      },
      "source": [
        "# train again on the residual\n",
        "y3 = y2-tree_reg2.predict(train_x)\n",
        "tree_reg3 = DecisionTreeRegressor(max_depth=2)\n",
        "tree_reg3.fit(train_x,y3)"
      ],
      "execution_count": null,
      "outputs": []
    },
    {
      "cell_type": "code",
      "metadata": {
        "id": "8gi5Xyny1p24"
      },
      "source": [
        "pred_y = sum(tree.predict(test_x) for tree in(tree_reg1,tree_reg2,tree_reg3))"
      ],
      "execution_count": null,
      "outputs": []
    },
    {
      "cell_type": "code",
      "metadata": {
        "id": "XS4gognf6-PY"
      },
      "source": [
        "def mse_rand(test_y,pred_y):\n",
        "  err = test_y-pred_y\n",
        "  sq = sum(err**2)\n",
        "  return sq"
      ],
      "execution_count": null,
      "outputs": []
    },
    {
      "cell_type": "code",
      "metadata": {
        "id": "sSkYl9Fr4u9m"
      },
      "source": [
        "def gradient_boosting(train_x,train_y,test_x,test_y):\n",
        "  tree_reg = DecisionTreeRegressor(max_depth=2)\n",
        "  y = train_y\n",
        "  l = []\n",
        "  for i in range(5):\n",
        "    y1 = y-tree_reg2.predict(train_x)\n",
        "    tree_reg = DecisionTreeRegressor(max_depth=2)\n",
        "    tree_reg.fit(train_x,y1)\n",
        "    y = y1\n",
        "    l.append(tree_reg)\n",
        "    #print(l)\n",
        "    pred_y = sum(tree.predict(test_x) for tree in l)\n",
        "\n",
        "\n",
        "\n"
      ],
      "execution_count": null,
      "outputs": []
    },
    {
      "cell_type": "code",
      "metadata": {
        "id": "4MdPho8N6Gph"
      },
      "source": [
        "gradient_boosting(train_x,train_y,test_x,test_y)"
      ],
      "execution_count": null,
      "outputs": []
    },
    {
      "cell_type": "code",
      "metadata": {
        "id": "5O1giHzV2K_t"
      },
      "source": [
        "print(len(pred_y),len(test_y))"
      ],
      "execution_count": null,
      "outputs": []
    },
    {
      "cell_type": "markdown",
      "metadata": {
        "id": "mHPxQ7Udj3Y5"
      },
      "source": [
        "#Gradient Boosting"
      ]
    },
    {
      "cell_type": "code",
      "metadata": {
        "id": "pR7hqVWImEns"
      },
      "source": [
        "# staged_predict() method is used to implement Early Stopping \n",
        "# this method return iterator over the number of decision trees in an esemble\n",
        "# in this ensemble we have 120 trees and finally trains another GBRT ensemble using optimal number of decision trees\n",
        "import numpy as np\n",
        "from sklearn.metrics import mean_squared_error\n"
      ],
      "execution_count": null,
      "outputs": []
    },
    {
      "cell_type": "code",
      "metadata": {
        "id": "wUr-ph_dhMKY"
      },
      "source": [
        "from sklearn.ensemble import GradientBoostingRegressor\n",
        "gbrt = GradientBoostingRegressor(max_depth=2, n_estimators=120, learning_rate=1.0)\n",
        "gbrt.fit(train_x,train_y)"
      ],
      "execution_count": null,
      "outputs": []
    },
    {
      "cell_type": "code",
      "metadata": {
        "id": "9OzRbOfOo0wb"
      },
      "source": [
        "g= gbrt.staged_predict(train_x)\n",
        "print(x)"
      ],
      "execution_count": null,
      "outputs": []
    },
    {
      "cell_type": "markdown",
      "metadata": {
        "id": "g4h3ZJu7pOzd"
      },
      "source": [
        "staged predict is a very important utility in determining best possible number of decision tress in a random forest it return that number of possible estimation of trees"
      ]
    },
    {
      "cell_type": "code",
      "metadata": {
        "id": "uM1sCjXwnNwe"
      },
      "source": [
        "error = [mean_squared_error(train_y,y_pred_t) for y_pred_t in gbrt.staged_predict(train_x)] \n",
        "bst_n_est = np.argmin(error)"
      ],
      "execution_count": null,
      "outputs": []
    },
    {
      "cell_type": "code",
      "metadata": {
        "id": "iPh86KaaoNRl"
      },
      "source": [
        "bst_n_est"
      ],
      "execution_count": null,
      "outputs": []
    },
    {
      "cell_type": "code",
      "metadata": {
        "id": "f5yZe2QxoQQI"
      },
      "source": [
        "gbrt_best = GradientBoostingRegressor(max_depth=2, n_estimators=bst_n_est)\n",
        "gbrt_best.fit(train_x,train_y)"
      ],
      "execution_count": null,
      "outputs": []
    },
    {
      "cell_type": "code",
      "metadata": {
        "id": "lk_AUJEMoeWO"
      },
      "source": [
        "pred_y_gbrt = gbrt_best.predict(test_x)"
      ],
      "execution_count": null,
      "outputs": []
    },
    {
      "cell_type": "code",
      "metadata": {
        "id": "1HcvJWlmqdNI"
      },
      "source": [
        "mean_squared_error(test_y,pred_y_gbrt)"
      ],
      "execution_count": null,
      "outputs": []
    },
    {
      "cell_type": "markdown",
      "source": [
        "# Heart Disease Prediction"
      ],
      "metadata": {
        "id": "lOGC18i0eNgD"
      }
    },
    {
      "cell_type": "code",
      "source": [
        "!pip install -U -q PyDrive\n",
        "from pydrive.auth import GoogleAuth\n",
        "from pydrive.drive import GoogleDrive\n",
        "from google.colab import auth\n",
        "from oauth2client.client import GoogleCredentials"
      ],
      "metadata": {
        "id": "dH9XF3C5b8vj"
      },
      "execution_count": null,
      "outputs": []
    },
    {
      "cell_type": "code",
      "source": [
        "auth.authenticate_user()\n",
        "gauth = GoogleAuth()\n",
        "gauth.credentials = GoogleCredentials.get_application_default()\n",
        "drive = GoogleDrive(gauth)"
      ],
      "metadata": {
        "id": "GIKDTZ6Xb9ne"
      },
      "execution_count": null,
      "outputs": []
    },
    {
      "cell_type": "code",
      "metadata": {
        "id": "Tk6sVb6FqmQy"
      },
      "source": [
        "downloaded1 = drive.CreateFile({'id':'1exm-YLo7NqThHHzIQoVi3J2nxuD9qGWL'}) # replace the id with id of file you want to access\n",
        "downloaded1.GetContentFile('heart_disease.csv')"
      ],
      "execution_count": null,
      "outputs": []
    },
    {
      "cell_type": "code",
      "source": [
        "import random\n",
        "import matplotlib.pyplot as plt\n",
        "import seaborn as sns\n",
        "from sklearn.preprocessing import MinMaxScaler\n",
        "from sklearn.metrics import mean_squared_error,precision_score,accuracy_score\n",
        "from sklearn.linear_model import LinearRegression,LogisticRegression\n",
        "import pandas as pd\n",
        "from sklearn.model_selection import train_test_split\n"
      ],
      "metadata": {
        "id": "OrZENyBme3AO"
      },
      "execution_count": null,
      "outputs": []
    },
    {
      "cell_type": "code",
      "source": [
        "df_heart = pd.read_csv('heart_disease.csv')"
      ],
      "metadata": {
        "id": "4jj2cfgdeowF"
      },
      "execution_count": null,
      "outputs": []
    },
    {
      "cell_type": "code",
      "source": [
        "df_heart.shape"
      ],
      "metadata": {
        "id": "08OgBt_ZfZ5g"
      },
      "execution_count": null,
      "outputs": []
    },
    {
      "cell_type": "code",
      "source": [
        "df_heart.info()"
      ],
      "metadata": {
        "id": "T5AqN-UcfubQ"
      },
      "execution_count": null,
      "outputs": []
    },
    {
      "cell_type": "code",
      "source": [
        "df_heart"
      ],
      "metadata": {
        "id": "RiCs8oZSi5L_"
      },
      "execution_count": null,
      "outputs": []
    },
    {
      "cell_type": "code",
      "source": [
        "# continuos variable\n",
        "cont_var = ['RestingBP','Cholesterol','FastingBS','MaxHR','Oldpeak']\n",
        "df_heart1 = df_heart[cont_var]"
      ],
      "metadata": {
        "id": "w2yxYht7hxCM"
      },
      "execution_count": null,
      "outputs": []
    },
    {
      "cell_type": "code",
      "source": [
        "df_heart1.corr()"
      ],
      "metadata": {
        "id": "_fEXtRbAm6Pa"
      },
      "execution_count": null,
      "outputs": []
    },
    {
      "cell_type": "markdown",
      "source": [
        "# Data Visualization"
      ],
      "metadata": {
        "id": "DYcj9T0jbc0T"
      }
    },
    {
      "cell_type": "code",
      "source": [
        "# data visualization or eda\n",
        "# 1. data cleaning (removing NAN or special character from data)\n",
        "sns.barplot(x = 'HeartDisease',y='RestingBP',data=df_heart )"
      ],
      "metadata": {
        "id": "cpMiRug5gf8Z"
      },
      "execution_count": null,
      "outputs": []
    },
    {
      "cell_type": "code",
      "source": [
        "sns.barplot(x = 'ChestPainType',y = 'RestingBP',data=df_heart )"
      ],
      "metadata": {
        "id": "6aAheR4qbbFa"
      },
      "execution_count": null,
      "outputs": []
    },
    {
      "cell_type": "code",
      "source": [
        "sns.barplot(x = 'ChestPainType',y = 'Cholesterol',data=df_heart )"
      ],
      "metadata": {
        "id": "E6mpB2L0cmf6"
      },
      "execution_count": null,
      "outputs": []
    },
    {
      "cell_type": "code",
      "source": [
        "sns.boxplot(x = 'ChestPainType',y = 'Cholesterol',data=df_heart )"
      ],
      "metadata": {
        "id": "8kFrYnDIdce0"
      },
      "execution_count": null,
      "outputs": []
    },
    {
      "cell_type": "code",
      "source": [
        "sns.boxplot(x = 'ChestPainType',y = 'RestingBP',data=df_heart )"
      ],
      "metadata": {
        "id": "OzVmP8GOdvyI"
      },
      "execution_count": null,
      "outputs": []
    },
    {
      "cell_type": "code",
      "source": [
        "sns.barplot(x = 'ChestPainType',y = 'MaxHR',data=df_heart )"
      ],
      "metadata": {
        "id": "UlDfLHSJd2gM"
      },
      "execution_count": null,
      "outputs": []
    },
    {
      "cell_type": "code",
      "source": [
        "sns.boxplot(x = 'ChestPainType',y = 'RestingBP',data=df_heart )"
      ],
      "metadata": {
        "id": "SqFPtnoLeBIk"
      },
      "execution_count": null,
      "outputs": []
    },
    {
      "cell_type": "code",
      "source": [
        "#distribution plot\n",
        "sns.displot(x='RestingBP',data=df_heart )"
      ],
      "metadata": {
        "id": "-X2lU85keEvt"
      },
      "execution_count": null,
      "outputs": []
    },
    {
      "cell_type": "code",
      "source": [
        "sns.histplot(x='RestingBP',data=df_heart,kde=True )"
      ],
      "metadata": {
        "id": "AACmuqvXedzu"
      },
      "execution_count": null,
      "outputs": []
    },
    {
      "cell_type": "code",
      "source": [
        "sns.displot(x='Cholesterol',data=df_heart )"
      ],
      "metadata": {
        "id": "HSMIB2AOen2e"
      },
      "execution_count": null,
      "outputs": []
    },
    {
      "cell_type": "code",
      "source": [
        "sns.histplot(x='Cholesterol',data=df_heart,kde=True )"
      ],
      "metadata": {
        "id": "PO5HfPpeepJ_"
      },
      "execution_count": null,
      "outputs": []
    },
    {
      "cell_type": "code",
      "source": [
        "sns.displot(x='FastingBS',data=df_heart )"
      ],
      "metadata": {
        "id": "1F_z1U8devXR"
      },
      "execution_count": null,
      "outputs": []
    },
    {
      "cell_type": "code",
      "source": [
        "sns.histplot(x='FastingBS',data=df_heart,kde=True )"
      ],
      "metadata": {
        "id": "ZnIxj9bKewoO"
      },
      "execution_count": null,
      "outputs": []
    },
    {
      "cell_type": "code",
      "source": [
        "sns.displot(x='MaxHR',data=df_heart )"
      ],
      "metadata": {
        "id": "7GOl4kMbe1DW"
      },
      "execution_count": null,
      "outputs": []
    },
    {
      "cell_type": "code",
      "source": [
        "sns.histplot(x='MaxHR',data=df_heart,kde=True )"
      ],
      "metadata": {
        "id": "FKtRGnpye2In"
      },
      "execution_count": null,
      "outputs": []
    },
    {
      "cell_type": "code",
      "source": [
        "df_heart.corr()"
      ],
      "metadata": {
        "id": "n4pkOKg1fBLH"
      },
      "execution_count": null,
      "outputs": []
    },
    {
      "cell_type": "code",
      "source": [
        "df_heart.describe()"
      ],
      "metadata": {
        "id": "CfK7oy-dfJjw"
      },
      "execution_count": null,
      "outputs": []
    },
    {
      "cell_type": "code",
      "source": [
        "sns.barplot(y = 'Cholesterol',x= 'HeartDisease',data=df_heart,hue='ChestPainType')"
      ],
      "metadata": {
        "id": "071nxKSafM-A"
      },
      "execution_count": null,
      "outputs": []
    },
    {
      "cell_type": "code",
      "source": [
        "sns.barplot(y = 'Cholesterol',x= 'HeartDisease',data=df_heart,hue='RestingECG')"
      ],
      "metadata": {
        "id": "sP2GFL5TgHjS"
      },
      "execution_count": null,
      "outputs": []
    },
    {
      "cell_type": "code",
      "source": [
        "sns.barplot(y = 'Cholesterol',x= 'HeartDisease',data=df_heart,hue='ExerciseAngina')"
      ],
      "metadata": {
        "id": "UWiN6FRogTwZ"
      },
      "execution_count": null,
      "outputs": []
    },
    {
      "cell_type": "code",
      "source": [
        "sns.barplot(y = 'Cholesterol',x= 'HeartDisease',data=df_heart,hue='ST_Slope')"
      ],
      "metadata": {
        "id": "hnKtXKCnga9G"
      },
      "execution_count": null,
      "outputs": []
    },
    {
      "cell_type": "code",
      "source": [
        "# some scatter plots between continuos values"
      ],
      "metadata": {
        "id": "Selyzs2SgPWp"
      },
      "execution_count": null,
      "outputs": []
    },
    {
      "cell_type": "code",
      "source": [
        "df_heart1.shape"
      ],
      "metadata": {
        "id": "00x_YSPB1OG2"
      },
      "execution_count": null,
      "outputs": []
    },
    {
      "cell_type": "code",
      "source": [
        "df_heart1['ChestPainType'] = df_heart.loc[:,'ChestPainType']\n"
      ],
      "metadata": {
        "id": "czP6tmyoUeC1"
      },
      "execution_count": null,
      "outputs": []
    },
    {
      "cell_type": "code",
      "source": [
        "# one hot encoding using pd.getdummies()\n",
        "one_hot_encoded_data = pd.get_dummies(df_heart1,columns = ['ChestPainType'])\n"
      ],
      "metadata": {
        "id": "OTDAiINaUDoA"
      },
      "execution_count": null,
      "outputs": []
    },
    {
      "cell_type": "code",
      "source": [
        "print(one_hot_encoded_data.shape)"
      ],
      "metadata": {
        "id": "aVJqiE9DUiVB"
      },
      "execution_count": null,
      "outputs": []
    },
    {
      "cell_type": "code",
      "source": [
        "df_heart1"
      ],
      "metadata": {
        "id": "maD97Vm54odt"
      },
      "execution_count": null,
      "outputs": []
    },
    {
      "cell_type": "code",
      "source": [
        "df_heart1['ChestPainType'].value_counts()"
      ],
      "metadata": {
        "id": "XVMp-VYB4zGL"
      },
      "execution_count": null,
      "outputs": []
    },
    {
      "cell_type": "code",
      "source": [
        "# Label Encoder()\n",
        "from sklearn.preprocessing import LabelEncoder\n",
        "lbl = LabelEncoder()\n",
        "df2 = df_heart1.apply(lbl.fit_transform)\n"
      ],
      "metadata": {
        "id": "6Gy_mHiEXcXR"
      },
      "execution_count": null,
      "outputs": []
    },
    {
      "cell_type": "code",
      "source": [
        "df2"
      ],
      "metadata": {
        "id": "8SimBCBtYPx1"
      },
      "execution_count": null,
      "outputs": []
    },
    {
      "cell_type": "code",
      "source": [
        "# one hot encoding\n",
        "from sklearn.preprocessing import OneHotEncoder\n",
        "ohc = OneHotEncoder()\n",
        "encoded = ohc.fit_transform(df2).toarray()\n",
        "\n"
      ],
      "metadata": {
        "id": "UV3sdRCUgsjU"
      },
      "execution_count": null,
      "outputs": []
    },
    {
      "cell_type": "code",
      "source": [
        "encoded.shape"
      ],
      "metadata": {
        "id": "NRqBgdHZZD--"
      },
      "execution_count": null,
      "outputs": []
    },
    {
      "cell_type": "code",
      "source": [
        "encoded"
      ],
      "metadata": {
        "id": "4umOsC2oZtCp"
      },
      "execution_count": null,
      "outputs": []
    },
    {
      "cell_type": "code",
      "source": [
        "df_heart1"
      ],
      "metadata": {
        "id": "XfMUvuaq1ZrB"
      },
      "execution_count": null,
      "outputs": []
    },
    {
      "cell_type": "code",
      "source": [
        "df_heart_dummy = ohc.fit_transform(df_heart1)"
      ],
      "metadata": {
        "id": "BANFLmuv04XH"
      },
      "execution_count": null,
      "outputs": []
    },
    {
      "cell_type": "code",
      "source": [
        "df_heart_dummy.shape"
      ],
      "metadata": {
        "id": "6uAb5m-IhAts"
      },
      "execution_count": null,
      "outputs": []
    },
    {
      "cell_type": "code",
      "source": [
        "# selecting categorical variables\n",
        "#checking features\n",
        "cat = df_heart.select_dtypes(include='O').keys()\n",
        "print(cat)"
      ],
      "metadata": {
        "id": "pn_YsDc0aLRK"
      },
      "execution_count": null,
      "outputs": []
    },
    {
      "cell_type": "code",
      "source": [
        "# creating categorical data frame\n",
        "new_df = pd.read_csv('heart_disease.csv',usecols=cat)"
      ],
      "metadata": {
        "id": "TrXuXr10akOP"
      },
      "execution_count": null,
      "outputs": []
    },
    {
      "cell_type": "code",
      "source": [
        "new_df"
      ],
      "metadata": {
        "id": "qocL5KFmbH1c"
      },
      "execution_count": null,
      "outputs": []
    },
    {
      "cell_type": "code",
      "source": [
        "new_lbl= new_df.apply(lbl.fit_transform)\n"
      ],
      "metadata": {
        "id": "9AAzKgHvbKPM"
      },
      "execution_count": null,
      "outputs": []
    },
    {
      "cell_type": "code",
      "source": [
        "new_lbl"
      ],
      "metadata": {
        "id": "OCA2Isghbfe4"
      },
      "execution_count": null,
      "outputs": []
    },
    {
      "cell_type": "code",
      "source": [
        "new_lbl_ohc = ohc.fit_transform(new_lbl)"
      ],
      "metadata": {
        "id": "Diw9-WCGbiZK"
      },
      "execution_count": null,
      "outputs": []
    },
    {
      "cell_type": "code",
      "source": [
        "new_lbl_ohc.shape"
      ],
      "metadata": {
        "id": "EAY49uFtbzDo"
      },
      "execution_count": null,
      "outputs": []
    },
    {
      "cell_type": "code",
      "source": [
        "cat_data = new_lbl_ohc.toarray()"
      ],
      "metadata": {
        "id": "QRPE5G-cb53H"
      },
      "execution_count": null,
      "outputs": []
    },
    {
      "cell_type": "code",
      "source": [
        "cat_data"
      ],
      "metadata": {
        "id": "xKe4QgErwVay"
      },
      "execution_count": null,
      "outputs": []
    },
    {
      "cell_type": "markdown",
      "source": [
        "# normalization of the data"
      ],
      "metadata": {
        "id": "gYh8kXxm1qvn"
      }
    },
    {
      "cell_type": "code",
      "source": [
        "from sklearn.preprocessing import StandardScaler"
      ],
      "metadata": {
        "id": "SxD6kDow1ylK"
      },
      "execution_count": null,
      "outputs": []
    },
    {
      "cell_type": "code",
      "source": [
        "sc_heart = StandardScaler()"
      ],
      "metadata": {
        "id": "X94fkJrBhE1e"
      },
      "execution_count": null,
      "outputs": []
    },
    {
      "cell_type": "code",
      "source": [
        "df_continuos = df_heart.loc[:,cont_var]"
      ],
      "metadata": {
        "id": "3qaAr1or2CFB"
      },
      "execution_count": null,
      "outputs": []
    },
    {
      "cell_type": "code",
      "source": [
        "df_continuos"
      ],
      "metadata": {
        "id": "ysLNvTjBBFza"
      },
      "execution_count": null,
      "outputs": []
    },
    {
      "cell_type": "code",
      "source": [
        "heart1 = sc_heart.fit_transform(df_continuos)"
      ],
      "metadata": {
        "id": "jTKZUIG815ng"
      },
      "execution_count": null,
      "outputs": []
    },
    {
      "cell_type": "code",
      "source": [
        "heart1"
      ],
      "metadata": {
        "id": "_6aKmaSm2P_x"
      },
      "execution_count": null,
      "outputs": []
    },
    {
      "cell_type": "code",
      "source": [
        "from pandas import DataFrame"
      ],
      "metadata": {
        "id": "Z6klx1NgnuVJ"
      },
      "execution_count": null,
      "outputs": []
    },
    {
      "cell_type": "code",
      "source": [
        "df_heart_1_norm = DataFrame(columns=cont_var,data=heart1)"
      ],
      "metadata": {
        "id": "drCqRSQBnZRC"
      },
      "execution_count": null,
      "outputs": []
    },
    {
      "cell_type": "code",
      "source": [
        "from statsmodels.stats.outliers_influence import variance_inflation_factor\n",
        "\n",
        "vif_data = pd.DataFrame()\n",
        "x = df_heart_1_norm\n",
        "vif_data[\"feature\"] = df_heart_1_norm.columns\n",
        "vif_data['VIF'] = [variance_inflation_factor(x.values,i) for i in range(len(x.columns))]\n",
        "vif_data"
      ],
      "metadata": {
        "id": "8t_m8uusnG6_"
      },
      "execution_count": null,
      "outputs": []
    },
    {
      "cell_type": "code",
      "source": [
        "from sklearn.linear_model import LogisticRegression\n",
        "logit_mdl = LogisticRegression()\n",
        "y = df_heart['HeartDisease'] # target value\n",
        "train_x_hrt,test_x_hrt,train_y_hrt,test_y_hrt = train_test_split(heart1,y)\n",
        "\n"
      ],
      "metadata": {
        "id": "RqpBkcjouxKV"
      },
      "execution_count": null,
      "outputs": []
    },
    {
      "cell_type": "code",
      "source": [
        "print(y) # 0: no heart disease 1: heart disease"
      ],
      "metadata": {
        "id": "ZiW6sg-F-tus"
      },
      "execution_count": null,
      "outputs": []
    },
    {
      "cell_type": "code",
      "source": [
        "logit_mdl.fit(train_x_hrt,train_y_hrt)"
      ],
      "metadata": {
        "id": "_V1bTVWfvxR6"
      },
      "execution_count": null,
      "outputs": []
    },
    {
      "cell_type": "code",
      "source": [
        "y_pred_hrt = logit_mdl.predict(test_x_hrt)"
      ],
      "metadata": {
        "id": "ycp6RDSzw-6u"
      },
      "execution_count": null,
      "outputs": []
    },
    {
      "cell_type": "code",
      "source": [
        "print('mis classified samples %d' % (test_y_hrt!= y_pred_hrt).sum())\n"
      ],
      "metadata": {
        "id": "X_h7NdjWv7j0"
      },
      "execution_count": null,
      "outputs": []
    },
    {
      "cell_type": "code",
      "source": [
        "from sklearn.metrics import confusion_matrix,accuracy_score\n",
        "from sklearn.metrics import classification_report\n",
        "import numpy as np\n",
        "\n",
        "print(confusion_matrix(test_y_hrt,np.array(y_pred_hrt)))"
      ],
      "metadata": {
        "id": "fjNw3V61wYJN"
      },
      "execution_count": null,
      "outputs": []
    },
    {
      "cell_type": "code",
      "source": [
        "print(accuracy_score(test_y_hrt,np.array(y_pred_hrt)))"
      ],
      "metadata": {
        "id": "0i0wxdybxnbz"
      },
      "execution_count": null,
      "outputs": []
    },
    {
      "cell_type": "code",
      "source": [
        "logit_mdl_category = LogisticRegression() # model initialaizer\n",
        "train_x1_hrt,test_x1_hrt,train_y1_hrt,test_y1_hrt = train_test_split(cat_data,y,test_size=0.3)\n"
      ],
      "metadata": {
        "id": "ij4au15S9PnX"
      },
      "execution_count": null,
      "outputs": []
    },
    {
      "cell_type": "code",
      "source": [
        "print(train_x1_hrt)"
      ],
      "metadata": {
        "id": "d54bXxS6_dba"
      },
      "execution_count": null,
      "outputs": []
    },
    {
      "cell_type": "code",
      "source": [
        "logit_mdl_category.fit(train_x1_hrt,train_y1_hrt) # model fitting or training the machine"
      ],
      "metadata": {
        "id": "vmMQ2K9z9sMw"
      },
      "execution_count": null,
      "outputs": []
    },
    {
      "cell_type": "code",
      "source": [
        "pred_y  = logit_mdl_category.predict(test_x1_hrt)"
      ],
      "metadata": {
        "id": "tUl8zJ_X914y"
      },
      "execution_count": null,
      "outputs": []
    },
    {
      "cell_type": "code",
      "source": [
        "print(pred_y)"
      ],
      "metadata": {
        "id": "hDOevo02ABK3"
      },
      "execution_count": null,
      "outputs": []
    },
    {
      "cell_type": "code",
      "source": [
        "print(len(test_y1_hrt))"
      ],
      "metadata": {
        "id": "M1ffaOcIAFWe"
      },
      "execution_count": null,
      "outputs": []
    },
    {
      "cell_type": "code",
      "source": [
        "print('mis classified samples %d' % (test_y1_hrt!= pred_y).sum())\n"
      ],
      "metadata": {
        "id": "KnXWKbQyAKrH"
      },
      "execution_count": null,
      "outputs": []
    },
    {
      "cell_type": "code",
      "source": [
        "print(accuracy_score(test_y1_hrt,pred_y))"
      ],
      "metadata": {
        "id": "EY_HaQQFAo-f"
      },
      "execution_count": null,
      "outputs": []
    },
    {
      "cell_type": "markdown",
      "source": [
        "# merging two list"
      ],
      "metadata": {
        "id": "C93zhPOBuidG"
      }
    },
    {
      "cell_type": "code",
      "source": [
        "# heart1 :  continuos data\n",
        "# cat_data : categorical data\n",
        "arr = np.concatenate((heart1,cat_data),axis=1)"
      ],
      "metadata": {
        "id": "BKxt9Q0rveNR"
      },
      "execution_count": null,
      "outputs": []
    },
    {
      "cell_type": "code",
      "source": [
        "arr"
      ],
      "metadata": {
        "id": "tz_tVF31EXhj"
      },
      "execution_count": null,
      "outputs": []
    }
  ]
}